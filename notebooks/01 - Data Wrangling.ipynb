{
 "cells": [
  {
   "cell_type": "markdown",
   "id": "5d307880",
   "metadata": {},
   "source": [
    "# Data Wrangling"
   ]
  },
  {
   "cell_type": "markdown",
   "id": "053499b6",
   "metadata": {},
   "source": [
    "## 1.0 Importing packages and data"
   ]
  },
  {
   "cell_type": "code",
   "execution_count": 1,
   "id": "72b71719",
   "metadata": {},
   "outputs": [],
   "source": [
    "import pandas as pd\n",
    "import numpy as np\n",
    "import io\n",
    "import os"
   ]
  },
  {
   "cell_type": "code",
   "execution_count": null,
   "id": "190f19db",
   "metadata": {},
   "outputs": [],
   "source": [
    "np.random.seed(132)"
   ]
  },
  {
   "cell_type": "code",
   "execution_count": 2,
   "id": "43eab28c",
   "metadata": {},
   "outputs": [],
   "source": [
    "# Images of each defect are stored in seperate folders\n",
    "# Consolidating them into single DataFrame\n",
    "\n",
    "# General path\n",
    "path = '/Users/chinmayasukumar/Documents/Springboard/Capstone-3_Classifying_Steel_Defects/data/raw/'\n",
    "\n",
    "# Folder of each defect type\n",
    "folder = ['Crazing', 'Inclusions', 'Patches', 'Pitted', 'Rolled', 'Scratches']\n",
    "\n",
    "# Creating interim DataFrame for images of each defect type prior to consolidation\n",
    "df = pd.DataFrame()\n",
    "super_df = pd.DataFrame()\n",
    "\n",
    "# Looping through image folders and adding them to \"super_df\"\n",
    "for i in folder:\n",
    "    filenames = os.listdir(path+i)\n",
    "    df = pd.DataFrame({'Filename': filenames, 'Type':i})\n",
    "    super_df = pd.concat([super_df, df])"
   ]
  },
  {
   "cell_type": "code",
   "execution_count": 3,
   "id": "745ab2b4",
   "metadata": {},
   "outputs": [
    {
     "data": {
      "text/html": [
       "<div>\n",
       "<style scoped>\n",
       "    .dataframe tbody tr th:only-of-type {\n",
       "        vertical-align: middle;\n",
       "    }\n",
       "\n",
       "    .dataframe tbody tr th {\n",
       "        vertical-align: top;\n",
       "    }\n",
       "\n",
       "    .dataframe thead th {\n",
       "        text-align: right;\n",
       "    }\n",
       "</style>\n",
       "<table border=\"1\" class=\"dataframe\">\n",
       "  <thead>\n",
       "    <tr style=\"text-align: right;\">\n",
       "      <th></th>\n",
       "      <th>Filename</th>\n",
       "      <th>Type</th>\n",
       "    </tr>\n",
       "  </thead>\n",
       "  <tbody>\n",
       "    <tr>\n",
       "      <th>0</th>\n",
       "      <td>Cr_87.bmp</td>\n",
       "      <td>Crazing</td>\n",
       "    </tr>\n",
       "    <tr>\n",
       "      <th>1</th>\n",
       "      <td>Cr_93.bmp</td>\n",
       "      <td>Crazing</td>\n",
       "    </tr>\n",
       "  </tbody>\n",
       "</table>\n",
       "</div>"
      ],
      "text/plain": [
       "    Filename     Type\n",
       "0  Cr_87.bmp  Crazing\n",
       "1  Cr_93.bmp  Crazing"
      ]
     },
     "execution_count": 3,
     "metadata": {},
     "output_type": "execute_result"
    }
   ],
   "source": [
    "super_df.head(2)"
   ]
  },
  {
   "cell_type": "code",
   "execution_count": 4,
   "id": "3d2b7014",
   "metadata": {},
   "outputs": [],
   "source": [
    "# Exracting the image number\n",
    "super_df['Number'] = super_df.Filename.str.extract(r'(\\d+)')"
   ]
  },
  {
   "cell_type": "code",
   "execution_count": 5,
   "id": "301e8b2c",
   "metadata": {},
   "outputs": [
    {
     "data": {
      "text/html": [
       "<div>\n",
       "<style scoped>\n",
       "    .dataframe tbody tr th:only-of-type {\n",
       "        vertical-align: middle;\n",
       "    }\n",
       "\n",
       "    .dataframe tbody tr th {\n",
       "        vertical-align: top;\n",
       "    }\n",
       "\n",
       "    .dataframe thead th {\n",
       "        text-align: right;\n",
       "    }\n",
       "</style>\n",
       "<table border=\"1\" class=\"dataframe\">\n",
       "  <thead>\n",
       "    <tr style=\"text-align: right;\">\n",
       "      <th></th>\n",
       "      <th>Filename</th>\n",
       "      <th>Type</th>\n",
       "      <th>Number</th>\n",
       "    </tr>\n",
       "  </thead>\n",
       "  <tbody>\n",
       "    <tr>\n",
       "      <th>0</th>\n",
       "      <td>Cr_87.bmp</td>\n",
       "      <td>Crazing</td>\n",
       "      <td>87</td>\n",
       "    </tr>\n",
       "    <tr>\n",
       "      <th>1</th>\n",
       "      <td>Cr_93.bmp</td>\n",
       "      <td>Crazing</td>\n",
       "      <td>93</td>\n",
       "    </tr>\n",
       "    <tr>\n",
       "      <th>2</th>\n",
       "      <td>Cr_78.bmp</td>\n",
       "      <td>Crazing</td>\n",
       "      <td>78</td>\n",
       "    </tr>\n",
       "    <tr>\n",
       "      <th>3</th>\n",
       "      <td>Cr_238.bmp</td>\n",
       "      <td>Crazing</td>\n",
       "      <td>238</td>\n",
       "    </tr>\n",
       "    <tr>\n",
       "      <th>4</th>\n",
       "      <td>Cr_44.bmp</td>\n",
       "      <td>Crazing</td>\n",
       "      <td>44</td>\n",
       "    </tr>\n",
       "  </tbody>\n",
       "</table>\n",
       "</div>"
      ],
      "text/plain": [
       "     Filename     Type Number\n",
       "0   Cr_87.bmp  Crazing     87\n",
       "1   Cr_93.bmp  Crazing     93\n",
       "2   Cr_78.bmp  Crazing     78\n",
       "3  Cr_238.bmp  Crazing    238\n",
       "4   Cr_44.bmp  Crazing     44"
      ]
     },
     "execution_count": 5,
     "metadata": {},
     "output_type": "execute_result"
    }
   ],
   "source": [
    "super_df.head()"
   ]
  },
  {
   "cell_type": "code",
   "execution_count": 6,
   "id": "fe6a89c5",
   "metadata": {},
   "outputs": [
    {
     "name": "stdout",
     "output_type": "stream",
     "text": [
      "<class 'pandas.core.frame.DataFrame'>\n",
      "Int64Index: 1804 entries, 0 to 299\n",
      "Data columns (total 3 columns):\n",
      " #   Column    Non-Null Count  Dtype \n",
      "---  ------    --------------  ----- \n",
      " 0   Filename  1804 non-null   object\n",
      " 1   Type      1804 non-null   object\n",
      " 2   Number    1800 non-null   object\n",
      "dtypes: object(3)\n",
      "memory usage: 56.4+ KB\n"
     ]
    }
   ],
   "source": [
    "super_df.info()"
   ]
  },
  {
   "cell_type": "code",
   "execution_count": 7,
   "id": "502b30ca",
   "metadata": {},
   "outputs": [
    {
     "data": {
      "text/html": [
       "<div>\n",
       "<style scoped>\n",
       "    .dataframe tbody tr th:only-of-type {\n",
       "        vertical-align: middle;\n",
       "    }\n",
       "\n",
       "    .dataframe tbody tr th {\n",
       "        vertical-align: top;\n",
       "    }\n",
       "\n",
       "    .dataframe thead th {\n",
       "        text-align: right;\n",
       "    }\n",
       "</style>\n",
       "<table border=\"1\" class=\"dataframe\">\n",
       "  <thead>\n",
       "    <tr style=\"text-align: right;\">\n",
       "      <th></th>\n",
       "      <th>Filename</th>\n",
       "      <th>Type</th>\n",
       "      <th>Number</th>\n",
       "    </tr>\n",
       "  </thead>\n",
       "  <tbody>\n",
       "    <tr>\n",
       "      <th>count</th>\n",
       "      <td>1804</td>\n",
       "      <td>1804</td>\n",
       "      <td>1800</td>\n",
       "    </tr>\n",
       "    <tr>\n",
       "      <th>unique</th>\n",
       "      <td>1801</td>\n",
       "      <td>6</td>\n",
       "      <td>300</td>\n",
       "    </tr>\n",
       "    <tr>\n",
       "      <th>top</th>\n",
       "      <td>.DS_Store</td>\n",
       "      <td>Crazing</td>\n",
       "      <td>87</td>\n",
       "    </tr>\n",
       "    <tr>\n",
       "      <th>freq</th>\n",
       "      <td>4</td>\n",
       "      <td>301</td>\n",
       "      <td>6</td>\n",
       "    </tr>\n",
       "  </tbody>\n",
       "</table>\n",
       "</div>"
      ],
      "text/plain": [
       "         Filename     Type Number\n",
       "count        1804     1804   1800\n",
       "unique       1801        6    300\n",
       "top     .DS_Store  Crazing     87\n",
       "freq            4      301      6"
      ]
     },
     "execution_count": 7,
     "metadata": {},
     "output_type": "execute_result"
    }
   ],
   "source": [
    "super_df.describe()"
   ]
  },
  {
   "cell_type": "code",
   "execution_count": 8,
   "id": "e5a54c28",
   "metadata": {},
   "outputs": [],
   "source": [
    "super_df = super_df.sort_values(by=['Type','Number'])"
   ]
  },
  {
   "cell_type": "code",
   "execution_count": 9,
   "id": "b0a2daba",
   "metadata": {},
   "outputs": [
    {
     "name": "stdout",
     "output_type": "stream",
     "text": [
      "Crazing: 301\n",
      "Inclusions: 301\n",
      "Patches: 301\n",
      "Pitted: 300\n",
      "Rolled: 301\n",
      "Scratches: 300\n"
     ]
    }
   ],
   "source": [
    "# Checking for consistency within defect types\n",
    "types = super_df['Type'].unique()\n",
    "\n",
    "for i in types:\n",
    "    print(i + ':', super_df[super_df['Type'] == i]['Filename'].nunique())"
   ]
  },
  {
   "cell_type": "markdown",
   "id": "6b8fc2ac",
   "metadata": {},
   "source": [
    "## 1.2 Removing irrelevant data"
   ]
  },
  {
   "cell_type": "code",
   "execution_count": 10,
   "id": "5185135b",
   "metadata": {},
   "outputs": [
    {
     "data": {
      "text/html": [
       "<div>\n",
       "<style scoped>\n",
       "    .dataframe tbody tr th:only-of-type {\n",
       "        vertical-align: middle;\n",
       "    }\n",
       "\n",
       "    .dataframe tbody tr th {\n",
       "        vertical-align: top;\n",
       "    }\n",
       "\n",
       "    .dataframe thead th {\n",
       "        text-align: right;\n",
       "    }\n",
       "</style>\n",
       "<table border=\"1\" class=\"dataframe\">\n",
       "  <thead>\n",
       "    <tr style=\"text-align: right;\">\n",
       "      <th></th>\n",
       "      <th>Filename</th>\n",
       "      <th>Type</th>\n",
       "      <th>Number</th>\n",
       "    </tr>\n",
       "  </thead>\n",
       "  <tbody>\n",
       "    <tr>\n",
       "      <th>46</th>\n",
       "      <td>.DS_Store</td>\n",
       "      <td>Crazing</td>\n",
       "      <td>NaN</td>\n",
       "    </tr>\n",
       "    <tr>\n",
       "      <th>50</th>\n",
       "      <td>.DS_Store</td>\n",
       "      <td>Inclusions</td>\n",
       "      <td>NaN</td>\n",
       "    </tr>\n",
       "    <tr>\n",
       "      <th>45</th>\n",
       "      <td>.DS_Store</td>\n",
       "      <td>Patches</td>\n",
       "      <td>NaN</td>\n",
       "    </tr>\n",
       "    <tr>\n",
       "      <th>46</th>\n",
       "      <td>.DS_Store</td>\n",
       "      <td>Rolled</td>\n",
       "      <td>NaN</td>\n",
       "    </tr>\n",
       "  </tbody>\n",
       "</table>\n",
       "</div>"
      ],
      "text/plain": [
       "     Filename        Type Number\n",
       "46  .DS_Store     Crazing    NaN\n",
       "50  .DS_Store  Inclusions    NaN\n",
       "45  .DS_Store     Patches    NaN\n",
       "46  .DS_Store      Rolled    NaN"
      ]
     },
     "execution_count": 10,
     "metadata": {},
     "output_type": "execute_result"
    }
   ],
   "source": [
    "# Checking for non-image files\n",
    "super_df[~super_df['Filename'].str.endswith('.bmp')]"
   ]
  },
  {
   "cell_type": "code",
   "execution_count": 11,
   "id": "cc54dbe2",
   "metadata": {},
   "outputs": [],
   "source": [
    "# Collecting all image paths only\n",
    "super_df = super_df[super_df['Filename'].str.endswith('.bmp')]"
   ]
  },
  {
   "cell_type": "code",
   "execution_count": 12,
   "id": "4dded7e1",
   "metadata": {},
   "outputs": [
    {
     "data": {
      "text/html": [
       "<div>\n",
       "<style scoped>\n",
       "    .dataframe tbody tr th:only-of-type {\n",
       "        vertical-align: middle;\n",
       "    }\n",
       "\n",
       "    .dataframe tbody tr th {\n",
       "        vertical-align: top;\n",
       "    }\n",
       "\n",
       "    .dataframe thead th {\n",
       "        text-align: right;\n",
       "    }\n",
       "</style>\n",
       "<table border=\"1\" class=\"dataframe\">\n",
       "  <thead>\n",
       "    <tr style=\"text-align: right;\">\n",
       "      <th></th>\n",
       "      <th>Filename</th>\n",
       "      <th>Type</th>\n",
       "      <th>Number</th>\n",
       "    </tr>\n",
       "  </thead>\n",
       "  <tbody>\n",
       "    <tr>\n",
       "      <th>count</th>\n",
       "      <td>1800</td>\n",
       "      <td>1800</td>\n",
       "      <td>1800</td>\n",
       "    </tr>\n",
       "    <tr>\n",
       "      <th>unique</th>\n",
       "      <td>1800</td>\n",
       "      <td>6</td>\n",
       "      <td>300</td>\n",
       "    </tr>\n",
       "    <tr>\n",
       "      <th>top</th>\n",
       "      <td>Cr_1.bmp</td>\n",
       "      <td>Crazing</td>\n",
       "      <td>1</td>\n",
       "    </tr>\n",
       "    <tr>\n",
       "      <th>freq</th>\n",
       "      <td>1</td>\n",
       "      <td>300</td>\n",
       "      <td>6</td>\n",
       "    </tr>\n",
       "  </tbody>\n",
       "</table>\n",
       "</div>"
      ],
      "text/plain": [
       "        Filename     Type Number\n",
       "count       1800     1800   1800\n",
       "unique      1800        6    300\n",
       "top     Cr_1.bmp  Crazing      1\n",
       "freq           1      300      6"
      ]
     },
     "execution_count": 12,
     "metadata": {},
     "output_type": "execute_result"
    }
   ],
   "source": [
    "super_df.describe()"
   ]
  },
  {
   "cell_type": "code",
   "execution_count": 13,
   "id": "b1fad0f0",
   "metadata": {
    "scrolled": true
   },
   "outputs": [
    {
     "data": {
      "text/plain": [
       "Filename    0\n",
       "Type        0\n",
       "Number      0\n",
       "dtype: int64"
      ]
     },
     "execution_count": 13,
     "metadata": {},
     "output_type": "execute_result"
    }
   ],
   "source": [
    "super_df.isnull().sum()"
   ]
  },
  {
   "cell_type": "markdown",
   "id": "fe3761b8",
   "metadata": {},
   "source": [
    "#### Data is clean and ready for EDA!"
   ]
  },
  {
   "cell_type": "code",
   "execution_count": 14,
   "id": "96ba6737",
   "metadata": {},
   "outputs": [
    {
     "data": {
      "text/html": [
       "<div>\n",
       "<style scoped>\n",
       "    .dataframe tbody tr th:only-of-type {\n",
       "        vertical-align: middle;\n",
       "    }\n",
       "\n",
       "    .dataframe tbody tr th {\n",
       "        vertical-align: top;\n",
       "    }\n",
       "\n",
       "    .dataframe thead th {\n",
       "        text-align: right;\n",
       "    }\n",
       "</style>\n",
       "<table border=\"1\" class=\"dataframe\">\n",
       "  <thead>\n",
       "    <tr style=\"text-align: right;\">\n",
       "      <th></th>\n",
       "      <th>Filename</th>\n",
       "      <th>Type</th>\n",
       "      <th>Number</th>\n",
       "    </tr>\n",
       "  </thead>\n",
       "  <tbody>\n",
       "    <tr>\n",
       "      <th>220</th>\n",
       "      <td>Cr_1.bmp</td>\n",
       "      <td>Crazing</td>\n",
       "      <td>1</td>\n",
       "    </tr>\n",
       "    <tr>\n",
       "      <th>178</th>\n",
       "      <td>Cr_10.bmp</td>\n",
       "      <td>Crazing</td>\n",
       "      <td>10</td>\n",
       "    </tr>\n",
       "    <tr>\n",
       "      <th>135</th>\n",
       "      <td>Cr_100.bmp</td>\n",
       "      <td>Crazing</td>\n",
       "      <td>100</td>\n",
       "    </tr>\n",
       "    <tr>\n",
       "      <th>138</th>\n",
       "      <td>Cr_101.bmp</td>\n",
       "      <td>Crazing</td>\n",
       "      <td>101</td>\n",
       "    </tr>\n",
       "    <tr>\n",
       "      <th>121</th>\n",
       "      <td>Cr_102.bmp</td>\n",
       "      <td>Crazing</td>\n",
       "      <td>102</td>\n",
       "    </tr>\n",
       "  </tbody>\n",
       "</table>\n",
       "</div>"
      ],
      "text/plain": [
       "       Filename     Type Number\n",
       "220    Cr_1.bmp  Crazing      1\n",
       "178   Cr_10.bmp  Crazing     10\n",
       "135  Cr_100.bmp  Crazing    100\n",
       "138  Cr_101.bmp  Crazing    101\n",
       "121  Cr_102.bmp  Crazing    102"
      ]
     },
     "execution_count": 14,
     "metadata": {},
     "output_type": "execute_result"
    }
   ],
   "source": [
    "super_df.head()"
   ]
  },
  {
   "cell_type": "markdown",
   "id": "382e5a78",
   "metadata": {},
   "source": [
    "## 1.3 Exporting"
   ]
  },
  {
   "cell_type": "code",
   "execution_count": 15,
   "id": "6bf2758b",
   "metadata": {},
   "outputs": [],
   "source": [
    "super_df.to_csv('/Users/chinmayasukumar/Documents/Springboard/Capstone-3_Classifying_Steel_Defects/data/interim/data.csv'\\\n",
    "               ,index=False)"
   ]
  }
 ],
 "metadata": {
  "kernelspec": {
   "display_name": "Python 3 (ipykernel)",
   "language": "python",
   "name": "python3"
  },
  "language_info": {
   "codemirror_mode": {
    "name": "ipython",
    "version": 3
   },
   "file_extension": ".py",
   "mimetype": "text/x-python",
   "name": "python",
   "nbconvert_exporter": "python",
   "pygments_lexer": "ipython3",
   "version": "3.9.12"
  }
 },
 "nbformat": 4,
 "nbformat_minor": 5
}
