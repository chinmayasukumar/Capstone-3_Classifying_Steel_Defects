{
 "cells": [
  {
   "cell_type": "markdown",
   "id": "b9dbc516",
   "metadata": {},
   "source": [
    "# 04 - Modelling"
   ]
  },
  {
   "cell_type": "code",
   "execution_count": 1,
   "id": "0f7becc8",
   "metadata": {},
   "outputs": [],
   "source": [
    "!pip install keras-tuner -q"
   ]
  },
  {
   "cell_type": "code",
   "execution_count": 1,
   "id": "8228724d",
   "metadata": {},
   "outputs": [
    {
     "name": "stderr",
     "output_type": "stream",
     "text": [
      "2023-06-29 15:54:56.609501: I tensorflow/core/platform/cpu_feature_guard.cc:182] This TensorFlow binary is optimized to use available CPU instructions in performance-critical operations.\n",
      "To enable the following instructions: AVX2 FMA, in other operations, rebuild TensorFlow with the appropriate compiler flags.\n"
     ]
    }
   ],
   "source": [
    "import pandas as pd\n",
    "import numpy as np\n",
    "import tensorflow as tf\n",
    "import keras\n",
    "import matplotlib.pyplot as plt\n",
    "\n",
    "from sklearn.metrics import classification_report, confusion_matrix, accuracy_score\n",
    "\n",
    "import shutil\n",
    "import cv2;"
   ]
  },
  {
   "cell_type": "code",
   "execution_count": 56,
   "id": "06b3b90a",
   "metadata": {},
   "outputs": [],
   "source": [
    "from keras import models, layers, regularizers\n",
    "from keras.optimizers import Adam, SGD\n",
    "from keras.callbacks import EarlyStopping, ModelCheckpoint, CSVLogger\n",
    "from keras.wrappers.scikit_learn import KerasClassifier\n",
    "from sklearn.model_selection import train_test_split\n",
    "\n",
    "from keras.preprocessing.image import ImageDataGenerator;\n",
    "\n",
    "from keras.applications import ResNet50\n",
    "from tensorflow.keras.applications.resnet50 import preprocess_input\n",
    "from keras.preprocessing import image\n",
    "from keras.models import Model\n",
    "from keras.layers import Dense, GlobalAveragePooling2D, Input\n",
    "from keras_tuner import RandomSearch, GridSearch "
   ]
  },
  {
   "cell_type": "code",
   "execution_count": 3,
   "id": "d0d7c28e",
   "metadata": {},
   "outputs": [],
   "source": [
    "import matplotlib.pyplot as plt"
   ]
  },
  {
   "cell_type": "code",
   "execution_count": 4,
   "id": "ab20510e",
   "metadata": {},
   "outputs": [],
   "source": [
    "from sklearn.dummy import DummyClassifier"
   ]
  },
  {
   "cell_type": "code",
   "execution_count": 5,
   "id": "e180c634",
   "metadata": {},
   "outputs": [
    {
     "name": "stderr",
     "output_type": "stream",
     "text": [
      "/var/folders/mh/9l7f5q2x0bsc05929xvm2nnh0000gn/T/ipykernel_16369/982218236.py:1: DeprecationWarning: `import kerastuner` is deprecated, please use `import keras_tuner`.\n",
      "  import kerastuner.tuners as kt\n"
     ]
    }
   ],
   "source": [
    "import kerastuner.tuners as kt"
   ]
  },
  {
   "cell_type": "markdown",
   "id": "b41800b5",
   "metadata": {},
   "source": [
    "# 1.0 Importing data"
   ]
  },
  {
   "cell_type": "code",
   "execution_count": 6,
   "id": "0c5a537d",
   "metadata": {},
   "outputs": [],
   "source": [
    "interim_path = '/Users/chinmayasukumar/Documents/Springboard/Capstone-3_Classifying_Steel_Defects/data/interim/'"
   ]
  },
  {
   "cell_type": "code",
   "execution_count": 7,
   "id": "fd16b71c",
   "metadata": {},
   "outputs": [],
   "source": [
    "# Loading images from preprocessing stage\n",
    "images = np.load(interim_path + 'images.npy')"
   ]
  },
  {
   "cell_type": "code",
   "execution_count": 8,
   "id": "a12a5c9b",
   "metadata": {},
   "outputs": [],
   "source": [
    "# Loading Dataframe of labels\n",
    "df = pd.read_csv(interim_path + 'data.csv')"
   ]
  },
  {
   "cell_type": "code",
   "execution_count": 9,
   "id": "78e2eef5",
   "metadata": {},
   "outputs": [],
   "source": [
    "# One Hot Encoding labels\n",
    "df = pd.get_dummies(df, columns=['Type'])"
   ]
  },
  {
   "cell_type": "code",
   "execution_count": 10,
   "id": "035f07f7",
   "metadata": {},
   "outputs": [
    {
     "data": {
      "text/html": [
       "<div>\n",
       "<style scoped>\n",
       "    .dataframe tbody tr th:only-of-type {\n",
       "        vertical-align: middle;\n",
       "    }\n",
       "\n",
       "    .dataframe tbody tr th {\n",
       "        vertical-align: top;\n",
       "    }\n",
       "\n",
       "    .dataframe thead th {\n",
       "        text-align: right;\n",
       "    }\n",
       "</style>\n",
       "<table border=\"1\" class=\"dataframe\">\n",
       "  <thead>\n",
       "    <tr style=\"text-align: right;\">\n",
       "      <th></th>\n",
       "      <th>Filename</th>\n",
       "      <th>Number</th>\n",
       "      <th>Type_Crazing</th>\n",
       "      <th>Type_Inclusions</th>\n",
       "      <th>Type_Patches</th>\n",
       "      <th>Type_Pitted</th>\n",
       "      <th>Type_Rolled</th>\n",
       "      <th>Type_Scratches</th>\n",
       "    </tr>\n",
       "  </thead>\n",
       "  <tbody>\n",
       "    <tr>\n",
       "      <th>0</th>\n",
       "      <td>Cr_1.bmp</td>\n",
       "      <td>1</td>\n",
       "      <td>1</td>\n",
       "      <td>0</td>\n",
       "      <td>0</td>\n",
       "      <td>0</td>\n",
       "      <td>0</td>\n",
       "      <td>0</td>\n",
       "    </tr>\n",
       "    <tr>\n",
       "      <th>1</th>\n",
       "      <td>Cr_10.bmp</td>\n",
       "      <td>10</td>\n",
       "      <td>1</td>\n",
       "      <td>0</td>\n",
       "      <td>0</td>\n",
       "      <td>0</td>\n",
       "      <td>0</td>\n",
       "      <td>0</td>\n",
       "    </tr>\n",
       "    <tr>\n",
       "      <th>2</th>\n",
       "      <td>Cr_100.bmp</td>\n",
       "      <td>100</td>\n",
       "      <td>1</td>\n",
       "      <td>0</td>\n",
       "      <td>0</td>\n",
       "      <td>0</td>\n",
       "      <td>0</td>\n",
       "      <td>0</td>\n",
       "    </tr>\n",
       "    <tr>\n",
       "      <th>3</th>\n",
       "      <td>Cr_101.bmp</td>\n",
       "      <td>101</td>\n",
       "      <td>1</td>\n",
       "      <td>0</td>\n",
       "      <td>0</td>\n",
       "      <td>0</td>\n",
       "      <td>0</td>\n",
       "      <td>0</td>\n",
       "    </tr>\n",
       "    <tr>\n",
       "      <th>4</th>\n",
       "      <td>Cr_102.bmp</td>\n",
       "      <td>102</td>\n",
       "      <td>1</td>\n",
       "      <td>0</td>\n",
       "      <td>0</td>\n",
       "      <td>0</td>\n",
       "      <td>0</td>\n",
       "      <td>0</td>\n",
       "    </tr>\n",
       "  </tbody>\n",
       "</table>\n",
       "</div>"
      ],
      "text/plain": [
       "     Filename  Number  Type_Crazing  Type_Inclusions  Type_Patches  \\\n",
       "0    Cr_1.bmp       1             1                0             0   \n",
       "1   Cr_10.bmp      10             1                0             0   \n",
       "2  Cr_100.bmp     100             1                0             0   \n",
       "3  Cr_101.bmp     101             1                0             0   \n",
       "4  Cr_102.bmp     102             1                0             0   \n",
       "\n",
       "   Type_Pitted  Type_Rolled  Type_Scratches  \n",
       "0            0            0               0  \n",
       "1            0            0               0  \n",
       "2            0            0               0  \n",
       "3            0            0               0  \n",
       "4            0            0               0  "
      ]
     },
     "execution_count": 10,
     "metadata": {},
     "output_type": "execute_result"
    }
   ],
   "source": [
    "df.head()"
   ]
  },
  {
   "cell_type": "code",
   "execution_count": 11,
   "id": "f43115ad",
   "metadata": {},
   "outputs": [],
   "source": [
    "# Creating labels, converting to array\n",
    "labels = df.iloc[:,2:].to_numpy()"
   ]
  },
  {
   "cell_type": "code",
   "execution_count": 12,
   "id": "8c5d0870",
   "metadata": {},
   "outputs": [
    {
     "data": {
      "text/plain": [
       "(1800, 6)"
      ]
     },
     "execution_count": 12,
     "metadata": {},
     "output_type": "execute_result"
    }
   ],
   "source": [
    "# Confirming shape of labels\n",
    "labels.shape"
   ]
  },
  {
   "cell_type": "code",
   "execution_count": 13,
   "id": "f6d52598",
   "metadata": {},
   "outputs": [
    {
     "data": {
      "text/plain": [
       "array([[1, 0, 0, 0, 0, 0],\n",
       "       [1, 0, 0, 0, 0, 0],\n",
       "       [1, 0, 0, 0, 0, 0],\n",
       "       ...,\n",
       "       [0, 0, 0, 0, 0, 1],\n",
       "       [0, 0, 0, 0, 0, 1],\n",
       "       [0, 0, 0, 0, 0, 1]], dtype=uint8)"
      ]
     },
     "execution_count": 13,
     "metadata": {},
     "output_type": "execute_result"
    }
   ],
   "source": [
    "labels"
   ]
  },
  {
   "cell_type": "code",
   "execution_count": 14,
   "id": "39e69d69",
   "metadata": {},
   "outputs": [
    {
     "data": {
      "text/plain": [
       "(1800, 200, 200)"
      ]
     },
     "execution_count": 14,
     "metadata": {},
     "output_type": "execute_result"
    }
   ],
   "source": [
    "# Confirming shape of images\n",
    "images.shape"
   ]
  },
  {
   "cell_type": "code",
   "execution_count": 16,
   "id": "62362f77",
   "metadata": {},
   "outputs": [],
   "source": [
    "# Setting random seed\n",
    "keras.utils.set_random_seed(132)"
   ]
  },
  {
   "cell_type": "markdown",
   "id": "896ed605",
   "metadata": {},
   "source": [
    "#### There are 1800 200x200 images with 6 possible categories corresponding to the type of steel defect"
   ]
  },
  {
   "cell_type": "markdown",
   "id": "31b9b913",
   "metadata": {},
   "source": [
    "# 2.0 Model selection"
   ]
  },
  {
   "cell_type": "markdown",
   "id": "cfb0344a",
   "metadata": {},
   "source": [
    "## 2.1 Splitting Data"
   ]
  },
  {
   "cell_type": "code",
   "execution_count": 17,
   "id": "853f63c8",
   "metadata": {},
   "outputs": [],
   "source": [
    "# Reshape images to (1800, 200, 200, 1) to account for black/white channel\n",
    "images = images.reshape(-1,200,200,1)"
   ]
  },
  {
   "cell_type": "code",
   "execution_count": 18,
   "id": "459c0e2b",
   "metadata": {},
   "outputs": [],
   "source": [
    "# Splitting into train and (test, valid) sets to be split further\n",
    "X_train, X_test_val, y_train, y_test_val = train_test_split(images, labels, test_size=0.3)\n",
    "\n",
    "# Splitting (test, valid) set into seperate test and valid sets\n",
    "X_test, X_val, y_test, y_val = train_test_split(X_test_val, y_test_val, test_size=0.5)"
   ]
  },
  {
   "cell_type": "code",
   "execution_count": 19,
   "id": "67ce0a12",
   "metadata": {},
   "outputs": [
    {
     "data": {
      "text/plain": [
       "((1260, 200, 200, 1), (270, 200, 200, 1), (270, 200, 200, 1))"
      ]
     },
     "execution_count": 19,
     "metadata": {},
     "output_type": "execute_result"
    }
   ],
   "source": [
    "# Checking shapes\n",
    "(X_train.shape, X_test.shape, X_val.shape)"
   ]
  },
  {
   "cell_type": "code",
   "execution_count": 20,
   "id": "bf747b45",
   "metadata": {},
   "outputs": [
    {
     "data": {
      "text/plain": [
       "((1260, 6), (270, 6), (270, 6))"
      ]
     },
     "execution_count": 20,
     "metadata": {},
     "output_type": "execute_result"
    }
   ],
   "source": [
    "# Checking shapes\n",
    "(y_train.shape, y_test.shape, y_val.shape)"
   ]
  },
  {
   "cell_type": "markdown",
   "id": "c1b5d1e9",
   "metadata": {},
   "source": [
    "## 2.2 Dummy Classifier"
   ]
  },
  {
   "cell_type": "markdown",
   "id": "2c7556c8",
   "metadata": {},
   "source": [
    "#### Setting dummy classifier to set benchmark for evaluating real models"
   ]
  },
  {
   "cell_type": "code",
   "execution_count": 21,
   "id": "24ac77b9",
   "metadata": {},
   "outputs": [],
   "source": [
    "# Insantiating a Dummy Classifier\n",
    "dummy = DummyClassifier()"
   ]
  },
  {
   "cell_type": "code",
   "execution_count": 22,
   "id": "3ce5ead0",
   "metadata": {},
   "outputs": [
    {
     "data": {
      "text/plain": [
       "DummyClassifier()"
      ]
     },
     "execution_count": 22,
     "metadata": {},
     "output_type": "execute_result"
    }
   ],
   "source": [
    "# Fitting to training set\n",
    "dummy.fit(X_train, y_train)"
   ]
  },
  {
   "cell_type": "code",
   "execution_count": 23,
   "id": "50ed9262",
   "metadata": {},
   "outputs": [],
   "source": [
    "# Getting predictions\n",
    "y_pred = dummy.predict(X_test)"
   ]
  },
  {
   "cell_type": "code",
   "execution_count": 24,
   "id": "ed065203",
   "metadata": {},
   "outputs": [],
   "source": [
    "# Converting from one-hot encoded\n",
    "y_test_classes = np.argmax(y_test, axis=1)\n",
    "y_pred_classes = np.argmax(y_pred, axis=1)"
   ]
  },
  {
   "cell_type": "code",
   "execution_count": 25,
   "id": "fa15a51a",
   "metadata": {},
   "outputs": [
    {
     "name": "stdout",
     "output_type": "stream",
     "text": [
      "              precision    recall  f1-score   support\n",
      "\n",
      "           0       0.14      1.00      0.25        39\n",
      "           1       0.00      0.00      0.00        48\n",
      "           2       0.00      0.00      0.00        41\n",
      "           3       0.00      0.00      0.00        53\n",
      "           4       0.00      0.00      0.00        50\n",
      "           5       0.00      0.00      0.00        39\n",
      "\n",
      "    accuracy                           0.14       270\n",
      "   macro avg       0.02      0.17      0.04       270\n",
      "weighted avg       0.02      0.14      0.04       270\n",
      "\n"
     ]
    }
   ],
   "source": [
    "print(classification_report(y_test_classes, y_pred_classes, zero_division=False))"
   ]
  },
  {
   "cell_type": "markdown",
   "id": "fbb355ca",
   "metadata": {},
   "source": [
    "## 2.3 ResNet"
   ]
  },
  {
   "cell_type": "code",
   "execution_count": 36,
   "id": "0db41644",
   "metadata": {},
   "outputs": [],
   "source": [
    "# Fits model to training data (input) and validates on valuation data\n",
    "# Restores best weights\n",
    "# Returns history\n",
    "\n",
    "model_path = '/Users/chinmayasukumar/Documents/Springboard/Capstone-3_Classifying_Steel_Defects/models/'\n",
    "\n",
    "def train_model(model, X_train, y_train, X_val, y_val, checkpoint_path):\n",
    "    \n",
    "    model.compile(optimizer=Adam(),\\\n",
    "                  loss='categorical_crossentropy',\\\n",
    "                  metrics=['accuracy'])\n",
    "    \n",
    "    checkpoint = ModelCheckpoint(model_path + checkpoint_path,\\\n",
    "                                 monitor='val_loss', \n",
    "                                 save_best_model=True, \\\n",
    "                                 save_weights_only=True)\n",
    "    \n",
    "    history = model.fit(X_train, y_train,\\\n",
    "                        epochs=15, \\\n",
    "                        validation_data=(X_val, y_val),\\\n",
    "                        callbacks=[checkpoint])\n",
    "    \n",
    "    return history"
   ]
  },
  {
   "cell_type": "code",
   "execution_count": 27,
   "id": "fe085cae",
   "metadata": {},
   "outputs": [],
   "source": [
    "# Creating ResNet model\n",
    "# input_tensor has shape (200, 200, 3) since ResNet only takes RGB images\n",
    "# include_top = False since classification problem is small\n",
    "\n",
    "res_model = ResNet50(weights='imagenet', include_top=False, input_tensor=Input(shape=(200,200,3)))"
   ]
  },
  {
   "cell_type": "markdown",
   "id": "a5731014",
   "metadata": {},
   "source": [
    "### Transforming Grayscale to RGB"
   ]
  },
  {
   "cell_type": "code",
   "execution_count": 28,
   "id": "89973da2",
   "metadata": {},
   "outputs": [],
   "source": [
    "# Simulating images so they appear RGB\n",
    "# np.repeat repeats X_train's last column which is the column added for grayscale\n",
    "X_train_rgb = np.repeat(X_train,3,-1)\n",
    "X_test_rgb = np.repeat(X_test,3,-1)\n",
    "X_val_rgb = np.repeat(X_val,3,-1)"
   ]
  },
  {
   "cell_type": "code",
   "execution_count": 29,
   "id": "a7d91cc1",
   "metadata": {},
   "outputs": [
    {
     "data": {
      "text/plain": [
       "((1260, 200, 200, 3), (270, 200, 200, 3), (270, 200, 200, 3))"
      ]
     },
     "execution_count": 29,
     "metadata": {},
     "output_type": "execute_result"
    }
   ],
   "source": [
    "X_train_rgb.shape, X_test_rgb.shape, X_val_rgb.shape"
   ]
  },
  {
   "cell_type": "code",
   "execution_count": 30,
   "id": "fe6c1b8e",
   "metadata": {},
   "outputs": [
    {
     "data": {
      "text/plain": [
       "((1260, 6), (270, 6), (270, 6))"
      ]
     },
     "execution_count": 30,
     "metadata": {},
     "output_type": "execute_result"
    }
   ],
   "source": [
    "y_train.shape, y_test.shape, y_val.shape"
   ]
  },
  {
   "cell_type": "markdown",
   "id": "313b0890",
   "metadata": {},
   "source": [
    "### Training ResNet"
   ]
  },
  {
   "cell_type": "code",
   "execution_count": 32,
   "id": "3b4e5208",
   "metadata": {
    "scrolled": true
   },
   "outputs": [
    {
     "name": "stdout",
     "output_type": "stream",
     "text": [
      "Epoch 1/15\n",
      "40/40 [==============================] - 120s 3s/step - loss: 2.1238 - accuracy: 0.1008 - val_loss: 2.0985 - val_accuracy: 0.0778\n",
      "Epoch 2/15\n",
      "40/40 [==============================] - 115s 3s/step - loss: 2.1238 - accuracy: 0.1008 - val_loss: 2.0985 - val_accuracy: 0.0778\n",
      "Epoch 3/15\n",
      "40/40 [==============================] - 113s 3s/step - loss: 2.1238 - accuracy: 0.1008 - val_loss: 2.0985 - val_accuracy: 0.0778\n",
      "Epoch 4/15\n",
      "40/40 [==============================] - 112s 3s/step - loss: 2.1238 - accuracy: 0.1008 - val_loss: 2.0985 - val_accuracy: 0.0778\n",
      "Epoch 5/15\n",
      "40/40 [==============================] - 112s 3s/step - loss: 2.1238 - accuracy: 0.1008 - val_loss: 2.0985 - val_accuracy: 0.0778\n",
      "Epoch 6/15\n",
      "40/40 [==============================] - 113s 3s/step - loss: 2.1238 - accuracy: 0.1008 - val_loss: 2.0985 - val_accuracy: 0.0778\n",
      "Epoch 7/15\n",
      "40/40 [==============================] - 112s 3s/step - loss: 2.1238 - accuracy: 0.1008 - val_loss: 2.0985 - val_accuracy: 0.0778\n",
      "Epoch 8/15\n",
      "40/40 [==============================] - 113s 3s/step - loss: 2.1238 - accuracy: 0.1008 - val_loss: 2.0985 - val_accuracy: 0.0778\n",
      "Epoch 9/15\n",
      "40/40 [==============================] - 725s 19s/step - loss: 2.1238 - accuracy: 0.1008 - val_loss: 2.0985 - val_accuracy: 0.0778\n",
      "Epoch 10/15\n",
      "11/40 [=======>......................] - ETA: 1:24 - loss: 2.1634 - accuracy: 0.0881"
     ]
    },
    {
     "ename": "KeyboardInterrupt",
     "evalue": "",
     "output_type": "error",
     "traceback": [
      "\u001b[0;31m---------------------------------------------------------------------------\u001b[0m",
      "\u001b[0;31mKeyboardInterrupt\u001b[0m                         Traceback (most recent call last)",
      "Input \u001b[0;32mIn [32]\u001b[0m, in \u001b[0;36m<cell line: 12>\u001b[0;34m()\u001b[0m\n\u001b[1;32m      8\u001b[0m     layer\u001b[38;5;241m.\u001b[39mtrainable \u001b[38;5;241m=\u001b[39m \u001b[38;5;28;01mFalse\u001b[39;00m\n\u001b[1;32m     10\u001b[0m res_model\u001b[38;5;241m.\u001b[39mcompile(optimizer\u001b[38;5;241m=\u001b[39mAdam(), loss\u001b[38;5;241m=\u001b[39m\u001b[38;5;124m'\u001b[39m\u001b[38;5;124mcategorical_crossentropy\u001b[39m\u001b[38;5;124m'\u001b[39m, metrics\u001b[38;5;241m=\u001b[39m[\u001b[38;5;124m'\u001b[39m\u001b[38;5;124maccuracy\u001b[39m\u001b[38;5;124m'\u001b[39m])\n\u001b[0;32m---> 12\u001b[0m \u001b[43mtrain_model\u001b[49m\u001b[43m(\u001b[49m\u001b[43mres_model\u001b[49m\u001b[43m,\u001b[49m\u001b[43m \u001b[49m\u001b[43mX_train_rgb\u001b[49m\u001b[43m,\u001b[49m\u001b[43m \u001b[49m\u001b[43my_train\u001b[49m\u001b[43m,\u001b[49m\u001b[43m \u001b[49m\u001b[43mX_val_rgb\u001b[49m\u001b[43m,\u001b[49m\u001b[43m \u001b[49m\u001b[43my_val\u001b[49m\u001b[43m,\u001b[49m\u001b[43m \u001b[49m\u001b[38;5;124;43m'\u001b[39;49m\u001b[38;5;124;43mresnet/resnet_checkpoint.h5\u001b[39;49m\u001b[38;5;124;43m'\u001b[39;49m\u001b[43m)\u001b[49m\n",
      "Input \u001b[0;32mIn [31]\u001b[0m, in \u001b[0;36mtrain_model\u001b[0;34m(model, X_train, y_train, X_val, y_val, checkpoint_path)\u001b[0m\n\u001b[1;32m      8\u001b[0m model\u001b[38;5;241m.\u001b[39mcompile(optimizer\u001b[38;5;241m=\u001b[39mAdam(), loss\u001b[38;5;241m=\u001b[39m\u001b[38;5;124m'\u001b[39m\u001b[38;5;124mcategorical_crossentropy\u001b[39m\u001b[38;5;124m'\u001b[39m, metrics\u001b[38;5;241m=\u001b[39m[\u001b[38;5;124m'\u001b[39m\u001b[38;5;124maccuracy\u001b[39m\u001b[38;5;124m'\u001b[39m])\n\u001b[1;32m      9\u001b[0m checkpoint \u001b[38;5;241m=\u001b[39m ModelCheckpoint(model_path \u001b[38;5;241m+\u001b[39m checkpoint_path, monitor\u001b[38;5;241m=\u001b[39m\u001b[38;5;124m'\u001b[39m\u001b[38;5;124mval_loss\u001b[39m\u001b[38;5;124m'\u001b[39m, save_best_model\u001b[38;5;241m=\u001b[39m\u001b[38;5;28;01mTrue\u001b[39;00m)\n\u001b[0;32m---> 10\u001b[0m history \u001b[38;5;241m=\u001b[39m \u001b[43mmodel\u001b[49m\u001b[38;5;241;43m.\u001b[39;49m\u001b[43mfit\u001b[49m\u001b[43m(\u001b[49m\u001b[43mX_train\u001b[49m\u001b[43m,\u001b[49m\u001b[43m \u001b[49m\u001b[43my_train\u001b[49m\u001b[43m,\u001b[49m\u001b[43m \u001b[49m\u001b[43mepochs\u001b[49m\u001b[38;5;241;43m=\u001b[39;49m\u001b[38;5;241;43m15\u001b[39;49m\u001b[43m,\u001b[49m\u001b[43m \u001b[49m\u001b[43mvalidation_data\u001b[49m\u001b[38;5;241;43m=\u001b[39;49m\u001b[43m(\u001b[49m\u001b[43mX_val\u001b[49m\u001b[43m,\u001b[49m\u001b[43m \u001b[49m\u001b[43my_val\u001b[49m\u001b[43m)\u001b[49m\u001b[43m,\u001b[49m\u001b[43m\\\u001b[49m\n\u001b[1;32m     11\u001b[0m \u001b[43m                            \u001b[49m\u001b[43mcallbacks\u001b[49m\u001b[38;5;241;43m=\u001b[39;49m\u001b[43m[\u001b[49m\u001b[43mcheckpoint\u001b[49m\u001b[43m]\u001b[49m\u001b[43m)\u001b[49m\n\u001b[1;32m     12\u001b[0m \u001b[38;5;28;01mreturn\u001b[39;00m history\n",
      "File \u001b[0;32m~/opt/anaconda3/lib/python3.9/site-packages/keras/utils/traceback_utils.py:65\u001b[0m, in \u001b[0;36mfilter_traceback.<locals>.error_handler\u001b[0;34m(*args, **kwargs)\u001b[0m\n\u001b[1;32m     63\u001b[0m filtered_tb \u001b[38;5;241m=\u001b[39m \u001b[38;5;28;01mNone\u001b[39;00m\n\u001b[1;32m     64\u001b[0m \u001b[38;5;28;01mtry\u001b[39;00m:\n\u001b[0;32m---> 65\u001b[0m     \u001b[38;5;28;01mreturn\u001b[39;00m \u001b[43mfn\u001b[49m\u001b[43m(\u001b[49m\u001b[38;5;241;43m*\u001b[39;49m\u001b[43margs\u001b[49m\u001b[43m,\u001b[49m\u001b[43m \u001b[49m\u001b[38;5;241;43m*\u001b[39;49m\u001b[38;5;241;43m*\u001b[39;49m\u001b[43mkwargs\u001b[49m\u001b[43m)\u001b[49m\n\u001b[1;32m     66\u001b[0m \u001b[38;5;28;01mexcept\u001b[39;00m \u001b[38;5;167;01mException\u001b[39;00m \u001b[38;5;28;01mas\u001b[39;00m e:\n\u001b[1;32m     67\u001b[0m     filtered_tb \u001b[38;5;241m=\u001b[39m _process_traceback_frames(e\u001b[38;5;241m.\u001b[39m__traceback__)\n",
      "File \u001b[0;32m~/opt/anaconda3/lib/python3.9/site-packages/keras/engine/training.py:1685\u001b[0m, in \u001b[0;36mModel.fit\u001b[0;34m(self, x, y, batch_size, epochs, verbose, callbacks, validation_split, validation_data, shuffle, class_weight, sample_weight, initial_epoch, steps_per_epoch, validation_steps, validation_batch_size, validation_freq, max_queue_size, workers, use_multiprocessing)\u001b[0m\n\u001b[1;32m   1677\u001b[0m \u001b[38;5;28;01mwith\u001b[39;00m tf\u001b[38;5;241m.\u001b[39mprofiler\u001b[38;5;241m.\u001b[39mexperimental\u001b[38;5;241m.\u001b[39mTrace(\n\u001b[1;32m   1678\u001b[0m     \u001b[38;5;124m\"\u001b[39m\u001b[38;5;124mtrain\u001b[39m\u001b[38;5;124m\"\u001b[39m,\n\u001b[1;32m   1679\u001b[0m     epoch_num\u001b[38;5;241m=\u001b[39mepoch,\n\u001b[0;32m   (...)\u001b[0m\n\u001b[1;32m   1682\u001b[0m     _r\u001b[38;5;241m=\u001b[39m\u001b[38;5;241m1\u001b[39m,\n\u001b[1;32m   1683\u001b[0m ):\n\u001b[1;32m   1684\u001b[0m     callbacks\u001b[38;5;241m.\u001b[39mon_train_batch_begin(step)\n\u001b[0;32m-> 1685\u001b[0m     tmp_logs \u001b[38;5;241m=\u001b[39m \u001b[38;5;28;43mself\u001b[39;49m\u001b[38;5;241;43m.\u001b[39;49m\u001b[43mtrain_function\u001b[49m\u001b[43m(\u001b[49m\u001b[43miterator\u001b[49m\u001b[43m)\u001b[49m\n\u001b[1;32m   1686\u001b[0m     \u001b[38;5;28;01mif\u001b[39;00m data_handler\u001b[38;5;241m.\u001b[39mshould_sync:\n\u001b[1;32m   1687\u001b[0m         context\u001b[38;5;241m.\u001b[39masync_wait()\n",
      "File \u001b[0;32m~/opt/anaconda3/lib/python3.9/site-packages/tensorflow/python/util/traceback_utils.py:150\u001b[0m, in \u001b[0;36mfilter_traceback.<locals>.error_handler\u001b[0;34m(*args, **kwargs)\u001b[0m\n\u001b[1;32m    148\u001b[0m filtered_tb \u001b[38;5;241m=\u001b[39m \u001b[38;5;28;01mNone\u001b[39;00m\n\u001b[1;32m    149\u001b[0m \u001b[38;5;28;01mtry\u001b[39;00m:\n\u001b[0;32m--> 150\u001b[0m   \u001b[38;5;28;01mreturn\u001b[39;00m \u001b[43mfn\u001b[49m\u001b[43m(\u001b[49m\u001b[38;5;241;43m*\u001b[39;49m\u001b[43margs\u001b[49m\u001b[43m,\u001b[49m\u001b[43m \u001b[49m\u001b[38;5;241;43m*\u001b[39;49m\u001b[38;5;241;43m*\u001b[39;49m\u001b[43mkwargs\u001b[49m\u001b[43m)\u001b[49m\n\u001b[1;32m    151\u001b[0m \u001b[38;5;28;01mexcept\u001b[39;00m \u001b[38;5;167;01mException\u001b[39;00m \u001b[38;5;28;01mas\u001b[39;00m e:\n\u001b[1;32m    152\u001b[0m   filtered_tb \u001b[38;5;241m=\u001b[39m _process_traceback_frames(e\u001b[38;5;241m.\u001b[39m__traceback__)\n",
      "File \u001b[0;32m~/opt/anaconda3/lib/python3.9/site-packages/tensorflow/python/eager/polymorphic_function/polymorphic_function.py:894\u001b[0m, in \u001b[0;36mFunction.__call__\u001b[0;34m(self, *args, **kwds)\u001b[0m\n\u001b[1;32m    891\u001b[0m compiler \u001b[38;5;241m=\u001b[39m \u001b[38;5;124m\"\u001b[39m\u001b[38;5;124mxla\u001b[39m\u001b[38;5;124m\"\u001b[39m \u001b[38;5;28;01mif\u001b[39;00m \u001b[38;5;28mself\u001b[39m\u001b[38;5;241m.\u001b[39m_jit_compile \u001b[38;5;28;01melse\u001b[39;00m \u001b[38;5;124m\"\u001b[39m\u001b[38;5;124mnonXla\u001b[39m\u001b[38;5;124m\"\u001b[39m\n\u001b[1;32m    893\u001b[0m \u001b[38;5;28;01mwith\u001b[39;00m OptionalXlaContext(\u001b[38;5;28mself\u001b[39m\u001b[38;5;241m.\u001b[39m_jit_compile):\n\u001b[0;32m--> 894\u001b[0m   result \u001b[38;5;241m=\u001b[39m \u001b[38;5;28;43mself\u001b[39;49m\u001b[38;5;241;43m.\u001b[39;49m\u001b[43m_call\u001b[49m\u001b[43m(\u001b[49m\u001b[38;5;241;43m*\u001b[39;49m\u001b[43margs\u001b[49m\u001b[43m,\u001b[49m\u001b[43m \u001b[49m\u001b[38;5;241;43m*\u001b[39;49m\u001b[38;5;241;43m*\u001b[39;49m\u001b[43mkwds\u001b[49m\u001b[43m)\u001b[49m\n\u001b[1;32m    896\u001b[0m new_tracing_count \u001b[38;5;241m=\u001b[39m \u001b[38;5;28mself\u001b[39m\u001b[38;5;241m.\u001b[39mexperimental_get_tracing_count()\n\u001b[1;32m    897\u001b[0m without_tracing \u001b[38;5;241m=\u001b[39m (tracing_count \u001b[38;5;241m==\u001b[39m new_tracing_count)\n",
      "File \u001b[0;32m~/opt/anaconda3/lib/python3.9/site-packages/tensorflow/python/eager/polymorphic_function/polymorphic_function.py:926\u001b[0m, in \u001b[0;36mFunction._call\u001b[0;34m(self, *args, **kwds)\u001b[0m\n\u001b[1;32m    923\u001b[0m   \u001b[38;5;28mself\u001b[39m\u001b[38;5;241m.\u001b[39m_lock\u001b[38;5;241m.\u001b[39mrelease()\n\u001b[1;32m    924\u001b[0m   \u001b[38;5;66;03m# In this case we have created variables on the first call, so we run the\u001b[39;00m\n\u001b[1;32m    925\u001b[0m   \u001b[38;5;66;03m# defunned version which is guaranteed to never create variables.\u001b[39;00m\n\u001b[0;32m--> 926\u001b[0m   \u001b[38;5;28;01mreturn\u001b[39;00m \u001b[38;5;28;43mself\u001b[39;49m\u001b[38;5;241;43m.\u001b[39;49m\u001b[43m_no_variable_creation_fn\u001b[49m\u001b[43m(\u001b[49m\u001b[38;5;241;43m*\u001b[39;49m\u001b[43margs\u001b[49m\u001b[43m,\u001b[49m\u001b[43m \u001b[49m\u001b[38;5;241;43m*\u001b[39;49m\u001b[38;5;241;43m*\u001b[39;49m\u001b[43mkwds\u001b[49m\u001b[43m)\u001b[49m  \u001b[38;5;66;03m# pylint: disable=not-callable\u001b[39;00m\n\u001b[1;32m    927\u001b[0m \u001b[38;5;28;01melif\u001b[39;00m \u001b[38;5;28mself\u001b[39m\u001b[38;5;241m.\u001b[39m_variable_creation_fn \u001b[38;5;129;01mis\u001b[39;00m \u001b[38;5;129;01mnot\u001b[39;00m \u001b[38;5;28;01mNone\u001b[39;00m:\n\u001b[1;32m    928\u001b[0m   \u001b[38;5;66;03m# Release the lock early so that multiple threads can perform the call\u001b[39;00m\n\u001b[1;32m    929\u001b[0m   \u001b[38;5;66;03m# in parallel.\u001b[39;00m\n\u001b[1;32m    930\u001b[0m   \u001b[38;5;28mself\u001b[39m\u001b[38;5;241m.\u001b[39m_lock\u001b[38;5;241m.\u001b[39mrelease()\n",
      "File \u001b[0;32m~/opt/anaconda3/lib/python3.9/site-packages/tensorflow/python/eager/polymorphic_function/tracing_compiler.py:143\u001b[0m, in \u001b[0;36mTracingCompiler.__call__\u001b[0;34m(self, *args, **kwargs)\u001b[0m\n\u001b[1;32m    140\u001b[0m \u001b[38;5;28;01mwith\u001b[39;00m \u001b[38;5;28mself\u001b[39m\u001b[38;5;241m.\u001b[39m_lock:\n\u001b[1;32m    141\u001b[0m   (concrete_function,\n\u001b[1;32m    142\u001b[0m    filtered_flat_args) \u001b[38;5;241m=\u001b[39m \u001b[38;5;28mself\u001b[39m\u001b[38;5;241m.\u001b[39m_maybe_define_function(args, kwargs)\n\u001b[0;32m--> 143\u001b[0m \u001b[38;5;28;01mreturn\u001b[39;00m \u001b[43mconcrete_function\u001b[49m\u001b[38;5;241;43m.\u001b[39;49m\u001b[43m_call_flat\u001b[49m\u001b[43m(\u001b[49m\n\u001b[1;32m    144\u001b[0m \u001b[43m    \u001b[49m\u001b[43mfiltered_flat_args\u001b[49m\u001b[43m,\u001b[49m\u001b[43m \u001b[49m\u001b[43mcaptured_inputs\u001b[49m\u001b[38;5;241;43m=\u001b[39;49m\u001b[43mconcrete_function\u001b[49m\u001b[38;5;241;43m.\u001b[39;49m\u001b[43mcaptured_inputs\u001b[49m\u001b[43m)\u001b[49m\n",
      "File \u001b[0;32m~/opt/anaconda3/lib/python3.9/site-packages/tensorflow/python/eager/polymorphic_function/monomorphic_function.py:1757\u001b[0m, in \u001b[0;36mConcreteFunction._call_flat\u001b[0;34m(self, args, captured_inputs, cancellation_manager)\u001b[0m\n\u001b[1;32m   1753\u001b[0m possible_gradient_type \u001b[38;5;241m=\u001b[39m gradients_util\u001b[38;5;241m.\u001b[39mPossibleTapeGradientTypes(args)\n\u001b[1;32m   1754\u001b[0m \u001b[38;5;28;01mif\u001b[39;00m (possible_gradient_type \u001b[38;5;241m==\u001b[39m gradients_util\u001b[38;5;241m.\u001b[39mPOSSIBLE_GRADIENT_TYPES_NONE\n\u001b[1;32m   1755\u001b[0m     \u001b[38;5;129;01mand\u001b[39;00m executing_eagerly):\n\u001b[1;32m   1756\u001b[0m   \u001b[38;5;66;03m# No tape is watching; skip to running the function.\u001b[39;00m\n\u001b[0;32m-> 1757\u001b[0m   \u001b[38;5;28;01mreturn\u001b[39;00m \u001b[38;5;28mself\u001b[39m\u001b[38;5;241m.\u001b[39m_build_call_outputs(\u001b[38;5;28;43mself\u001b[39;49m\u001b[38;5;241;43m.\u001b[39;49m\u001b[43m_inference_function\u001b[49m\u001b[38;5;241;43m.\u001b[39;49m\u001b[43mcall\u001b[49m\u001b[43m(\u001b[49m\n\u001b[1;32m   1758\u001b[0m \u001b[43m      \u001b[49m\u001b[43mctx\u001b[49m\u001b[43m,\u001b[49m\u001b[43m \u001b[49m\u001b[43margs\u001b[49m\u001b[43m,\u001b[49m\u001b[43m \u001b[49m\u001b[43mcancellation_manager\u001b[49m\u001b[38;5;241;43m=\u001b[39;49m\u001b[43mcancellation_manager\u001b[49m\u001b[43m)\u001b[49m)\n\u001b[1;32m   1759\u001b[0m forward_backward \u001b[38;5;241m=\u001b[39m \u001b[38;5;28mself\u001b[39m\u001b[38;5;241m.\u001b[39m_select_forward_and_backward_functions(\n\u001b[1;32m   1760\u001b[0m     args,\n\u001b[1;32m   1761\u001b[0m     possible_gradient_type,\n\u001b[1;32m   1762\u001b[0m     executing_eagerly)\n\u001b[1;32m   1763\u001b[0m forward_function, args_with_tangents \u001b[38;5;241m=\u001b[39m forward_backward\u001b[38;5;241m.\u001b[39mforward()\n",
      "File \u001b[0;32m~/opt/anaconda3/lib/python3.9/site-packages/tensorflow/python/eager/polymorphic_function/monomorphic_function.py:381\u001b[0m, in \u001b[0;36m_EagerDefinedFunction.call\u001b[0;34m(self, ctx, args, cancellation_manager)\u001b[0m\n\u001b[1;32m    379\u001b[0m \u001b[38;5;28;01mwith\u001b[39;00m _InterpolateFunctionError(\u001b[38;5;28mself\u001b[39m):\n\u001b[1;32m    380\u001b[0m   \u001b[38;5;28;01mif\u001b[39;00m cancellation_manager \u001b[38;5;129;01mis\u001b[39;00m \u001b[38;5;28;01mNone\u001b[39;00m:\n\u001b[0;32m--> 381\u001b[0m     outputs \u001b[38;5;241m=\u001b[39m \u001b[43mexecute\u001b[49m\u001b[38;5;241;43m.\u001b[39;49m\u001b[43mexecute\u001b[49m\u001b[43m(\u001b[49m\n\u001b[1;32m    382\u001b[0m \u001b[43m        \u001b[49m\u001b[38;5;28;43mstr\u001b[39;49m\u001b[43m(\u001b[49m\u001b[38;5;28;43mself\u001b[39;49m\u001b[38;5;241;43m.\u001b[39;49m\u001b[43msignature\u001b[49m\u001b[38;5;241;43m.\u001b[39;49m\u001b[43mname\u001b[49m\u001b[43m)\u001b[49m\u001b[43m,\u001b[49m\n\u001b[1;32m    383\u001b[0m \u001b[43m        \u001b[49m\u001b[43mnum_outputs\u001b[49m\u001b[38;5;241;43m=\u001b[39;49m\u001b[38;5;28;43mself\u001b[39;49m\u001b[38;5;241;43m.\u001b[39;49m\u001b[43m_num_outputs\u001b[49m\u001b[43m,\u001b[49m\n\u001b[1;32m    384\u001b[0m \u001b[43m        \u001b[49m\u001b[43minputs\u001b[49m\u001b[38;5;241;43m=\u001b[39;49m\u001b[43margs\u001b[49m\u001b[43m,\u001b[49m\n\u001b[1;32m    385\u001b[0m \u001b[43m        \u001b[49m\u001b[43mattrs\u001b[49m\u001b[38;5;241;43m=\u001b[39;49m\u001b[43mattrs\u001b[49m\u001b[43m,\u001b[49m\n\u001b[1;32m    386\u001b[0m \u001b[43m        \u001b[49m\u001b[43mctx\u001b[49m\u001b[38;5;241;43m=\u001b[39;49m\u001b[43mctx\u001b[49m\u001b[43m)\u001b[49m\n\u001b[1;32m    387\u001b[0m   \u001b[38;5;28;01melse\u001b[39;00m:\n\u001b[1;32m    388\u001b[0m     outputs \u001b[38;5;241m=\u001b[39m execute\u001b[38;5;241m.\u001b[39mexecute_with_cancellation(\n\u001b[1;32m    389\u001b[0m         \u001b[38;5;28mstr\u001b[39m(\u001b[38;5;28mself\u001b[39m\u001b[38;5;241m.\u001b[39msignature\u001b[38;5;241m.\u001b[39mname),\n\u001b[1;32m    390\u001b[0m         num_outputs\u001b[38;5;241m=\u001b[39m\u001b[38;5;28mself\u001b[39m\u001b[38;5;241m.\u001b[39m_num_outputs,\n\u001b[0;32m   (...)\u001b[0m\n\u001b[1;32m    393\u001b[0m         ctx\u001b[38;5;241m=\u001b[39mctx,\n\u001b[1;32m    394\u001b[0m         cancellation_manager\u001b[38;5;241m=\u001b[39mcancellation_manager)\n",
      "File \u001b[0;32m~/opt/anaconda3/lib/python3.9/site-packages/tensorflow/python/eager/execute.py:52\u001b[0m, in \u001b[0;36mquick_execute\u001b[0;34m(op_name, num_outputs, inputs, attrs, ctx, name)\u001b[0m\n\u001b[1;32m     50\u001b[0m \u001b[38;5;28;01mtry\u001b[39;00m:\n\u001b[1;32m     51\u001b[0m   ctx\u001b[38;5;241m.\u001b[39mensure_initialized()\n\u001b[0;32m---> 52\u001b[0m   tensors \u001b[38;5;241m=\u001b[39m \u001b[43mpywrap_tfe\u001b[49m\u001b[38;5;241;43m.\u001b[39;49m\u001b[43mTFE_Py_Execute\u001b[49m\u001b[43m(\u001b[49m\u001b[43mctx\u001b[49m\u001b[38;5;241;43m.\u001b[39;49m\u001b[43m_handle\u001b[49m\u001b[43m,\u001b[49m\u001b[43m \u001b[49m\u001b[43mdevice_name\u001b[49m\u001b[43m,\u001b[49m\u001b[43m \u001b[49m\u001b[43mop_name\u001b[49m\u001b[43m,\u001b[49m\n\u001b[1;32m     53\u001b[0m \u001b[43m                                      \u001b[49m\u001b[43minputs\u001b[49m\u001b[43m,\u001b[49m\u001b[43m \u001b[49m\u001b[43mattrs\u001b[49m\u001b[43m,\u001b[49m\u001b[43m \u001b[49m\u001b[43mnum_outputs\u001b[49m\u001b[43m)\u001b[49m\n\u001b[1;32m     54\u001b[0m \u001b[38;5;28;01mexcept\u001b[39;00m core\u001b[38;5;241m.\u001b[39m_NotOkStatusException \u001b[38;5;28;01mas\u001b[39;00m e:\n\u001b[1;32m     55\u001b[0m   \u001b[38;5;28;01mif\u001b[39;00m name \u001b[38;5;129;01mis\u001b[39;00m \u001b[38;5;129;01mnot\u001b[39;00m \u001b[38;5;28;01mNone\u001b[39;00m:\n",
      "\u001b[0;31mKeyboardInterrupt\u001b[0m: "
     ]
    }
   ],
   "source": [
    "x = layers.GlobalAveragePooling2D()(res_model.output)\n",
    "\n",
    "output = layers.Dense(6, activation='softmax')(x)\n",
    "\n",
    "res_model = Model(inputs=res_model.input, outputs=output)\n",
    "\n",
    "for layer in res_model.layers:\n",
    "    layer.trainable = False\n",
    "\n",
    "res_model.compile(optimizer=Adam(), loss='categorical_crossentropy', metrics=['accuracy'])\n",
    "\n",
    "train_model(res_model, X_train_rgb, y_train, X_val_rgb, y_val, 'resnet/resnet_checkpoint.h5')"
   ]
  },
  {
   "cell_type": "markdown",
   "id": "f54fc9e7",
   "metadata": {},
   "source": [
    "### Evaluating ResNet"
   ]
  },
  {
   "cell_type": "code",
   "execution_count": null,
   "id": "69830b96",
   "metadata": {},
   "outputs": [],
   "source": [
    "# Getting predictions\n",
    "y_pred_res = res_model.predict(X_test_rgb)"
   ]
  },
  {
   "cell_type": "code",
   "execution_count": null,
   "id": "0ffa5250",
   "metadata": {},
   "outputs": [],
   "source": [
    "# Getting classes of predictions\n",
    "y_pred_classes = np.argmax(y_pred_res, axis=1)"
   ]
  },
  {
   "cell_type": "code",
   "execution_count": null,
   "id": "3cd5be19",
   "metadata": {},
   "outputs": [],
   "source": [
    "# Test classes\n",
    "y_test_classes = np.argmax(y_test, axis=1)"
   ]
  },
  {
   "cell_type": "code",
   "execution_count": null,
   "id": "da1f7eec",
   "metadata": {},
   "outputs": [],
   "source": [
    "# Confusion matrix\n",
    "print(confusion_matrix(y_test_classes, y_pred_classes))"
   ]
  },
  {
   "cell_type": "code",
   "execution_count": null,
   "id": "fcdee840",
   "metadata": {},
   "outputs": [],
   "source": [
    "# Getting classification report with labels\n",
    "labels_ = ['Crazing', 'Inclusions', 'Patches', 'Pitted', 'Rolled', 'Scratches']\n",
    "print(classification_report(y_test_classes, y_pred_classes, target_names=labels_));"
   ]
  },
  {
   "cell_type": "markdown",
   "id": "08c6bf4c",
   "metadata": {},
   "source": [
    "#### This model will be put on hold while CNN is tested"
   ]
  },
  {
   "cell_type": "markdown",
   "id": "b6da813f",
   "metadata": {},
   "source": [
    "### Saving model"
   ]
  },
  {
   "cell_type": "markdown",
   "id": "6de99119",
   "metadata": {},
   "source": [
    "## 2.4 CNN"
   ]
  },
  {
   "cell_type": "code",
   "execution_count": 37,
   "id": "36ab003d",
   "metadata": {},
   "outputs": [],
   "source": [
    "# Creates a CNN model and returns it\n",
    "\n",
    "def create_model():    \n",
    "    model = models.Sequential([\n",
    "            layers.Conv2D(32, (3, 3), activation='relu', input_shape=(200, 200, 1)),\n",
    "            layers.MaxPooling2D((2, 2)),\n",
    "            layers.Conv2D(64, (3, 3), activation='relu'),\n",
    "            layers.MaxPooling2D((2, 2)),\n",
    "            layers.Conv2D(64, (3, 3), activation='relu'),\n",
    "            layers.MaxPooling2D((2, 2)),\n",
    "            layers.Flatten(),\n",
    "            layers.Dense(64, activation='relu'),\n",
    "            layers.Dense(6, activation='softmax')\n",
    "            ])\n",
    "    \n",
    "    return model"
   ]
  },
  {
   "cell_type": "code",
   "execution_count": 38,
   "id": "7451b029",
   "metadata": {},
   "outputs": [],
   "source": [
    "# Instantiating base CNN model\n",
    "\n",
    "base_cnn = create_model();"
   ]
  },
  {
   "cell_type": "code",
   "execution_count": 39,
   "id": "61de3fa5",
   "metadata": {
    "scrolled": true
   },
   "outputs": [
    {
     "name": "stdout",
     "output_type": "stream",
     "text": [
      "Epoch 1/15\n",
      "40/40 [==============================] - 43s 1s/step - loss: 1.5155 - accuracy: 0.3103 - val_loss: 0.9896 - val_accuracy: 0.5963\n",
      "Epoch 2/15\n",
      "40/40 [==============================] - 59s 1s/step - loss: 0.8529 - accuracy: 0.6429 - val_loss: 0.6828 - val_accuracy: 0.7741\n",
      "Epoch 3/15\n",
      "40/40 [==============================] - 51s 1s/step - loss: 0.4972 - accuracy: 0.8262 - val_loss: 0.4298 - val_accuracy: 0.8481\n",
      "Epoch 4/15\n",
      "40/40 [==============================] - 66s 2s/step - loss: 0.4149 - accuracy: 0.8484 - val_loss: 0.4709 - val_accuracy: 0.8185\n",
      "Epoch 5/15\n",
      "40/40 [==============================] - 62s 2s/step - loss: 0.3913 - accuracy: 0.8508 - val_loss: 0.3337 - val_accuracy: 0.8704\n",
      "Epoch 6/15\n",
      "40/40 [==============================] - 67s 2s/step - loss: 0.3414 - accuracy: 0.8770 - val_loss: 0.9478 - val_accuracy: 0.6370\n",
      "Epoch 7/15\n",
      "40/40 [==============================] - 70s 2s/step - loss: 0.3572 - accuracy: 0.8810 - val_loss: 0.2816 - val_accuracy: 0.8963\n",
      "Epoch 8/15\n",
      "40/40 [==============================] - 78s 2s/step - loss: 0.2382 - accuracy: 0.9167 - val_loss: 0.2628 - val_accuracy: 0.8889\n",
      "Epoch 9/15\n",
      "40/40 [==============================] - 56s 1s/step - loss: 0.1761 - accuracy: 0.9413 - val_loss: 0.2788 - val_accuracy: 0.8741\n",
      "Epoch 10/15\n",
      "40/40 [==============================] - 55s 1s/step - loss: 0.1585 - accuracy: 0.9452 - val_loss: 0.2865 - val_accuracy: 0.8963\n",
      "Epoch 11/15\n",
      "40/40 [==============================] - 55s 1s/step - loss: 0.1487 - accuracy: 0.9524 - val_loss: 0.2070 - val_accuracy: 0.9148\n",
      "Epoch 12/15\n",
      "40/40 [==============================] - 53s 1s/step - loss: 0.1577 - accuracy: 0.9460 - val_loss: 0.4783 - val_accuracy: 0.8185\n",
      "Epoch 13/15\n",
      "40/40 [==============================] - 49s 1s/step - loss: 0.1955 - accuracy: 0.9246 - val_loss: 0.3665 - val_accuracy: 0.9037\n",
      "Epoch 14/15\n",
      "40/40 [==============================] - 49s 1s/step - loss: 0.2496 - accuracy: 0.9111 - val_loss: 0.2084 - val_accuracy: 0.9296\n",
      "Epoch 15/15\n",
      "40/40 [==============================] - 51s 1s/step - loss: 0.1666 - accuracy: 0.9349 - val_loss: 0.2494 - val_accuracy: 0.9370\n"
     ]
    }
   ],
   "source": [
    "# Training model \n",
    "# Instantiating hist_base_cnn as the history returned from the train_model function\n",
    "\n",
    "hist_base_cnn = train_model(base_cnn, X_train, y_train, X_val, y_val, \\\n",
    "'base_cnn/base_cnn_checkpoint.h5')"
   ]
  },
  {
   "cell_type": "code",
   "execution_count": 40,
   "id": "2b67a768",
   "metadata": {
    "scrolled": true
   },
   "outputs": [],
   "source": [
    "# Function that accepts trial history and a title\n",
    "# Returns model accuracy and loss in both train and validation sets\n",
    "def grapher(history, title):\n",
    "    fig, (ax1, ax2) = plt.subplots(1, 2, figsize=(15, 5))\n",
    "\n",
    "    fig.suptitle(title, fontsize=16)\n",
    "\n",
    "    ax1.plot(history.history['accuracy'])\n",
    "    ax1.plot(history.history['val_accuracy'])\n",
    "    ax1.set_title('Model accuracy')\n",
    "    ax1.set_ylabel('Accuracy')\n",
    "    ax1.set_xlabel('Epoch')\n",
    "    ax1.legend(['Train', 'Validation'], loc='upper left')\n",
    "\n",
    "    ax2.plot(history.history['loss'])\n",
    "    ax2.plot(history.history['val_loss'])\n",
    "    ax2.set_title('Model loss')\n",
    "    ax2.set_ylabel('Loss')\n",
    "    ax2.set_xlabel('Epoch')\n",
    "    ax2.legend(['Train', 'Validation'], loc='upper right')\n",
    "\n",
    "    plt.tight_layout()\n",
    "    plt.show()"
   ]
  },
  {
   "cell_type": "code",
   "execution_count": 41,
   "id": "732b4e10",
   "metadata": {
    "scrolled": true
   },
   "outputs": [
    {
     "data": {
      "image/png": "[encoded data removed]",
      "text/plain": [
       "<Figure size 1080x360 with 2 Axes>"
      ]
     },
     "metadata": {
      "needs_background": "light"
     },
     "output_type": "display_data"
    }
   ],
   "source": [
    "grapher(hist_base_cnn, 'Base CNN Training progress')"
   ]
  },
  {
   "cell_type": "markdown",
   "id": "7a16d45f",
   "metadata": {},
   "source": [
    "### Evaluating CNN"
   ]
  },
  {
   "cell_type": "code",
   "execution_count": 42,
   "id": "7403b378",
   "metadata": {},
   "outputs": [],
   "source": [
    "# Building a function to predict and evaluate on Test set\n",
    "# Returns confusion matrix and classification report\n",
    "\n",
    "labels_ = ['Crazing', 'Inclusions', 'Patches', 'Pitted', 'Rolled', 'Scratches']\n",
    "\n",
    "def predictor(model, X_test, y_test):\n",
    "    y_pred = model.predict(X_test)\n",
    "    y_pred_classes = np.argmax(y_pred, axis=1)\n",
    "    y_test_classes = np.argmax(y_test, axis=1)\n",
    "    print('\\n')\n",
    "    print('   Confusion matrix')\n",
    "    print('\\n')\n",
    "    print(confusion_matrix(y_test_classes, y_pred_classes))\n",
    "    print('\\n')\n",
    "    print('                 Classification report')\n",
    "    print('\\n')\n",
    "    print(classification_report(y_test_classes, y_pred_classes, target_names=labels_))\n",
    "    return classification_report(y_test_classes, y_pred_classes, target_names=labels_, output_dict=True)"
   ]
  },
  {
   "cell_type": "code",
   "execution_count": 44,
   "id": "4bced95e",
   "metadata": {},
   "outputs": [],
   "source": [
    "base_cnn_path = model_path + 'base_cnn/base_cnn_checkpoint.h5'\n",
    "base_cnn.load_weights(base_cnn_path)"
   ]
  },
  {
   "cell_type": "code",
   "execution_count": 45,
   "id": "1aa8db03",
   "metadata": {},
   "outputs": [
    {
     "name": "stdout",
     "output_type": "stream",
     "text": [
      "9/9 [==============================] - 3s 306ms/step\n",
      "\n",
      "\n",
      "   Confusion matrix\n",
      "\n",
      "\n",
      "[[38  0  1  0  0  0]\n",
      " [ 0 44  0  4  0  0]\n",
      " [ 2  0 38  0  1  0]\n",
      " [ 0  7  0 42  2  2]\n",
      " [ 0  0  0  0 50  0]\n",
      " [ 0  4  0  0  0 35]]\n",
      "\n",
      "\n",
      "                 Classification report\n",
      "\n",
      "\n",
      "              precision    recall  f1-score   support\n",
      "\n",
      "     Crazing       0.95      0.97      0.96        39\n",
      "  Inclusions       0.80      0.92      0.85        48\n",
      "     Patches       0.97      0.93      0.95        41\n",
      "      Pitted       0.91      0.79      0.85        53\n",
      "      Rolled       0.94      1.00      0.97        50\n",
      "   Scratches       0.95      0.90      0.92        39\n",
      "\n",
      "    accuracy                           0.91       270\n",
      "   macro avg       0.92      0.92      0.92       270\n",
      "weighted avg       0.92      0.91      0.91       270\n",
      "\n"
     ]
    }
   ],
   "source": [
    "predictor(base_cnn, X_test, y_test);"
   ]
  },
  {
   "cell_type": "markdown",
   "id": "303b0df0",
   "metadata": {},
   "source": [
    "#### Inclusions, Patches, Pits and Scratches aren't classified properly"
   ]
  },
  {
   "cell_type": "markdown",
   "id": "4715be1f",
   "metadata": {},
   "source": [
    "#### Classes Crazing, Pitted and Scratches don't have very good f1-scores"
   ]
  },
  {
   "cell_type": "code",
   "execution_count": 51,
   "id": "ae0631c2",
   "metadata": {},
   "outputs": [],
   "source": [
    "base_cnn.save(model_path + 'base_cnn/final_base_cnn.h5')"
   ]
  },
  {
   "cell_type": "markdown",
   "id": "5c764cd9",
   "metadata": {},
   "source": [
    "## 3.0 Hyperparameter tuning"
   ]
  },
  {
   "cell_type": "markdown",
   "id": "87e7e818",
   "metadata": {},
   "source": [
    "## 3.1  Round 1"
   ]
  },
  {
   "cell_type": "code",
   "execution_count": 52,
   "id": "e8b907ad",
   "metadata": {},
   "outputs": [],
   "source": [
    "# Creating another CNN for hyperparameter tuning\n",
    "# Learning rate and optimizers (Adam or SGD) will be chosen as hyperparameters\n",
    "\n",
    "def create_model_1(hp):\n",
    "    model = models.Sequential([\n",
    "            layers.Conv2D(32, (3, 3), activation='relu', input_shape=(200, 200, 1)),\n",
    "            layers.MaxPooling2D((2, 2)),\n",
    "            layers.Conv2D(64, (3, 3), activation='relu'),\n",
    "            layers.MaxPooling2D((2, 2)),\n",
    "            layers.Conv2D(64, (3, 3), activation='relu'),\n",
    "            layers.MaxPooling2D((2, 2)),\n",
    "            layers.Flatten(),\n",
    "            layers.Dense(64, activation='relu'),\n",
    "            layers.Dense(6, activation='softmax'),\n",
    "            ])\n",
    "\n",
    "    # Optimizer can be changed\n",
    "    optimizer = hp.Choice('optimizer', ['adam', 'sgd'])\n",
    "    \n",
    "    # Learning rate can be changed\n",
    "    learning_rate = hp.Float('learning_rate', 0.0001, 0.0151, sampling='log')\n",
    "\n",
    "    # Conditional statement depending on which optimzier is chosen during Random Search\n",
    "    if optimizer == 'adam':\n",
    "        model.compile(optimizer=keras.optimizers.Adam(learning_rate), loss='categorical_crossentropy',\\\n",
    "        metrics=['accuracy'])\n",
    "    # If the chosen optimizer is SGD, the model will use a SGD with whichever learning rate is chosen\n",
    "    else:\n",
    "        model.compile(optimizer=keras.optimizers.SGD(learning_rate), loss='categorical_crossentropy',\\\n",
    "            metrics=['accuracy'])\n",
    "\n",
    "    return model"
   ]
  },
  {
   "cell_type": "code",
   "execution_count": 77,
   "id": "62d8646e",
   "metadata": {},
   "outputs": [],
   "source": [
    "# Creating RandomSearch object \n",
    "tuner_1 = RandomSearch(create_model_1, objective='val_accuracy', max_trials=15, executions_per_trial=1,\n",
    "                       directory=model_path + 'tuner_dir/',\n",
    "                       project_name='tuner_round_1',\n",
    "                       overwrite=True); "
   ]
  },
  {
   "cell_type": "code",
   "execution_count": 75,
   "id": "54ad0eca",
   "metadata": {},
   "outputs": [
    {
     "name": "stdout",
     "output_type": "stream",
     "text": [
      "Search space summary\n",
      "Default search space size: 2\n",
      "optimizer (Choice)\n",
      "{'default': 'adam', 'conditions': [], 'values': ['adam', 'sgd'], 'ordered': False}\n",
      "learning_rate (Float)\n",
      "{'default': 0.0001, 'conditions': [], 'min_value': 0.0001, 'max_value': 0.0151, 'step': None, 'sampling': 'log'}\n"
     ]
    }
   ],
   "source": [
    "# Random Search value range\n",
    "tuner_1.search_space_summary()"
   ]
  },
  {
   "cell_type": "code",
   "execution_count": 72,
   "id": "2ddb6c71",
   "metadata": {},
   "outputs": [
    {
     "data": {
      "text/plain": [
       "((1260, 200, 200, 1), (1260, 6), (270, 200, 200, 1), (270, 6))"
      ]
     },
     "execution_count": 72,
     "metadata": {},
     "output_type": "execute_result"
    }
   ],
   "source": [
    "# Verifying shapes\n",
    "X_train.shape, y_train.shape, X_val.shape, y_val.shape"
   ]
  },
  {
   "cell_type": "code",
   "execution_count": 80,
   "id": "691d446a",
   "metadata": {},
   "outputs": [],
   "source": [
    "tuner_1_stop = EarlyStopping(monitor='val_loss',\n",
    "                    # 3 epochs to improve val_loss\n",
    "                    patience=3,\n",
    "                    mode='min',\n",
    "                    restore_best_weights=True,\n",
    "                    verbose=1,\\\n",
    "                    start_from_epoch=5)\n",
    "\n",
    "tuner_1_logs = CSVLogger(model_path + 'tuner_dir/tuner_round_1/tuner_1_logs.csv')"
   ]
  },
  {
   "cell_type": "code",
   "execution_count": 81,
   "id": "3750bed1",
   "metadata": {
    "scrolled": true
   },
   "outputs": [
    {
     "name": "stdout",
     "output_type": "stream",
     "text": [
      "Trial 11 Complete [00h 13m 23s]\n",
      "val_accuracy: 0.7074074149131775\n",
      "\n",
      "Best val_accuracy So Far: 0.9333333373069763\n",
      "Total elapsed time: 01h 50m 07s\n",
      "\n",
      "Search: Running Trial #12\n",
      "\n",
      "Value             |Best Value So Far |Hyperparameter\n",
      "sgd               |adam              |optimizer\n",
      "0.00049207        |0.0016339         |learning_rate\n",
      "\n",
      "Epoch 1/15\n",
      "40/40 [==============================] - 52s 1s/step - loss: 1.7912 - accuracy: 0.1317 - val_loss: 1.7896 - val_accuracy: 0.1407\n",
      "Epoch 2/15\n",
      "37/40 [==========================>...] - ETA: 4s - loss: 1.7876 - accuracy: 0.1199"
     ]
    },
    {
     "ename": "KeyboardInterrupt",
     "evalue": "",
     "output_type": "error",
     "traceback": [
      "\u001b[0;31m---------------------------------------------------------------------------\u001b[0m",
      "\u001b[0;31mKeyboardInterrupt\u001b[0m                         Traceback (most recent call last)",
      "Input \u001b[0;32mIn [81]\u001b[0m, in \u001b[0;36m<cell line: 2>\u001b[0;34m()\u001b[0m\n\u001b[1;32m      1\u001b[0m \u001b[38;5;66;03m# Running Random Search\u001b[39;00m\n\u001b[0;32m----> 2\u001b[0m \u001b[43mtuner_1\u001b[49m\u001b[38;5;241;43m.\u001b[39;49m\u001b[43msearch\u001b[49m\u001b[43m(\u001b[49m\u001b[43mX_train\u001b[49m\u001b[43m,\u001b[49m\u001b[43m \u001b[49m\u001b[43my_train\u001b[49m\u001b[43m,\u001b[49m\u001b[43m \u001b[49m\u001b[43m\\\u001b[49m\n\u001b[1;32m      3\u001b[0m \u001b[43m               \u001b[49m\u001b[43mepochs\u001b[49m\u001b[38;5;241;43m=\u001b[39;49m\u001b[38;5;241;43m15\u001b[39;49m\u001b[43m,\u001b[49m\u001b[43m \u001b[49m\u001b[43m\\\u001b[49m\n\u001b[1;32m      4\u001b[0m \u001b[43m               \u001b[49m\u001b[43mvalidation_data\u001b[49m\u001b[38;5;241;43m=\u001b[39;49m\u001b[43m(\u001b[49m\u001b[43mX_val\u001b[49m\u001b[43m,\u001b[49m\u001b[43m \u001b[49m\u001b[43my_val\u001b[49m\u001b[43m)\u001b[49m\u001b[43m,\u001b[49m\u001b[43m \u001b[49m\u001b[43m\\\u001b[49m\n\u001b[1;32m      5\u001b[0m \u001b[43m               \u001b[49m\u001b[43mcallbacks\u001b[49m\u001b[38;5;241;43m=\u001b[39;49m\u001b[43m[\u001b[49m\u001b[43mtuner_1_stop\u001b[49m\u001b[43m,\u001b[49m\u001b[43m \u001b[49m\u001b[43mtuner_1_logs\u001b[49m\u001b[43m]\u001b[49m\u001b[43m)\u001b[49m\n",
      "File \u001b[0;32m~/opt/anaconda3/lib/python3.9/site-packages/keras_tuner/engine/base_tuner.py:230\u001b[0m, in \u001b[0;36mBaseTuner.search\u001b[0;34m(self, *fit_args, **fit_kwargs)\u001b[0m\n\u001b[1;32m    227\u001b[0m         \u001b[38;5;28;01mcontinue\u001b[39;00m\n\u001b[1;32m    229\u001b[0m     \u001b[38;5;28mself\u001b[39m\u001b[38;5;241m.\u001b[39mon_trial_begin(trial)\n\u001b[0;32m--> 230\u001b[0m     \u001b[38;5;28;43mself\u001b[39;49m\u001b[38;5;241;43m.\u001b[39;49m\u001b[43m_try_run_and_update_trial\u001b[49m\u001b[43m(\u001b[49m\u001b[43mtrial\u001b[49m\u001b[43m,\u001b[49m\u001b[43m \u001b[49m\u001b[38;5;241;43m*\u001b[39;49m\u001b[43mfit_args\u001b[49m\u001b[43m,\u001b[49m\u001b[43m \u001b[49m\u001b[38;5;241;43m*\u001b[39;49m\u001b[38;5;241;43m*\u001b[39;49m\u001b[43mfit_kwargs\u001b[49m\u001b[43m)\u001b[49m\n\u001b[1;32m    231\u001b[0m     \u001b[38;5;28mself\u001b[39m\u001b[38;5;241m.\u001b[39mon_trial_end(trial)\n\u001b[1;32m    232\u001b[0m \u001b[38;5;28mself\u001b[39m\u001b[38;5;241m.\u001b[39mon_search_end()\n",
      "File \u001b[0;32m~/opt/anaconda3/lib/python3.9/site-packages/keras_tuner/engine/base_tuner.py:270\u001b[0m, in \u001b[0;36mBaseTuner._try_run_and_update_trial\u001b[0;34m(self, trial, *fit_args, **fit_kwargs)\u001b[0m\n\u001b[1;32m    268\u001b[0m \u001b[38;5;28;01mdef\u001b[39;00m \u001b[38;5;21m_try_run_and_update_trial\u001b[39m(\u001b[38;5;28mself\u001b[39m, trial, \u001b[38;5;241m*\u001b[39mfit_args, \u001b[38;5;241m*\u001b[39m\u001b[38;5;241m*\u001b[39mfit_kwargs):\n\u001b[1;32m    269\u001b[0m     \u001b[38;5;28;01mtry\u001b[39;00m:\n\u001b[0;32m--> 270\u001b[0m         \u001b[38;5;28;43mself\u001b[39;49m\u001b[38;5;241;43m.\u001b[39;49m\u001b[43m_run_and_update_trial\u001b[49m\u001b[43m(\u001b[49m\u001b[43mtrial\u001b[49m\u001b[43m,\u001b[49m\u001b[43m \u001b[49m\u001b[38;5;241;43m*\u001b[39;49m\u001b[43mfit_args\u001b[49m\u001b[43m,\u001b[49m\u001b[43m \u001b[49m\u001b[38;5;241;43m*\u001b[39;49m\u001b[38;5;241;43m*\u001b[39;49m\u001b[43mfit_kwargs\u001b[49m\u001b[43m)\u001b[49m\n\u001b[1;32m    271\u001b[0m         trial\u001b[38;5;241m.\u001b[39mstatus \u001b[38;5;241m=\u001b[39m trial_module\u001b[38;5;241m.\u001b[39mTrialStatus\u001b[38;5;241m.\u001b[39mCOMPLETED\n\u001b[1;32m    272\u001b[0m         \u001b[38;5;28;01mreturn\u001b[39;00m\n",
      "File \u001b[0;32m~/opt/anaconda3/lib/python3.9/site-packages/keras_tuner/engine/base_tuner.py:235\u001b[0m, in \u001b[0;36mBaseTuner._run_and_update_trial\u001b[0;34m(self, trial, *fit_args, **fit_kwargs)\u001b[0m\n\u001b[1;32m    234\u001b[0m \u001b[38;5;28;01mdef\u001b[39;00m \u001b[38;5;21m_run_and_update_trial\u001b[39m(\u001b[38;5;28mself\u001b[39m, trial, \u001b[38;5;241m*\u001b[39mfit_args, \u001b[38;5;241m*\u001b[39m\u001b[38;5;241m*\u001b[39mfit_kwargs):\n\u001b[0;32m--> 235\u001b[0m     results \u001b[38;5;241m=\u001b[39m \u001b[38;5;28;43mself\u001b[39;49m\u001b[38;5;241;43m.\u001b[39;49m\u001b[43mrun_trial\u001b[49m\u001b[43m(\u001b[49m\u001b[43mtrial\u001b[49m\u001b[43m,\u001b[49m\u001b[43m \u001b[49m\u001b[38;5;241;43m*\u001b[39;49m\u001b[43mfit_args\u001b[49m\u001b[43m,\u001b[49m\u001b[43m \u001b[49m\u001b[38;5;241;43m*\u001b[39;49m\u001b[38;5;241;43m*\u001b[39;49m\u001b[43mfit_kwargs\u001b[49m\u001b[43m)\u001b[49m\n\u001b[1;32m    236\u001b[0m     \u001b[38;5;28;01mif\u001b[39;00m \u001b[38;5;28mself\u001b[39m\u001b[38;5;241m.\u001b[39moracle\u001b[38;5;241m.\u001b[39mget_trial(trial\u001b[38;5;241m.\u001b[39mtrial_id)\u001b[38;5;241m.\u001b[39mmetrics\u001b[38;5;241m.\u001b[39mexists(\n\u001b[1;32m    237\u001b[0m         \u001b[38;5;28mself\u001b[39m\u001b[38;5;241m.\u001b[39moracle\u001b[38;5;241m.\u001b[39mobjective\u001b[38;5;241m.\u001b[39mname\n\u001b[1;32m    238\u001b[0m     ):\n\u001b[1;32m    239\u001b[0m         \u001b[38;5;66;03m# The oracle is updated by calling `self.oracle.update_trial()` in\u001b[39;00m\n\u001b[1;32m    240\u001b[0m         \u001b[38;5;66;03m# `Tuner.run_trial()`. For backward compatibility, we support this\u001b[39;00m\n\u001b[1;32m    241\u001b[0m         \u001b[38;5;66;03m# use case. No further action needed in this case.\u001b[39;00m\n\u001b[1;32m    242\u001b[0m         warnings\u001b[38;5;241m.\u001b[39mwarn(\n\u001b[1;32m    243\u001b[0m             \u001b[38;5;124m\"\u001b[39m\u001b[38;5;124mThe use case of calling \u001b[39m\u001b[38;5;124m\"\u001b[39m\n\u001b[1;32m    244\u001b[0m             \u001b[38;5;124m\"\u001b[39m\u001b[38;5;124m`self.oracle.update_trial(trial_id, metrics)` \u001b[39m\u001b[38;5;124m\"\u001b[39m\n\u001b[0;32m   (...)\u001b[0m\n\u001b[1;32m    250\u001b[0m             stacklevel\u001b[38;5;241m=\u001b[39m\u001b[38;5;241m2\u001b[39m,\n\u001b[1;32m    251\u001b[0m         )\n",
      "File \u001b[0;32m~/opt/anaconda3/lib/python3.9/site-packages/keras_tuner/engine/tuner.py:287\u001b[0m, in \u001b[0;36mTuner.run_trial\u001b[0;34m(self, trial, *args, **kwargs)\u001b[0m\n\u001b[1;32m    285\u001b[0m     callbacks\u001b[38;5;241m.\u001b[39mappend(model_checkpoint)\n\u001b[1;32m    286\u001b[0m     copied_kwargs[\u001b[38;5;124m\"\u001b[39m\u001b[38;5;124mcallbacks\u001b[39m\u001b[38;5;124m\"\u001b[39m] \u001b[38;5;241m=\u001b[39m callbacks\n\u001b[0;32m--> 287\u001b[0m     obj_value \u001b[38;5;241m=\u001b[39m \u001b[38;5;28;43mself\u001b[39;49m\u001b[38;5;241;43m.\u001b[39;49m\u001b[43m_build_and_fit_model\u001b[49m\u001b[43m(\u001b[49m\u001b[43mtrial\u001b[49m\u001b[43m,\u001b[49m\u001b[43m \u001b[49m\u001b[38;5;241;43m*\u001b[39;49m\u001b[43margs\u001b[49m\u001b[43m,\u001b[49m\u001b[43m \u001b[49m\u001b[38;5;241;43m*\u001b[39;49m\u001b[38;5;241;43m*\u001b[39;49m\u001b[43mcopied_kwargs\u001b[49m\u001b[43m)\u001b[49m\n\u001b[1;32m    289\u001b[0m     histories\u001b[38;5;241m.\u001b[39mappend(obj_value)\n\u001b[1;32m    290\u001b[0m \u001b[38;5;28;01mreturn\u001b[39;00m histories\n",
      "File \u001b[0;32m~/opt/anaconda3/lib/python3.9/site-packages/keras_tuner/engine/tuner.py:214\u001b[0m, in \u001b[0;36mTuner._build_and_fit_model\u001b[0;34m(self, trial, *args, **kwargs)\u001b[0m\n\u001b[1;32m    212\u001b[0m hp \u001b[38;5;241m=\u001b[39m trial\u001b[38;5;241m.\u001b[39mhyperparameters\n\u001b[1;32m    213\u001b[0m model \u001b[38;5;241m=\u001b[39m \u001b[38;5;28mself\u001b[39m\u001b[38;5;241m.\u001b[39m_try_build(hp)\n\u001b[0;32m--> 214\u001b[0m results \u001b[38;5;241m=\u001b[39m \u001b[38;5;28;43mself\u001b[39;49m\u001b[38;5;241;43m.\u001b[39;49m\u001b[43mhypermodel\u001b[49m\u001b[38;5;241;43m.\u001b[39;49m\u001b[43mfit\u001b[49m\u001b[43m(\u001b[49m\u001b[43mhp\u001b[49m\u001b[43m,\u001b[49m\u001b[43m \u001b[49m\u001b[43mmodel\u001b[49m\u001b[43m,\u001b[49m\u001b[43m \u001b[49m\u001b[38;5;241;43m*\u001b[39;49m\u001b[43margs\u001b[49m\u001b[43m,\u001b[49m\u001b[43m \u001b[49m\u001b[38;5;241;43m*\u001b[39;49m\u001b[38;5;241;43m*\u001b[39;49m\u001b[43mkwargs\u001b[49m\u001b[43m)\u001b[49m\n\u001b[1;32m    215\u001b[0m tuner_utils\u001b[38;5;241m.\u001b[39mvalidate_trial_results(\n\u001b[1;32m    216\u001b[0m     results, \u001b[38;5;28mself\u001b[39m\u001b[38;5;241m.\u001b[39moracle\u001b[38;5;241m.\u001b[39mobjective, \u001b[38;5;124m\"\u001b[39m\u001b[38;5;124mHyperModel.fit()\u001b[39m\u001b[38;5;124m\"\u001b[39m\n\u001b[1;32m    217\u001b[0m )\n\u001b[1;32m    218\u001b[0m \u001b[38;5;28;01mreturn\u001b[39;00m results\n",
      "File \u001b[0;32m~/opt/anaconda3/lib/python3.9/site-packages/keras_tuner/engine/hypermodel.py:144\u001b[0m, in \u001b[0;36mHyperModel.fit\u001b[0;34m(self, hp, model, *args, **kwargs)\u001b[0m\n\u001b[1;32m    120\u001b[0m \u001b[38;5;28;01mdef\u001b[39;00m \u001b[38;5;21mfit\u001b[39m(\u001b[38;5;28mself\u001b[39m, hp, model, \u001b[38;5;241m*\u001b[39margs, \u001b[38;5;241m*\u001b[39m\u001b[38;5;241m*\u001b[39mkwargs):\n\u001b[1;32m    121\u001b[0m \u001b[38;5;250m    \u001b[39m\u001b[38;5;124;03m\"\"\"Train the model.\u001b[39;00m\n\u001b[1;32m    122\u001b[0m \n\u001b[1;32m    123\u001b[0m \u001b[38;5;124;03m    Args:\u001b[39;00m\n\u001b[0;32m   (...)\u001b[0m\n\u001b[1;32m    142\u001b[0m \u001b[38;5;124;03m        If return a float, it should be the `objective` value.\u001b[39;00m\n\u001b[1;32m    143\u001b[0m \u001b[38;5;124;03m    \"\"\"\u001b[39;00m\n\u001b[0;32m--> 144\u001b[0m     \u001b[38;5;28;01mreturn\u001b[39;00m \u001b[43mmodel\u001b[49m\u001b[38;5;241;43m.\u001b[39;49m\u001b[43mfit\u001b[49m\u001b[43m(\u001b[49m\u001b[38;5;241;43m*\u001b[39;49m\u001b[43margs\u001b[49m\u001b[43m,\u001b[49m\u001b[43m \u001b[49m\u001b[38;5;241;43m*\u001b[39;49m\u001b[38;5;241;43m*\u001b[39;49m\u001b[43mkwargs\u001b[49m\u001b[43m)\u001b[49m\n",
      "File \u001b[0;32m~/opt/anaconda3/lib/python3.9/site-packages/keras/utils/traceback_utils.py:65\u001b[0m, in \u001b[0;36mfilter_traceback.<locals>.error_handler\u001b[0;34m(*args, **kwargs)\u001b[0m\n\u001b[1;32m     63\u001b[0m filtered_tb \u001b[38;5;241m=\u001b[39m \u001b[38;5;28;01mNone\u001b[39;00m\n\u001b[1;32m     64\u001b[0m \u001b[38;5;28;01mtry\u001b[39;00m:\n\u001b[0;32m---> 65\u001b[0m     \u001b[38;5;28;01mreturn\u001b[39;00m \u001b[43mfn\u001b[49m\u001b[43m(\u001b[49m\u001b[38;5;241;43m*\u001b[39;49m\u001b[43margs\u001b[49m\u001b[43m,\u001b[49m\u001b[43m \u001b[49m\u001b[38;5;241;43m*\u001b[39;49m\u001b[38;5;241;43m*\u001b[39;49m\u001b[43mkwargs\u001b[49m\u001b[43m)\u001b[49m\n\u001b[1;32m     66\u001b[0m \u001b[38;5;28;01mexcept\u001b[39;00m \u001b[38;5;167;01mException\u001b[39;00m \u001b[38;5;28;01mas\u001b[39;00m e:\n\u001b[1;32m     67\u001b[0m     filtered_tb \u001b[38;5;241m=\u001b[39m _process_traceback_frames(e\u001b[38;5;241m.\u001b[39m__traceback__)\n",
      "File \u001b[0;32m~/opt/anaconda3/lib/python3.9/site-packages/keras/engine/training.py:1685\u001b[0m, in \u001b[0;36mModel.fit\u001b[0;34m(self, x, y, batch_size, epochs, verbose, callbacks, validation_split, validation_data, shuffle, class_weight, sample_weight, initial_epoch, steps_per_epoch, validation_steps, validation_batch_size, validation_freq, max_queue_size, workers, use_multiprocessing)\u001b[0m\n\u001b[1;32m   1677\u001b[0m \u001b[38;5;28;01mwith\u001b[39;00m tf\u001b[38;5;241m.\u001b[39mprofiler\u001b[38;5;241m.\u001b[39mexperimental\u001b[38;5;241m.\u001b[39mTrace(\n\u001b[1;32m   1678\u001b[0m     \u001b[38;5;124m\"\u001b[39m\u001b[38;5;124mtrain\u001b[39m\u001b[38;5;124m\"\u001b[39m,\n\u001b[1;32m   1679\u001b[0m     epoch_num\u001b[38;5;241m=\u001b[39mepoch,\n\u001b[0;32m   (...)\u001b[0m\n\u001b[1;32m   1682\u001b[0m     _r\u001b[38;5;241m=\u001b[39m\u001b[38;5;241m1\u001b[39m,\n\u001b[1;32m   1683\u001b[0m ):\n\u001b[1;32m   1684\u001b[0m     callbacks\u001b[38;5;241m.\u001b[39mon_train_batch_begin(step)\n\u001b[0;32m-> 1685\u001b[0m     tmp_logs \u001b[38;5;241m=\u001b[39m \u001b[38;5;28;43mself\u001b[39;49m\u001b[38;5;241;43m.\u001b[39;49m\u001b[43mtrain_function\u001b[49m\u001b[43m(\u001b[49m\u001b[43miterator\u001b[49m\u001b[43m)\u001b[49m\n\u001b[1;32m   1686\u001b[0m     \u001b[38;5;28;01mif\u001b[39;00m data_handler\u001b[38;5;241m.\u001b[39mshould_sync:\n\u001b[1;32m   1687\u001b[0m         context\u001b[38;5;241m.\u001b[39masync_wait()\n",
      "File \u001b[0;32m~/opt/anaconda3/lib/python3.9/site-packages/tensorflow/python/util/traceback_utils.py:150\u001b[0m, in \u001b[0;36mfilter_traceback.<locals>.error_handler\u001b[0;34m(*args, **kwargs)\u001b[0m\n\u001b[1;32m    148\u001b[0m filtered_tb \u001b[38;5;241m=\u001b[39m \u001b[38;5;28;01mNone\u001b[39;00m\n\u001b[1;32m    149\u001b[0m \u001b[38;5;28;01mtry\u001b[39;00m:\n\u001b[0;32m--> 150\u001b[0m   \u001b[38;5;28;01mreturn\u001b[39;00m \u001b[43mfn\u001b[49m\u001b[43m(\u001b[49m\u001b[38;5;241;43m*\u001b[39;49m\u001b[43margs\u001b[49m\u001b[43m,\u001b[49m\u001b[43m \u001b[49m\u001b[38;5;241;43m*\u001b[39;49m\u001b[38;5;241;43m*\u001b[39;49m\u001b[43mkwargs\u001b[49m\u001b[43m)\u001b[49m\n\u001b[1;32m    151\u001b[0m \u001b[38;5;28;01mexcept\u001b[39;00m \u001b[38;5;167;01mException\u001b[39;00m \u001b[38;5;28;01mas\u001b[39;00m e:\n\u001b[1;32m    152\u001b[0m   filtered_tb \u001b[38;5;241m=\u001b[39m _process_traceback_frames(e\u001b[38;5;241m.\u001b[39m__traceback__)\n",
      "File \u001b[0;32m~/opt/anaconda3/lib/python3.9/site-packages/tensorflow/python/eager/polymorphic_function/polymorphic_function.py:894\u001b[0m, in \u001b[0;36mFunction.__call__\u001b[0;34m(self, *args, **kwds)\u001b[0m\n\u001b[1;32m    891\u001b[0m compiler \u001b[38;5;241m=\u001b[39m \u001b[38;5;124m\"\u001b[39m\u001b[38;5;124mxla\u001b[39m\u001b[38;5;124m\"\u001b[39m \u001b[38;5;28;01mif\u001b[39;00m \u001b[38;5;28mself\u001b[39m\u001b[38;5;241m.\u001b[39m_jit_compile \u001b[38;5;28;01melse\u001b[39;00m \u001b[38;5;124m\"\u001b[39m\u001b[38;5;124mnonXla\u001b[39m\u001b[38;5;124m\"\u001b[39m\n\u001b[1;32m    893\u001b[0m \u001b[38;5;28;01mwith\u001b[39;00m OptionalXlaContext(\u001b[38;5;28mself\u001b[39m\u001b[38;5;241m.\u001b[39m_jit_compile):\n\u001b[0;32m--> 894\u001b[0m   result \u001b[38;5;241m=\u001b[39m \u001b[38;5;28;43mself\u001b[39;49m\u001b[38;5;241;43m.\u001b[39;49m\u001b[43m_call\u001b[49m\u001b[43m(\u001b[49m\u001b[38;5;241;43m*\u001b[39;49m\u001b[43margs\u001b[49m\u001b[43m,\u001b[49m\u001b[43m \u001b[49m\u001b[38;5;241;43m*\u001b[39;49m\u001b[38;5;241;43m*\u001b[39;49m\u001b[43mkwds\u001b[49m\u001b[43m)\u001b[49m\n\u001b[1;32m    896\u001b[0m new_tracing_count \u001b[38;5;241m=\u001b[39m \u001b[38;5;28mself\u001b[39m\u001b[38;5;241m.\u001b[39mexperimental_get_tracing_count()\n\u001b[1;32m    897\u001b[0m without_tracing \u001b[38;5;241m=\u001b[39m (tracing_count \u001b[38;5;241m==\u001b[39m new_tracing_count)\n",
      "File \u001b[0;32m~/opt/anaconda3/lib/python3.9/site-packages/tensorflow/python/eager/polymorphic_function/polymorphic_function.py:926\u001b[0m, in \u001b[0;36mFunction._call\u001b[0;34m(self, *args, **kwds)\u001b[0m\n\u001b[1;32m    923\u001b[0m   \u001b[38;5;28mself\u001b[39m\u001b[38;5;241m.\u001b[39m_lock\u001b[38;5;241m.\u001b[39mrelease()\n\u001b[1;32m    924\u001b[0m   \u001b[38;5;66;03m# In this case we have created variables on the first call, so we run the\u001b[39;00m\n\u001b[1;32m    925\u001b[0m   \u001b[38;5;66;03m# defunned version which is guaranteed to never create variables.\u001b[39;00m\n\u001b[0;32m--> 926\u001b[0m   \u001b[38;5;28;01mreturn\u001b[39;00m \u001b[38;5;28;43mself\u001b[39;49m\u001b[38;5;241;43m.\u001b[39;49m\u001b[43m_no_variable_creation_fn\u001b[49m\u001b[43m(\u001b[49m\u001b[38;5;241;43m*\u001b[39;49m\u001b[43margs\u001b[49m\u001b[43m,\u001b[49m\u001b[43m \u001b[49m\u001b[38;5;241;43m*\u001b[39;49m\u001b[38;5;241;43m*\u001b[39;49m\u001b[43mkwds\u001b[49m\u001b[43m)\u001b[49m  \u001b[38;5;66;03m# pylint: disable=not-callable\u001b[39;00m\n\u001b[1;32m    927\u001b[0m \u001b[38;5;28;01melif\u001b[39;00m \u001b[38;5;28mself\u001b[39m\u001b[38;5;241m.\u001b[39m_variable_creation_fn \u001b[38;5;129;01mis\u001b[39;00m \u001b[38;5;129;01mnot\u001b[39;00m \u001b[38;5;28;01mNone\u001b[39;00m:\n\u001b[1;32m    928\u001b[0m   \u001b[38;5;66;03m# Release the lock early so that multiple threads can perform the call\u001b[39;00m\n\u001b[1;32m    929\u001b[0m   \u001b[38;5;66;03m# in parallel.\u001b[39;00m\n\u001b[1;32m    930\u001b[0m   \u001b[38;5;28mself\u001b[39m\u001b[38;5;241m.\u001b[39m_lock\u001b[38;5;241m.\u001b[39mrelease()\n",
      "File \u001b[0;32m~/opt/anaconda3/lib/python3.9/site-packages/tensorflow/python/eager/polymorphic_function/tracing_compiler.py:143\u001b[0m, in \u001b[0;36mTracingCompiler.__call__\u001b[0;34m(self, *args, **kwargs)\u001b[0m\n\u001b[1;32m    140\u001b[0m \u001b[38;5;28;01mwith\u001b[39;00m \u001b[38;5;28mself\u001b[39m\u001b[38;5;241m.\u001b[39m_lock:\n\u001b[1;32m    141\u001b[0m   (concrete_function,\n\u001b[1;32m    142\u001b[0m    filtered_flat_args) \u001b[38;5;241m=\u001b[39m \u001b[38;5;28mself\u001b[39m\u001b[38;5;241m.\u001b[39m_maybe_define_function(args, kwargs)\n\u001b[0;32m--> 143\u001b[0m \u001b[38;5;28;01mreturn\u001b[39;00m \u001b[43mconcrete_function\u001b[49m\u001b[38;5;241;43m.\u001b[39;49m\u001b[43m_call_flat\u001b[49m\u001b[43m(\u001b[49m\n\u001b[1;32m    144\u001b[0m \u001b[43m    \u001b[49m\u001b[43mfiltered_flat_args\u001b[49m\u001b[43m,\u001b[49m\u001b[43m \u001b[49m\u001b[43mcaptured_inputs\u001b[49m\u001b[38;5;241;43m=\u001b[39;49m\u001b[43mconcrete_function\u001b[49m\u001b[38;5;241;43m.\u001b[39;49m\u001b[43mcaptured_inputs\u001b[49m\u001b[43m)\u001b[49m\n",
      "File \u001b[0;32m~/opt/anaconda3/lib/python3.9/site-packages/tensorflow/python/eager/polymorphic_function/monomorphic_function.py:1757\u001b[0m, in \u001b[0;36mConcreteFunction._call_flat\u001b[0;34m(self, args, captured_inputs, cancellation_manager)\u001b[0m\n\u001b[1;32m   1753\u001b[0m possible_gradient_type \u001b[38;5;241m=\u001b[39m gradients_util\u001b[38;5;241m.\u001b[39mPossibleTapeGradientTypes(args)\n\u001b[1;32m   1754\u001b[0m \u001b[38;5;28;01mif\u001b[39;00m (possible_gradient_type \u001b[38;5;241m==\u001b[39m gradients_util\u001b[38;5;241m.\u001b[39mPOSSIBLE_GRADIENT_TYPES_NONE\n\u001b[1;32m   1755\u001b[0m     \u001b[38;5;129;01mand\u001b[39;00m executing_eagerly):\n\u001b[1;32m   1756\u001b[0m   \u001b[38;5;66;03m# No tape is watching; skip to running the function.\u001b[39;00m\n\u001b[0;32m-> 1757\u001b[0m   \u001b[38;5;28;01mreturn\u001b[39;00m \u001b[38;5;28mself\u001b[39m\u001b[38;5;241m.\u001b[39m_build_call_outputs(\u001b[38;5;28;43mself\u001b[39;49m\u001b[38;5;241;43m.\u001b[39;49m\u001b[43m_inference_function\u001b[49m\u001b[38;5;241;43m.\u001b[39;49m\u001b[43mcall\u001b[49m\u001b[43m(\u001b[49m\n\u001b[1;32m   1758\u001b[0m \u001b[43m      \u001b[49m\u001b[43mctx\u001b[49m\u001b[43m,\u001b[49m\u001b[43m \u001b[49m\u001b[43margs\u001b[49m\u001b[43m,\u001b[49m\u001b[43m \u001b[49m\u001b[43mcancellation_manager\u001b[49m\u001b[38;5;241;43m=\u001b[39;49m\u001b[43mcancellation_manager\u001b[49m\u001b[43m)\u001b[49m)\n\u001b[1;32m   1759\u001b[0m forward_backward \u001b[38;5;241m=\u001b[39m \u001b[38;5;28mself\u001b[39m\u001b[38;5;241m.\u001b[39m_select_forward_and_backward_functions(\n\u001b[1;32m   1760\u001b[0m     args,\n\u001b[1;32m   1761\u001b[0m     possible_gradient_type,\n\u001b[1;32m   1762\u001b[0m     executing_eagerly)\n\u001b[1;32m   1763\u001b[0m forward_function, args_with_tangents \u001b[38;5;241m=\u001b[39m forward_backward\u001b[38;5;241m.\u001b[39mforward()\n",
      "File \u001b[0;32m~/opt/anaconda3/lib/python3.9/site-packages/tensorflow/python/eager/polymorphic_function/monomorphic_function.py:381\u001b[0m, in \u001b[0;36m_EagerDefinedFunction.call\u001b[0;34m(self, ctx, args, cancellation_manager)\u001b[0m\n\u001b[1;32m    379\u001b[0m \u001b[38;5;28;01mwith\u001b[39;00m _InterpolateFunctionError(\u001b[38;5;28mself\u001b[39m):\n\u001b[1;32m    380\u001b[0m   \u001b[38;5;28;01mif\u001b[39;00m cancellation_manager \u001b[38;5;129;01mis\u001b[39;00m \u001b[38;5;28;01mNone\u001b[39;00m:\n\u001b[0;32m--> 381\u001b[0m     outputs \u001b[38;5;241m=\u001b[39m \u001b[43mexecute\u001b[49m\u001b[38;5;241;43m.\u001b[39;49m\u001b[43mexecute\u001b[49m\u001b[43m(\u001b[49m\n\u001b[1;32m    382\u001b[0m \u001b[43m        \u001b[49m\u001b[38;5;28;43mstr\u001b[39;49m\u001b[43m(\u001b[49m\u001b[38;5;28;43mself\u001b[39;49m\u001b[38;5;241;43m.\u001b[39;49m\u001b[43msignature\u001b[49m\u001b[38;5;241;43m.\u001b[39;49m\u001b[43mname\u001b[49m\u001b[43m)\u001b[49m\u001b[43m,\u001b[49m\n\u001b[1;32m    383\u001b[0m \u001b[43m        \u001b[49m\u001b[43mnum_outputs\u001b[49m\u001b[38;5;241;43m=\u001b[39;49m\u001b[38;5;28;43mself\u001b[39;49m\u001b[38;5;241;43m.\u001b[39;49m\u001b[43m_num_outputs\u001b[49m\u001b[43m,\u001b[49m\n\u001b[1;32m    384\u001b[0m \u001b[43m        \u001b[49m\u001b[43minputs\u001b[49m\u001b[38;5;241;43m=\u001b[39;49m\u001b[43margs\u001b[49m\u001b[43m,\u001b[49m\n\u001b[1;32m    385\u001b[0m \u001b[43m        \u001b[49m\u001b[43mattrs\u001b[49m\u001b[38;5;241;43m=\u001b[39;49m\u001b[43mattrs\u001b[49m\u001b[43m,\u001b[49m\n\u001b[1;32m    386\u001b[0m \u001b[43m        \u001b[49m\u001b[43mctx\u001b[49m\u001b[38;5;241;43m=\u001b[39;49m\u001b[43mctx\u001b[49m\u001b[43m)\u001b[49m\n\u001b[1;32m    387\u001b[0m   \u001b[38;5;28;01melse\u001b[39;00m:\n\u001b[1;32m    388\u001b[0m     outputs \u001b[38;5;241m=\u001b[39m execute\u001b[38;5;241m.\u001b[39mexecute_with_cancellation(\n\u001b[1;32m    389\u001b[0m         \u001b[38;5;28mstr\u001b[39m(\u001b[38;5;28mself\u001b[39m\u001b[38;5;241m.\u001b[39msignature\u001b[38;5;241m.\u001b[39mname),\n\u001b[1;32m    390\u001b[0m         num_outputs\u001b[38;5;241m=\u001b[39m\u001b[38;5;28mself\u001b[39m\u001b[38;5;241m.\u001b[39m_num_outputs,\n\u001b[0;32m   (...)\u001b[0m\n\u001b[1;32m    393\u001b[0m         ctx\u001b[38;5;241m=\u001b[39mctx,\n\u001b[1;32m    394\u001b[0m         cancellation_manager\u001b[38;5;241m=\u001b[39mcancellation_manager)\n",
      "File \u001b[0;32m~/opt/anaconda3/lib/python3.9/site-packages/tensorflow/python/eager/execute.py:52\u001b[0m, in \u001b[0;36mquick_execute\u001b[0;34m(op_name, num_outputs, inputs, attrs, ctx, name)\u001b[0m\n\u001b[1;32m     50\u001b[0m \u001b[38;5;28;01mtry\u001b[39;00m:\n\u001b[1;32m     51\u001b[0m   ctx\u001b[38;5;241m.\u001b[39mensure_initialized()\n\u001b[0;32m---> 52\u001b[0m   tensors \u001b[38;5;241m=\u001b[39m \u001b[43mpywrap_tfe\u001b[49m\u001b[38;5;241;43m.\u001b[39;49m\u001b[43mTFE_Py_Execute\u001b[49m\u001b[43m(\u001b[49m\u001b[43mctx\u001b[49m\u001b[38;5;241;43m.\u001b[39;49m\u001b[43m_handle\u001b[49m\u001b[43m,\u001b[49m\u001b[43m \u001b[49m\u001b[43mdevice_name\u001b[49m\u001b[43m,\u001b[49m\u001b[43m \u001b[49m\u001b[43mop_name\u001b[49m\u001b[43m,\u001b[49m\n\u001b[1;32m     53\u001b[0m \u001b[43m                                      \u001b[49m\u001b[43minputs\u001b[49m\u001b[43m,\u001b[49m\u001b[43m \u001b[49m\u001b[43mattrs\u001b[49m\u001b[43m,\u001b[49m\u001b[43m \u001b[49m\u001b[43mnum_outputs\u001b[49m\u001b[43m)\u001b[49m\n\u001b[1;32m     54\u001b[0m \u001b[38;5;28;01mexcept\u001b[39;00m core\u001b[38;5;241m.\u001b[39m_NotOkStatusException \u001b[38;5;28;01mas\u001b[39;00m e:\n\u001b[1;32m     55\u001b[0m   \u001b[38;5;28;01mif\u001b[39;00m name \u001b[38;5;129;01mis\u001b[39;00m \u001b[38;5;129;01mnot\u001b[39;00m \u001b[38;5;28;01mNone\u001b[39;00m:\n",
      "\u001b[0;31mKeyboardInterrupt\u001b[0m: "
     ]
    }
   ],
   "source": [
    "# Running Random Search\n",
    "tuner_1.search(X_train, y_train, \\\n",
    "               epochs=15, \\\n",
    "               validation_data=(X_val, y_val), \\\n",
    "               callbacks=[tuner_1_stop, tuner_1_logs])"
   ]
  },
  {
   "cell_type": "code",
   "execution_count": 143,
   "id": "6743a817",
   "metadata": {},
   "outputs": [],
   "source": [
    "first_1, second_1, third_1, fourth_1, fifth_1 = tuner_1.get_best_models(5)"
   ]
  },
  {
   "cell_type": "code",
   "execution_count": 320,
   "id": "0aa37bb4",
   "metadata": {
    "scrolled": true
   },
   "outputs": [
    {
     "name": "stdout",
     "output_type": "stream",
     "text": [
      "Results summary\n",
      "Results in /Users/chinmayasukumar/Documents/Springboard/Capstone 3 - Metal defect detection/models/tuner_dir/tuner_round_1\n",
      "Showing 10 best trials\n",
      "Objective(name=\"val_accuracy\", direction=\"max\")\n",
      "\n",
      "Trial 04 summary\n",
      "Hyperparameters:\n",
      "optimizer: adam\n",
      "learning_rate: 0.0014480885322464736\n",
      "Score: 0.9407407641410828\n",
      "\n",
      "Trial 00 summary\n",
      "Hyperparameters:\n",
      "optimizer: adam\n",
      "learning_rate: 0.0010767154199577559\n",
      "Score: 0.9185185432434082\n",
      "\n",
      "Trial 10 summary\n",
      "Hyperparameters:\n",
      "optimizer: adam\n",
      "learning_rate: 0.0005033243136566849\n",
      "Score: 0.9185185432434082\n",
      "\n",
      "Trial 01 summary\n",
      "Hyperparameters:\n",
      "optimizer: adam\n",
      "learning_rate: 0.0003859743262681973\n",
      "Score: 0.9037036895751953\n",
      "\n",
      "Trial 05 summary\n",
      "Hyperparameters:\n",
      "optimizer: sgd\n",
      "learning_rate: 0.010684564575305484\n",
      "Score: 0.47777777910232544\n",
      "\n",
      "Trial 08 summary\n",
      "Hyperparameters:\n",
      "optimizer: sgd\n",
      "learning_rate: 0.005534159104865749\n",
      "Score: 0.4481481611728668\n",
      "\n",
      "Trial 07 summary\n",
      "Hyperparameters:\n",
      "optimizer: sgd\n",
      "learning_rate: 0.00734188628956296\n",
      "Score: 0.3740740716457367\n",
      "\n",
      "Trial 13 summary\n",
      "Hyperparameters:\n",
      "optimizer: sgd\n",
      "learning_rate: 0.002360219837353205\n",
      "Score: 0.3444444537162781\n",
      "\n",
      "Trial 12 summary\n",
      "Hyperparameters:\n",
      "optimizer: sgd\n",
      "learning_rate: 0.00037749995006984723\n",
      "Score: 0.2518518567085266\n",
      "\n",
      "Trial 06 summary\n",
      "Hyperparameters:\n",
      "optimizer: sgd\n",
      "learning_rate: 0.0003357751273539209\n",
      "Score: 0.2074074000120163\n"
     ]
    }
   ],
   "source": [
    "tuner_1.results_summary()"
   ]
  },
  {
   "cell_type": "code",
   "execution_count": 419,
   "id": "0bc73039",
   "metadata": {},
   "outputs": [
    {
     "data": {
      "text/plain": [
       "[<keras_tuner.engine.trial.Trial at 0x7f7fac45a970>,\n",
       " <keras_tuner.engine.trial.Trial at 0x7f7f4c52d1c0>,\n",
       " <keras_tuner.engine.trial.Trial at 0x7f7f4c2921f0>,\n",
       " <keras_tuner.engine.trial.Trial at 0x7f7f4aa43910>]"
      ]
     },
     "execution_count": 419,
     "metadata": {},
     "output_type": "execute_result"
    }
   ],
   "source": [
    "tuner_1.oracle.get_best_trials(4)"
   ]
  },
  {
   "cell_type": "markdown",
   "id": "1bb6bbc0",
   "metadata": {},
   "source": [
    "### Model #1 Round 1"
   ]
  },
  {
   "cell_type": "code",
   "execution_count": 279,
   "id": "03f8d736",
   "metadata": {},
   "outputs": [
    {
     "name": "stdout",
     "output_type": "stream",
     "text": [
      "9/9 [==============================] - 3s 332ms/step\n",
      "\n",
      "\n",
      "   Confusion matrix\n",
      "\n",
      "\n",
      "[[39  0  0  0  0  0]\n",
      " [ 0 51  0  1  0  0]\n",
      " [ 2  0 39  0  0  0]\n",
      " [ 0  3  0 45  0  1]\n",
      " [ 0  0  0  1 49  0]\n",
      " [ 0  0  0  3  0 36]]\n",
      "\n",
      "\n",
      "                 Classification report\n",
      "\n",
      "\n",
      "              precision    recall  f1-score   support\n",
      "\n",
      "     Crazing       0.95      1.00      0.97        39\n",
      "  Inclusions       0.94      0.98      0.96        52\n",
      "     Patches       1.00      0.95      0.97        41\n",
      "      Pitted       0.90      0.92      0.91        49\n",
      "      Rolled       1.00      0.98      0.99        50\n",
      "   Scratches       0.97      0.92      0.95        39\n",
      "\n",
      "    accuracy                           0.96       270\n",
      "   macro avg       0.96      0.96      0.96       270\n",
      "weighted avg       0.96      0.96      0.96       270\n",
      "\n"
     ]
    }
   ],
   "source": [
    "# Evaluating first model on test set and saving metrics dictionary\n",
    "model_1_1_metrics = predictor(first_1, X_test, y_test, True)"
   ]
  },
  {
   "cell_type": "code",
   "execution_count": 318,
   "id": "ec5d0b4e",
   "metadata": {},
   "outputs": [
    {
     "data": {
      "text/plain": [
       "0.9592592592592593"
      ]
     },
     "execution_count": 318,
     "metadata": {},
     "output_type": "execute_result"
    }
   ],
   "source": [
    "model_1_1_metrics['accuracy']"
   ]
  },
  {
   "cell_type": "markdown",
   "id": "146e4844",
   "metadata": {},
   "source": [
    "### Model #2 Round 1 "
   ]
  },
  {
   "cell_type": "code",
   "execution_count": 289,
   "id": "970e4b14",
   "metadata": {},
   "outputs": [
    {
     "name": "stdout",
     "output_type": "stream",
     "text": [
      "9/9 [==============================] - 3s 350ms/step\n",
      "\n",
      "\n",
      "   Confusion matrix\n",
      "\n",
      "\n",
      "[[39  0  0  0  0  0]\n",
      " [ 0 51  0  0  0  1]\n",
      " [ 3  0 38  0  0  0]\n",
      " [ 0 12  0 31  0  6]\n",
      " [ 0  0  0  0 50  0]\n",
      " [ 0  4  0  1  0 34]]\n",
      "\n",
      "\n",
      "                 Classification report\n",
      "\n",
      "\n",
      "              precision    recall  f1-score   support\n",
      "\n",
      "     Crazing       0.93      1.00      0.96        39\n",
      "  Inclusions       0.76      0.98      0.86        52\n",
      "     Patches       1.00      0.93      0.96        41\n",
      "      Pitted       0.97      0.63      0.77        49\n",
      "      Rolled       1.00      1.00      1.00        50\n",
      "   Scratches       0.83      0.87      0.85        39\n",
      "\n",
      "    accuracy                           0.90       270\n",
      "   macro avg       0.91      0.90      0.90       270\n",
      "weighted avg       0.91      0.90      0.90       270\n",
      "\n"
     ]
    }
   ],
   "source": [
    "# Evaluating second model on test set\n",
    "model_2_1_metrics = predictor(second_1, X_test, y_test)"
   ]
  },
  {
   "cell_type": "code",
   "execution_count": 323,
   "id": "26fa4242",
   "metadata": {},
   "outputs": [
    {
     "data": {
      "text/plain": [
       "0.9"
      ]
     },
     "execution_count": 323,
     "metadata": {},
     "output_type": "execute_result"
    }
   ],
   "source": [
    "model_2_1_metrics['accuracy']"
   ]
  },
  {
   "cell_type": "markdown",
   "id": "59384de9",
   "metadata": {},
   "source": [
    "### Model #3 Round 1"
   ]
  },
  {
   "cell_type": "code",
   "execution_count": 290,
   "id": "78396998",
   "metadata": {},
   "outputs": [
    {
     "name": "stdout",
     "output_type": "stream",
     "text": [
      "9/9 [==============================] - 4s 447ms/step\n",
      "\n",
      "\n",
      "   Confusion matrix\n",
      "\n",
      "\n",
      "[[38  0  1  0  0  0]\n",
      " [ 0 51  0  0  0  1]\n",
      " [ 9  0 32  0  0  0]\n",
      " [ 0  9  0 37  0  3]\n",
      " [ 1  0  0  0 49  0]\n",
      " [ 0  1  0  0  0 38]]\n",
      "\n",
      "\n",
      "                 Classification report\n",
      "\n",
      "\n",
      "              precision    recall  f1-score   support\n",
      "\n",
      "     Crazing       0.79      0.97      0.87        39\n",
      "  Inclusions       0.84      0.98      0.90        52\n",
      "     Patches       0.97      0.78      0.86        41\n",
      "      Pitted       1.00      0.76      0.86        49\n",
      "      Rolled       1.00      0.98      0.99        50\n",
      "   Scratches       0.90      0.97      0.94        39\n",
      "\n",
      "    accuracy                           0.91       270\n",
      "   macro avg       0.92      0.91      0.90       270\n",
      "weighted avg       0.92      0.91      0.91       270\n",
      "\n"
     ]
    }
   ],
   "source": [
    "# Evaluating third model on test set\n",
    "model_3_1_metrics = predictor(third_1, X_test, y_test)"
   ]
  },
  {
   "cell_type": "markdown",
   "id": "464bd393",
   "metadata": {},
   "source": [
    "### Model #4 Round 1"
   ]
  },
  {
   "cell_type": "code",
   "execution_count": 291,
   "id": "31e33433",
   "metadata": {},
   "outputs": [
    {
     "name": "stdout",
     "output_type": "stream",
     "text": [
      "9/9 [==============================] - 3s 375ms/step\n",
      "\n",
      "\n",
      "   Confusion matrix\n",
      "\n",
      "\n",
      "[[38  0  1  0  0  0]\n",
      " [ 0 44  0  4  0  4]\n",
      " [ 5  0 36  0  0  0]\n",
      " [ 0  6  0 40  0  3]\n",
      " [ 0  0  0  0 50  0]\n",
      " [ 0  1  0  2  2 34]]\n",
      "\n",
      "\n",
      "                 Classification report\n",
      "\n",
      "\n",
      "              precision    recall  f1-score   support\n",
      "\n",
      "     Crazing       0.88      0.97      0.93        39\n",
      "  Inclusions       0.86      0.85      0.85        52\n",
      "     Patches       0.97      0.88      0.92        41\n",
      "      Pitted       0.87      0.82      0.84        49\n",
      "      Rolled       0.96      1.00      0.98        50\n",
      "   Scratches       0.83      0.87      0.85        39\n",
      "\n",
      "    accuracy                           0.90       270\n",
      "   macro avg       0.90      0.90      0.90       270\n",
      "weighted avg       0.90      0.90      0.90       270\n",
      "\n"
     ]
    }
   ],
   "source": [
    "# Evaluating third model on test set\n",
    "model_4_1_metrics = predictor(fourth_1, X_test, y_test)"
   ]
  },
  {
   "cell_type": "markdown",
   "id": "03ea6ed3",
   "metadata": {},
   "source": [
    "### Model #5 Round 1"
   ]
  },
  {
   "cell_type": "code",
   "execution_count": 292,
   "id": "a4697340",
   "metadata": {},
   "outputs": [
    {
     "name": "stdout",
     "output_type": "stream",
     "text": [
      "9/9 [==============================] - 4s 419ms/step\n",
      "\n",
      "\n",
      "   Confusion matrix\n",
      "\n",
      "\n",
      "[[33  1  0  0  4  1]\n",
      " [ 4 12  0  0 17 19]\n",
      " [24  0 15  0  1  1]\n",
      " [38  0  0  0  4  7]\n",
      " [ 5  3  0  0 30 12]\n",
      " [ 2  0  0  1 11 25]]\n",
      "\n",
      "\n",
      "                 Classification report\n",
      "\n",
      "\n",
      "              precision    recall  f1-score   support\n",
      "\n",
      "     Crazing       0.31      0.85      0.46        39\n",
      "  Inclusions       0.75      0.23      0.35        52\n",
      "     Patches       1.00      0.37      0.54        41\n",
      "      Pitted       0.00      0.00      0.00        49\n",
      "      Rolled       0.45      0.60      0.51        50\n",
      "   Scratches       0.38      0.64      0.48        39\n",
      "\n",
      "    accuracy                           0.43       270\n",
      "   macro avg       0.48      0.45      0.39       270\n",
      "weighted avg       0.48      0.43      0.38       270\n",
      "\n"
     ]
    }
   ],
   "source": [
    "metrics_5_1_metrics = predictor(fifth_1, X_test, y_test)"
   ]
  },
  {
   "cell_type": "code",
   "execution_count": 238,
   "id": "90c88dc1",
   "metadata": {},
   "outputs": [],
   "source": [
    "def make_table(tuner, round_number, multiple_optimizers=True):\n",
    "    # Metrics to be evaluated\n",
    "    metrics = ['accuracy', 'loss', 'val_accurcy', 'val_loss']\n",
    "    \n",
    "    # Instantiating empty lists\n",
    "    trial_list  = list()\n",
    "    lr = list()\n",
    "    opt = list()\n",
    "    acc = list()\n",
    "    loss = list()\n",
    "    val_acc = list()\n",
    "    val_loss = list()\n",
    "    \n",
    "    # Metric names to be used \n",
    "    metrics = ['accuracy', 'loss', 'val_accuracy', 'val_loss']\n",
    "    \n",
    "    # List of metric tables\n",
    "    metrics_list = [acc, loss, val_acc, val_loss]\n",
    "    \n",
    "    # Looping through all the trials\n",
    "    for trial in tuner.oracle.get_best_trials(14):\n",
    "        \n",
    "        # Appending trial info to corresponding tables\n",
    "        trial_list.append(trial.trial_id)\n",
    "\n",
    "        lr.append(trial.hyperparameters.values['learning_rate'])\n",
    "        if multiple_optimizers:\n",
    "            opt.append(trial.hyperparameters.values['optimizer'])\n",
    "        else:\n",
    "            opt = ['adam' for i in range(14)]\n",
    "    \n",
    "        # Appending metric to corresponding tables\n",
    "        for m, metric in zip(metrics_list, metrics):\n",
    "            m.append(trial.metrics.get_history(metric)[0].value[0])\n",
    "    \n",
    "    # Combining list into DataFrame\n",
    "    results = pd.DataFrame({'Trial Number':trial_list,\n",
    "                            'Round':str(round_number),\n",
    "                            'Learning rate':lr,\n",
    "                            'Optimizer':opt,\n",
    "                            'Accuracy':acc,\n",
    "                            'Loss':loss,\n",
    "                            'Val accuracy':val_acc,\n",
    "                            'Val loss':val_loss})\n",
    "    \n",
    "    return results"
   ]
  },
  {
   "cell_type": "code",
   "execution_count": 240,
   "id": "2dbb05a2",
   "metadata": {},
   "outputs": [
    {
     "data": {
      "text/html": [
       "<div>\n",
       "<style scoped>\n",
       "    .dataframe tbody tr th:only-of-type {\n",
       "        vertical-align: middle;\n",
       "    }\n",
       "\n",
       "    .dataframe tbody tr th {\n",
       "        vertical-align: top;\n",
       "    }\n",
       "\n",
       "    .dataframe thead th {\n",
       "        text-align: right;\n",
       "    }\n",
       "</style>\n",
       "<table border=\"1\" class=\"dataframe\">\n",
       "  <thead>\n",
       "    <tr style=\"text-align: right;\">\n",
       "      <th></th>\n",
       "      <th>Trial Number</th>\n",
       "      <th>Round</th>\n",
       "      <th>Learning rate</th>\n",
       "      <th>Optimizer</th>\n",
       "      <th>Accuracy</th>\n",
       "      <th>Loss</th>\n",
       "      <th>Val accuracy</th>\n",
       "      <th>Val loss</th>\n",
       "    </tr>\n",
       "  </thead>\n",
       "  <tbody>\n",
       "    <tr>\n",
       "      <th>0</th>\n",
       "      <td>04</td>\n",
       "      <td>1</td>\n",
       "      <td>0.001448</td>\n",
       "      <td>adam</td>\n",
       "      <td>0.939683</td>\n",
       "      <td>0.204120</td>\n",
       "      <td>0.940741</td>\n",
       "      <td>0.209473</td>\n",
       "    </tr>\n",
       "    <tr>\n",
       "      <th>1</th>\n",
       "      <td>00</td>\n",
       "      <td>1</td>\n",
       "      <td>0.001077</td>\n",
       "      <td>adam</td>\n",
       "      <td>0.914286</td>\n",
       "      <td>0.235974</td>\n",
       "      <td>0.918519</td>\n",
       "      <td>0.251491</td>\n",
       "    </tr>\n",
       "    <tr>\n",
       "      <th>2</th>\n",
       "      <td>10</td>\n",
       "      <td>1</td>\n",
       "      <td>0.000503</td>\n",
       "      <td>adam</td>\n",
       "      <td>0.928571</td>\n",
       "      <td>0.184521</td>\n",
       "      <td>0.918519</td>\n",
       "      <td>0.243937</td>\n",
       "    </tr>\n",
       "    <tr>\n",
       "      <th>3</th>\n",
       "      <td>01</td>\n",
       "      <td>1</td>\n",
       "      <td>0.000386</td>\n",
       "      <td>adam</td>\n",
       "      <td>0.901587</td>\n",
       "      <td>0.279056</td>\n",
       "      <td>0.903704</td>\n",
       "      <td>0.248355</td>\n",
       "    </tr>\n",
       "    <tr>\n",
       "      <th>4</th>\n",
       "      <td>05</td>\n",
       "      <td>1</td>\n",
       "      <td>0.010685</td>\n",
       "      <td>sgd</td>\n",
       "      <td>0.530159</td>\n",
       "      <td>1.246183</td>\n",
       "      <td>0.477778</td>\n",
       "      <td>1.253679</td>\n",
       "    </tr>\n",
       "    <tr>\n",
       "      <th>5</th>\n",
       "      <td>08</td>\n",
       "      <td>1</td>\n",
       "      <td>0.005534</td>\n",
       "      <td>sgd</td>\n",
       "      <td>0.420635</td>\n",
       "      <td>1.453452</td>\n",
       "      <td>0.448148</td>\n",
       "      <td>1.400778</td>\n",
       "    </tr>\n",
       "    <tr>\n",
       "      <th>6</th>\n",
       "      <td>07</td>\n",
       "      <td>1</td>\n",
       "      <td>0.007342</td>\n",
       "      <td>sgd</td>\n",
       "      <td>0.465079</td>\n",
       "      <td>1.373682</td>\n",
       "      <td>0.374074</td>\n",
       "      <td>1.402330</td>\n",
       "    </tr>\n",
       "    <tr>\n",
       "      <th>7</th>\n",
       "      <td>13</td>\n",
       "      <td>1</td>\n",
       "      <td>0.002360</td>\n",
       "      <td>sgd</td>\n",
       "      <td>0.331746</td>\n",
       "      <td>1.623362</td>\n",
       "      <td>0.344444</td>\n",
       "      <td>1.612711</td>\n",
       "    </tr>\n",
       "    <tr>\n",
       "      <th>8</th>\n",
       "      <td>12</td>\n",
       "      <td>1</td>\n",
       "      <td>0.000377</td>\n",
       "      <td>sgd</td>\n",
       "      <td>0.219048</td>\n",
       "      <td>1.782488</td>\n",
       "      <td>0.251852</td>\n",
       "      <td>1.780683</td>\n",
       "    </tr>\n",
       "    <tr>\n",
       "      <th>9</th>\n",
       "      <td>06</td>\n",
       "      <td>1</td>\n",
       "      <td>0.000336</td>\n",
       "      <td>sgd</td>\n",
       "      <td>0.236508</td>\n",
       "      <td>1.767083</td>\n",
       "      <td>0.207407</td>\n",
       "      <td>1.774436</td>\n",
       "    </tr>\n",
       "    <tr>\n",
       "      <th>10</th>\n",
       "      <td>03</td>\n",
       "      <td>1</td>\n",
       "      <td>0.001457</td>\n",
       "      <td>sgd</td>\n",
       "      <td>0.168254</td>\n",
       "      <td>1.789790</td>\n",
       "      <td>0.174074</td>\n",
       "      <td>1.788360</td>\n",
       "    </tr>\n",
       "    <tr>\n",
       "      <th>11</th>\n",
       "      <td>11</td>\n",
       "      <td>1</td>\n",
       "      <td>0.000142</td>\n",
       "      <td>sgd</td>\n",
       "      <td>0.199206</td>\n",
       "      <td>1.788069</td>\n",
       "      <td>0.166667</td>\n",
       "      <td>1.784996</td>\n",
       "    </tr>\n",
       "    <tr>\n",
       "      <th>12</th>\n",
       "      <td>02</td>\n",
       "      <td>1</td>\n",
       "      <td>0.000382</td>\n",
       "      <td>sgd</td>\n",
       "      <td>0.144444</td>\n",
       "      <td>1.790135</td>\n",
       "      <td>0.162963</td>\n",
       "      <td>1.787310</td>\n",
       "    </tr>\n",
       "    <tr>\n",
       "      <th>13</th>\n",
       "      <td>09</td>\n",
       "      <td>1</td>\n",
       "      <td>0.000763</td>\n",
       "      <td>sgd</td>\n",
       "      <td>0.199206</td>\n",
       "      <td>1.789738</td>\n",
       "      <td>0.155556</td>\n",
       "      <td>1.788107</td>\n",
       "    </tr>\n",
       "  </tbody>\n",
       "</table>\n",
       "</div>"
      ],
      "text/plain": [
       "   Trial Number Round  Learning rate Optimizer  Accuracy      Loss  \\\n",
       "0            04     1       0.001448      adam  0.939683  0.204120   \n",
       "1            00     1       0.001077      adam  0.914286  0.235974   \n",
       "2            10     1       0.000503      adam  0.928571  0.184521   \n",
       "3            01     1       0.000386      adam  0.901587  0.279056   \n",
       "4            05     1       0.010685       sgd  0.530159  1.246183   \n",
       "5            08     1       0.005534       sgd  0.420635  1.453452   \n",
       "6            07     1       0.007342       sgd  0.465079  1.373682   \n",
       "7            13     1       0.002360       sgd  0.331746  1.623362   \n",
       "8            12     1       0.000377       sgd  0.219048  1.782488   \n",
       "9            06     1       0.000336       sgd  0.236508  1.767083   \n",
       "10           03     1       0.001457       sgd  0.168254  1.789790   \n",
       "11           11     1       0.000142       sgd  0.199206  1.788069   \n",
       "12           02     1       0.000382       sgd  0.144444  1.790135   \n",
       "13           09     1       0.000763       sgd  0.199206  1.789738   \n",
       "\n",
       "    Val accuracy  Val loss  \n",
       "0       0.940741  0.209473  \n",
       "1       0.918519  0.251491  \n",
       "2       0.918519  0.243937  \n",
       "3       0.903704  0.248355  \n",
       "4       0.477778  1.253679  \n",
       "5       0.448148  1.400778  \n",
       "6       0.374074  1.402330  \n",
       "7       0.344444  1.612711  \n",
       "8       0.251852  1.780683  \n",
       "9       0.207407  1.774436  \n",
       "10      0.174074  1.788360  \n",
       "11      0.166667  1.784996  \n",
       "12      0.162963  1.787310  \n",
       "13      0.155556  1.788107  "
      ]
     },
     "execution_count": 240,
     "metadata": {},
     "output_type": "execute_result"
    }
   ],
   "source": [
    "trials_1 = make_table(tuner_1,1)\n",
    "trials_1"
   ]
  },
  {
   "cell_type": "markdown",
   "id": "22bc8235",
   "metadata": {},
   "source": [
    "## 3.2 Final Round"
   ]
  },
  {
   "cell_type": "markdown",
   "id": "9cdfd1d6",
   "metadata": {},
   "source": [
    "#### The best performing optimizer is Adam"
   ]
  },
  {
   "cell_type": "markdown",
   "id": "2fc40a03",
   "metadata": {},
   "source": [
    "#### The best performing learning rate in the first search was ~0.00037. "
   ]
  },
  {
   "cell_type": "markdown",
   "id": "8dc49991",
   "metadata": {},
   "source": [
    "#### The accuracy seems to increase below this level so a Grid Search will be done to find the optimal optimization value using an Adam optimizer"
   ]
  },
  {
   "cell_type": "code",
   "execution_count": 178,
   "id": "1b5b3b69",
   "metadata": {},
   "outputs": [],
   "source": [
    "# Creating new model with Adam optimizer and tuning for learning rate only\n",
    "def create_model_2(hp):\n",
    "    model = models.Sequential([\n",
    "            layers.Conv2D(32, (3, 3), activation='relu', input_shape=(200, 200, 1)),\n",
    "            layers.MaxPooling2D((2, 2)),\n",
    "            layers.Conv2D(64, (3, 3), activation='relu'),\n",
    "            layers.MaxPooling2D((2, 2)),\n",
    "            layers.Conv2D(64, (3, 3), activation='relu'),\n",
    "            layers.MaxPooling2D((2, 2)),\n",
    "            layers.Flatten(),\n",
    "            layers.Dense(64, activation='relu'),\n",
    "            layers.Dense(6, activation='softmax')\n",
    "            ])\n",
    "\n",
    "    # Learning rate range for Grid Search is listed below\n",
    "    learning_rate = hp.Float('learning_rate', 0.0003, 0.0031, step=0.0002)\n",
    "    \n",
    "    # Adam optimizer is chosen over SGD\n",
    "    model.compile(optimizer=Adam(learning_rate),loss='categorical_crossentropy',\\\n",
    "            metrics=['accuracy'])\n",
    "    return model"
   ]
  },
  {
   "cell_type": "code",
   "execution_count": 179,
   "id": "1225a0f2",
   "metadata": {},
   "outputs": [],
   "source": [
    "# A GridSearch object is now generated\n",
    "# Grid Search used to accurately determine optimal learning rate\n",
    "\n",
    "tuner_2 = GridSearch(create_model_2, objective='val_accuracy', max_trials=15, executions_per_trial=1, \\\n",
    "                     directory=gen_path + 'tuner_dir', \\\n",
    "                     project_name='tuner_round_2', overwrite=True)"
   ]
  },
  {
   "cell_type": "code",
   "execution_count": 180,
   "id": "623b43be",
   "metadata": {},
   "outputs": [
    {
     "name": "stdout",
     "output_type": "stream",
     "text": [
      "Trial 14 Complete [00h 11m 43s]\n",
      "val_accuracy: 0.9111111164093018\n",
      "\n",
      "Best val_accuracy So Far: 0.9518518447875977\n",
      "Total elapsed time: 02h 16m 33s\n",
      "INFO:tensorflow:Oracle triggered exit\n"
     ]
    },
    {
     "name": "stderr",
     "output_type": "stream",
     "text": [
      "INFO:tensorflow:Oracle triggered exit\n"
     ]
    }
   ],
   "source": [
    "# Searching hyperparameters\n",
    "tuner_2.search(X_train, y_train, epochs=12, validation_data=(X_val, y_val))"
   ]
  },
  {
   "cell_type": "code",
   "execution_count": 181,
   "id": "3540a3e2",
   "metadata": {
    "scrolled": true
   },
   "outputs": [
    {
     "name": "stdout",
     "output_type": "stream",
     "text": [
      "Results summary\n",
      "Results in /Users/chinmayasukumar/Documents/Springboard/Capstone 3 - Metal defect detection/models/tuner_dir/tuner_round_2\n",
      "Showing 10 best trials\n",
      "Objective(name=\"val_accuracy\", direction=\"max\")\n",
      "\n",
      "Trial 06 summary\n",
      "Hyperparameters:\n",
      "learning_rate: 0.0015\n",
      "Score: 0.9518518447875977\n",
      "\n",
      "Trial 02 summary\n",
      "Hyperparameters:\n",
      "learning_rate: 0.0007\n",
      "Score: 0.9481481313705444\n",
      "\n",
      "Trial 01 summary\n",
      "Hyperparameters:\n",
      "learning_rate: 0.0005\n",
      "Score: 0.9370370507240295\n",
      "\n",
      "Trial 05 summary\n",
      "Hyperparameters:\n",
      "learning_rate: 0.0013\n",
      "Score: 0.9370370507240295\n",
      "\n",
      "Trial 03 summary\n",
      "Hyperparameters:\n",
      "learning_rate: 0.0009\n",
      "Score: 0.9333333373069763\n",
      "\n",
      "Trial 04 summary\n",
      "Hyperparameters:\n",
      "learning_rate: 0.0011\n",
      "Score: 0.9296296238899231\n",
      "\n",
      "Trial 12 summary\n",
      "Hyperparameters:\n",
      "learning_rate: 0.0027\n",
      "Score: 0.9296296238899231\n",
      "\n",
      "Trial 08 summary\n",
      "Hyperparameters:\n",
      "learning_rate: 0.0019\n",
      "Score: 0.9222221970558167\n",
      "\n",
      "Trial 09 summary\n",
      "Hyperparameters:\n",
      "learning_rate: 0.0021000000000000003\n",
      "Score: 0.9222221970558167\n",
      "\n",
      "Trial 00 summary\n",
      "Hyperparameters:\n",
      "learning_rate: 0.0003\n",
      "Score: 0.914814829826355\n"
     ]
    }
   ],
   "source": [
    "tuner_2.results_summary()"
   ]
  },
  {
   "cell_type": "code",
   "execution_count": 182,
   "id": "cf50f606",
   "metadata": {},
   "outputs": [],
   "source": [
    "first_2, second_2, third_2, fourth_2, fifth_2 = tuner_2.get_best_models(5)"
   ]
  },
  {
   "cell_type": "markdown",
   "id": "ba1bd70d",
   "metadata": {},
   "source": [
    "## 4.0 Evaluating best models"
   ]
  },
  {
   "cell_type": "markdown",
   "id": "11df7f65",
   "metadata": {},
   "source": [
    "### Model #1 Final Round"
   ]
  },
  {
   "cell_type": "code",
   "execution_count": 293,
   "id": "a4803796",
   "metadata": {},
   "outputs": [
    {
     "name": "stdout",
     "output_type": "stream",
     "text": [
      "9/9 [==============================] - 4s 409ms/step\n",
      "\n",
      "\n",
      "   Confusion matrix\n",
      "\n",
      "\n",
      "[[38  0  1  0  0  0]\n",
      " [ 0 51  0  0  0  1]\n",
      " [ 2  0 39  0  0  0]\n",
      " [ 0  4  0 44  0  1]\n",
      " [ 0  0  0  0 50  0]\n",
      " [ 0  1  0  2  0 36]]\n",
      "\n",
      "\n",
      "                 Classification report\n",
      "\n",
      "\n",
      "              precision    recall  f1-score   support\n",
      "\n",
      "     Crazing       0.95      0.97      0.96        39\n",
      "  Inclusions       0.91      0.98      0.94        52\n",
      "     Patches       0.97      0.95      0.96        41\n",
      "      Pitted       0.96      0.90      0.93        49\n",
      "      Rolled       1.00      1.00      1.00        50\n",
      "   Scratches       0.95      0.92      0.94        39\n",
      "\n",
      "    accuracy                           0.96       270\n",
      "   macro avg       0.96      0.95      0.96       270\n",
      "weighted avg       0.96      0.96      0.96       270\n",
      "\n"
     ]
    }
   ],
   "source": [
    "# Evaluating first model\n",
    "model_1_2_metrics = predictor(first_2, X_test, y_test)"
   ]
  },
  {
   "cell_type": "markdown",
   "id": "a65dc36d",
   "metadata": {},
   "source": [
    "### Model #2 Final Round"
   ]
  },
  {
   "cell_type": "code",
   "execution_count": 294,
   "id": "48a7e8a9",
   "metadata": {},
   "outputs": [
    {
     "name": "stdout",
     "output_type": "stream",
     "text": [
      "9/9 [==============================] - 2s 259ms/step\n",
      "\n",
      "\n",
      "   Confusion matrix\n",
      "\n",
      "\n",
      "[[38  0  1  0  0  0]\n",
      " [ 0 50  0  2  0  0]\n",
      " [ 2  0 39  0  0  0]\n",
      " [ 0  7  0 41  0  1]\n",
      " [ 0  0  0  0 50  0]\n",
      " [ 0  1  0  2  0 36]]\n",
      "\n",
      "\n",
      "                 Classification report\n",
      "\n",
      "\n",
      "              precision    recall  f1-score   support\n",
      "\n",
      "     Crazing       0.95      0.97      0.96        39\n",
      "  Inclusions       0.86      0.96      0.91        52\n",
      "     Patches       0.97      0.95      0.96        41\n",
      "      Pitted       0.91      0.84      0.87        49\n",
      "      Rolled       1.00      1.00      1.00        50\n",
      "   Scratches       0.97      0.92      0.95        39\n",
      "\n",
      "    accuracy                           0.94       270\n",
      "   macro avg       0.95      0.94      0.94       270\n",
      "weighted avg       0.94      0.94      0.94       270\n",
      "\n"
     ]
    }
   ],
   "source": [
    "# Evaluating second model\n",
    "model_2_2_metrics = predictor(second_2, X_test, y_test)"
   ]
  },
  {
   "cell_type": "markdown",
   "id": "777642ab",
   "metadata": {},
   "source": [
    "### Model #3 Final Round"
   ]
  },
  {
   "cell_type": "code",
   "execution_count": 295,
   "id": "08df0ed3",
   "metadata": {},
   "outputs": [
    {
     "name": "stdout",
     "output_type": "stream",
     "text": [
      "9/9 [==============================] - 3s 358ms/step\n",
      "\n",
      "\n",
      "   Confusion matrix\n",
      "\n",
      "\n",
      "[[38  0  1  0  0  0]\n",
      " [ 0 46  0  6  0  0]\n",
      " [ 3  0 38  0  0  0]\n",
      " [ 0  2  0 46  0  1]\n",
      " [ 0  0  0  3 47  0]\n",
      " [ 0  1  0  2  0 36]]\n",
      "\n",
      "\n",
      "                 Classification report\n",
      "\n",
      "\n",
      "              precision    recall  f1-score   support\n",
      "\n",
      "     Crazing       0.93      0.97      0.95        39\n",
      "  Inclusions       0.94      0.88      0.91        52\n",
      "     Patches       0.97      0.93      0.95        41\n",
      "      Pitted       0.81      0.94      0.87        49\n",
      "      Rolled       1.00      0.94      0.97        50\n",
      "   Scratches       0.97      0.92      0.95        39\n",
      "\n",
      "    accuracy                           0.93       270\n",
      "   macro avg       0.94      0.93      0.93       270\n",
      "weighted avg       0.93      0.93      0.93       270\n",
      "\n"
     ]
    }
   ],
   "source": [
    "# Evaluating third model\n",
    "model_3_2_metrics = predictor(third_2, X_test, y_test)"
   ]
  },
  {
   "cell_type": "markdown",
   "id": "a584916e",
   "metadata": {},
   "source": [
    "### Model #4 Final Round"
   ]
  },
  {
   "cell_type": "code",
   "execution_count": 296,
   "id": "e8cb752f",
   "metadata": {
    "scrolled": false
   },
   "outputs": [
    {
     "name": "stdout",
     "output_type": "stream",
     "text": [
      "9/9 [==============================] - 4s 432ms/step\n",
      "\n",
      "\n",
      "   Confusion matrix\n",
      "\n",
      "\n",
      "[[37  0  2  0  0  0]\n",
      " [ 0 43  0  4  0  5]\n",
      " [ 0  0 41  0  0  0]\n",
      " [ 0  0  0 47  0  2]\n",
      " [ 0  0  0  0 50  0]\n",
      " [ 0  0  0  2  0 37]]\n",
      "\n",
      "\n",
      "                 Classification report\n",
      "\n",
      "\n",
      "              precision    recall  f1-score   support\n",
      "\n",
      "     Crazing       1.00      0.95      0.97        39\n",
      "  Inclusions       1.00      0.83      0.91        52\n",
      "     Patches       0.95      1.00      0.98        41\n",
      "      Pitted       0.89      0.96      0.92        49\n",
      "      Rolled       1.00      1.00      1.00        50\n",
      "   Scratches       0.84      0.95      0.89        39\n",
      "\n",
      "    accuracy                           0.94       270\n",
      "   macro avg       0.95      0.95      0.94       270\n",
      "weighted avg       0.95      0.94      0.94       270\n",
      "\n"
     ]
    }
   ],
   "source": [
    "# Evaluating fourth model\n",
    "model_4_2_metrics = predictor(fourth_2, X_test, y_test)"
   ]
  },
  {
   "cell_type": "markdown",
   "id": "3bff0ba7",
   "metadata": {},
   "source": [
    "### Model #5 Final Round"
   ]
  },
  {
   "cell_type": "code",
   "execution_count": 297,
   "id": "03a60915",
   "metadata": {},
   "outputs": [
    {
     "name": "stdout",
     "output_type": "stream",
     "text": [
      "9/9 [==============================] - 4s 430ms/step\n",
      "\n",
      "\n",
      "   Confusion matrix\n",
      "\n",
      "\n",
      "[[39  0  0  0  0  0]\n",
      " [ 0 50  0  2  0  0]\n",
      " [ 3  0 37  0  0  1]\n",
      " [ 0  7  0 41  0  1]\n",
      " [ 0  0  0  0 50  0]\n",
      " [ 0  3  0  2  0 34]]\n",
      "\n",
      "\n",
      "                 Classification report\n",
      "\n",
      "\n",
      "              precision    recall  f1-score   support\n",
      "\n",
      "     Crazing       0.93      1.00      0.96        39\n",
      "  Inclusions       0.83      0.96      0.89        52\n",
      "     Patches       1.00      0.90      0.95        41\n",
      "      Pitted       0.91      0.84      0.87        49\n",
      "      Rolled       1.00      1.00      1.00        50\n",
      "   Scratches       0.94      0.87      0.91        39\n",
      "\n",
      "    accuracy                           0.93       270\n",
      "   macro avg       0.94      0.93      0.93       270\n",
      "weighted avg       0.93      0.93      0.93       270\n",
      "\n"
     ]
    }
   ],
   "source": [
    "model_5_2_metrics = predictor(fifth_2, X_test, y_test)"
   ]
  },
  {
   "cell_type": "markdown",
   "id": "cb17c315",
   "metadata": {},
   "source": [
    "#### Second model seems to perform better"
   ]
  },
  {
   "cell_type": "markdown",
   "id": "a2f2ec15",
   "metadata": {},
   "source": [
    "## Visualizing Evaluations"
   ]
  },
  {
   "cell_type": "code",
   "execution_count": 242,
   "id": "9b65b17e",
   "metadata": {},
   "outputs": [],
   "source": [
    "trials_2 = make_table(tuner_2, 2, False)"
   ]
  },
  {
   "cell_type": "code",
   "execution_count": 365,
   "id": "85265deb",
   "metadata": {},
   "outputs": [
    {
     "data": {
      "text/html": [
       "<div>\n",
       "<style scoped>\n",
       "    .dataframe tbody tr th:only-of-type {\n",
       "        vertical-align: middle;\n",
       "    }\n",
       "\n",
       "    .dataframe tbody tr th {\n",
       "        vertical-align: top;\n",
       "    }\n",
       "\n",
       "    .dataframe thead th {\n",
       "        text-align: right;\n",
       "    }\n",
       "</style>\n",
       "<table border=\"1\" class=\"dataframe\">\n",
       "  <thead>\n",
       "    <tr style=\"text-align: right;\">\n",
       "      <th></th>\n",
       "      <th>Trial Number</th>\n",
       "      <th>Round</th>\n",
       "      <th>Learning rate</th>\n",
       "      <th>Optimizer</th>\n",
       "      <th>Accuracy</th>\n",
       "      <th>Loss</th>\n",
       "      <th>Val accuracy</th>\n",
       "      <th>Val loss</th>\n",
       "    </tr>\n",
       "  </thead>\n",
       "  <tbody>\n",
       "    <tr>\n",
       "      <th>0</th>\n",
       "      <td>06</td>\n",
       "      <td>2</td>\n",
       "      <td>0.0015</td>\n",
       "      <td>adam</td>\n",
       "      <td>0.962698</td>\n",
       "      <td>0.116745</td>\n",
       "      <td>0.951852</td>\n",
       "      <td>0.165208</td>\n",
       "    </tr>\n",
       "    <tr>\n",
       "      <th>1</th>\n",
       "      <td>02</td>\n",
       "      <td>2</td>\n",
       "      <td>0.0007</td>\n",
       "      <td>adam</td>\n",
       "      <td>0.955556</td>\n",
       "      <td>0.134481</td>\n",
       "      <td>0.948148</td>\n",
       "      <td>0.181522</td>\n",
       "    </tr>\n",
       "    <tr>\n",
       "      <th>2</th>\n",
       "      <td>01</td>\n",
       "      <td>2</td>\n",
       "      <td>0.0005</td>\n",
       "      <td>adam</td>\n",
       "      <td>0.942064</td>\n",
       "      <td>0.153519</td>\n",
       "      <td>0.937037</td>\n",
       "      <td>0.210759</td>\n",
       "    </tr>\n",
       "    <tr>\n",
       "      <th>3</th>\n",
       "      <td>05</td>\n",
       "      <td>2</td>\n",
       "      <td>0.0013</td>\n",
       "      <td>adam</td>\n",
       "      <td>0.963492</td>\n",
       "      <td>0.108751</td>\n",
       "      <td>0.937037</td>\n",
       "      <td>0.191360</td>\n",
       "    </tr>\n",
       "    <tr>\n",
       "      <th>4</th>\n",
       "      <td>03</td>\n",
       "      <td>2</td>\n",
       "      <td>0.0009</td>\n",
       "      <td>adam</td>\n",
       "      <td>0.961905</td>\n",
       "      <td>0.115939</td>\n",
       "      <td>0.933333</td>\n",
       "      <td>0.168169</td>\n",
       "    </tr>\n",
       "  </tbody>\n",
       "</table>\n",
       "</div>"
      ],
      "text/plain": [
       "  Trial Number Round  Learning rate Optimizer  Accuracy      Loss  \\\n",
       "0           06     2         0.0015      adam  0.962698  0.116745   \n",
       "1           02     2         0.0007      adam  0.955556  0.134481   \n",
       "2           01     2         0.0005      adam  0.942064  0.153519   \n",
       "3           05     2         0.0013      adam  0.963492  0.108751   \n",
       "4           03     2         0.0009      adam  0.961905  0.115939   \n",
       "\n",
       "   Val accuracy  Val loss  \n",
       "0      0.951852  0.165208  \n",
       "1      0.948148  0.181522  \n",
       "2      0.937037  0.210759  \n",
       "3      0.937037  0.191360  \n",
       "4      0.933333  0.168169  "
      ]
     },
     "execution_count": 365,
     "metadata": {},
     "output_type": "execute_result"
    }
   ],
   "source": [
    "combined_trials = pd.concat([trials_1, trials_2])\n",
    "combined_trials.sort_values(by=['Round','Val accuracy'], ascending=False).head(5)"
   ]
  },
  {
   "cell_type": "code",
   "execution_count": 356,
   "id": "f7842891",
   "metadata": {},
   "outputs": [],
   "source": [
    "combined_trials['Test accuracy'] = np.nan"
   ]
  },
  {
   "cell_type": "code",
   "execution_count": 385,
   "id": "59b1bd55",
   "metadata": {
    "scrolled": true
   },
   "outputs": [],
   "source": [
    "# Making table to test accuracies using model number and round \n",
    "trial_info = [('1','04'), ('1','00'), ('1','10'), ('1','01'),\\\n",
    "                   ('2','06'), ('2','02'), ('2','01'), ('2','05'), ('2','03')]\n",
    "\n",
    "model_acc = [model_1_1_metrics, model_2_1_metrics, model_3_1_metrics, model_4_1_metrics,\\\n",
    "            model_1_2_metrics, model_2_2_metrics, model_3_2_metrics, model_4_2_metrics, model_5_2_metrics]\n",
    "\n",
    "for trial, model in zip(trial_info, model_acc):\n",
    "    ind1 = combined_trials['Round'] == trial[0]\n",
    "    ind2 = combined_trials['Trial Number'] == trial[1]\n",
    "    combined_trials.loc[ind1 & ind2, 'Test accuracy'] = model['accuracy']"
   ]
  },
  {
   "cell_type": "code",
   "execution_count": 387,
   "id": "de4e6010",
   "metadata": {},
   "outputs": [
    {
     "data": {
      "text/html": [
       "<div>\n",
       "<style scoped>\n",
       "    .dataframe tbody tr th:only-of-type {\n",
       "        vertical-align: middle;\n",
       "    }\n",
       "\n",
       "    .dataframe tbody tr th {\n",
       "        vertical-align: top;\n",
       "    }\n",
       "\n",
       "    .dataframe thead th {\n",
       "        text-align: right;\n",
       "    }\n",
       "</style>\n",
       "<table border=\"1\" class=\"dataframe\">\n",
       "  <thead>\n",
       "    <tr style=\"text-align: right;\">\n",
       "      <th></th>\n",
       "      <th>Trial Number</th>\n",
       "      <th>Round</th>\n",
       "      <th>Learning rate</th>\n",
       "      <th>Optimizer</th>\n",
       "      <th>Accuracy</th>\n",
       "      <th>Loss</th>\n",
       "      <th>Val accuracy</th>\n",
       "      <th>Val loss</th>\n",
       "      <th>Test accuracy</th>\n",
       "    </tr>\n",
       "  </thead>\n",
       "  <tbody>\n",
       "    <tr>\n",
       "      <th>0</th>\n",
       "      <td>04</td>\n",
       "      <td>1</td>\n",
       "      <td>0.001448</td>\n",
       "      <td>adam</td>\n",
       "      <td>0.939683</td>\n",
       "      <td>0.204120</td>\n",
       "      <td>0.940741</td>\n",
       "      <td>0.209473</td>\n",
       "      <td>0.959259</td>\n",
       "    </tr>\n",
       "    <tr>\n",
       "      <th>1</th>\n",
       "      <td>00</td>\n",
       "      <td>1</td>\n",
       "      <td>0.001077</td>\n",
       "      <td>adam</td>\n",
       "      <td>0.914286</td>\n",
       "      <td>0.235974</td>\n",
       "      <td>0.918519</td>\n",
       "      <td>0.251491</td>\n",
       "      <td>0.900000</td>\n",
       "    </tr>\n",
       "    <tr>\n",
       "      <th>2</th>\n",
       "      <td>10</td>\n",
       "      <td>1</td>\n",
       "      <td>0.000503</td>\n",
       "      <td>adam</td>\n",
       "      <td>0.928571</td>\n",
       "      <td>0.184521</td>\n",
       "      <td>0.918519</td>\n",
       "      <td>0.243937</td>\n",
       "      <td>0.907407</td>\n",
       "    </tr>\n",
       "    <tr>\n",
       "      <th>3</th>\n",
       "      <td>01</td>\n",
       "      <td>1</td>\n",
       "      <td>0.000386</td>\n",
       "      <td>adam</td>\n",
       "      <td>0.901587</td>\n",
       "      <td>0.279056</td>\n",
       "      <td>0.903704</td>\n",
       "      <td>0.248355</td>\n",
       "      <td>0.896296</td>\n",
       "    </tr>\n",
       "    <tr>\n",
       "      <th>4</th>\n",
       "      <td>05</td>\n",
       "      <td>1</td>\n",
       "      <td>0.010685</td>\n",
       "      <td>sgd</td>\n",
       "      <td>0.530159</td>\n",
       "      <td>1.246183</td>\n",
       "      <td>0.477778</td>\n",
       "      <td>1.253679</td>\n",
       "      <td>NaN</td>\n",
       "    </tr>\n",
       "  </tbody>\n",
       "</table>\n",
       "</div>"
      ],
      "text/plain": [
       "  Trial Number Round  Learning rate Optimizer  Accuracy      Loss  \\\n",
       "0           04     1       0.001448      adam  0.939683  0.204120   \n",
       "1           00     1       0.001077      adam  0.914286  0.235974   \n",
       "2           10     1       0.000503      adam  0.928571  0.184521   \n",
       "3           01     1       0.000386      adam  0.901587  0.279056   \n",
       "4           05     1       0.010685       sgd  0.530159  1.246183   \n",
       "\n",
       "   Val accuracy  Val loss  Test accuracy  \n",
       "0      0.940741  0.209473       0.959259  \n",
       "1      0.918519  0.251491       0.900000  \n",
       "2      0.918519  0.243937       0.907407  \n",
       "3      0.903704  0.248355       0.896296  \n",
       "4      0.477778  1.253679            NaN  "
      ]
     },
     "execution_count": 387,
     "metadata": {},
     "output_type": "execute_result"
    }
   ],
   "source": [
    "combined_trials.head()"
   ]
  },
  {
   "cell_type": "code",
   "execution_count": 390,
   "id": "f39c503e",
   "metadata": {},
   "outputs": [],
   "source": [
    "adam_trials = combined_trials[combined_trials['Optimizer'] == 'adam']"
   ]
  },
  {
   "cell_type": "code",
   "execution_count": 393,
   "id": "cc79c21d",
   "metadata": {},
   "outputs": [
    {
     "data": {
      "image/png": "[encoded data removed]",
      "text/plain": [
       "<Figure size 720x360 with 1 Axes>"
      ]
     },
     "metadata": {
      "needs_background": "light"
     },
     "output_type": "display_data"
    }
   ],
   "source": [
    "plt.figure(figsize=(10,5))\n",
    "\n",
    "# Plotting values except for learning rates with highest accuracy\n",
    "plt.scatter(adam_trials['Learning rate'], adam_trials['Accuracy'], label='Training accuracy')\n",
    "plt.scatter(adam_trials['Learning rate'], adam_trials['Test accuracy'], label='Test accuracy')\n",
    "\n",
    "# Plotting highest learning rate values\n",
    "#plt.scatter(hyp_df['Learning rate'].iloc[:2], hyp_df['Accuracy'].iloc[:2], color='red')\n",
    "\n",
    "# Annotating highest test accuracy\n",
    "index = adam_trials['Test accuracy'].idxmax()\n",
    "x1, y1 = adam_trials.iloc[index,:]['Learning rate'], adam_trials.iloc[index,:]['Test accuracy']\n",
    "\n",
    "# getting coordinates of highest test accuracy\n",
    "note = str(x1.round(5)) + ', \\n' + str(y1.round(5))\n",
    "\n",
    "# Creating dict of arguments for arrow and box\n",
    "arrow_dict = {'facecolor':'black', 'shrink':0.05, 'lw':0.05, 'width':0.5}\n",
    "bbox_dict = {'boxstyle':'round,pad=0.2', 'fc':'lightgray', 'ec':'black', 'lw':0.5}\n",
    "\n",
    "# Annotating arrow and note in bbox\n",
    "#plt.annotate(note, xy=(x1,y1), xytext=(0.0015, 0.75), arrowprops=arrow_dict,\\\n",
    "#            bbox=bbox_dict)\n",
    "\n",
    "# Title and labels\n",
    "plt.title('Accuracies vs. learning rates in Final round')\n",
    "plt.xlabel('Learning rate')\n",
    "plt.ylabel('Accuracy')\n",
    "plt.legend()\n",
    "\n",
    "plt.show()"
   ]
  },
  {
   "cell_type": "markdown",
   "id": "e5d291da",
   "metadata": {},
   "source": [
    "#### A maximum is established at a learning rate of 0.00025"
   ]
  },
  {
   "cell_type": "markdown",
   "id": "edf48736",
   "metadata": {},
   "source": [
    "## 5.0 Image Tuning"
   ]
  },
  {
   "cell_type": "markdown",
   "id": "30ef6b28",
   "metadata": {},
   "source": [
    "### 4.1 Standard Score Normalizing"
   ]
  },
  {
   "cell_type": "code",
   "execution_count": 394,
   "id": "b84fc275",
   "metadata": {},
   "outputs": [],
   "source": [
    "# Subtracting image mean and image standard deviation from each individual image\n",
    "mean = np.mean(images)\n",
    "std = np.std(images)\n",
    "\n",
    "X_adj = (images - mean)/std"
   ]
  },
  {
   "cell_type": "code",
   "execution_count": 395,
   "id": "6d90233a",
   "metadata": {},
   "outputs": [],
   "source": [
    "# Splitting into train and (test, valid) sets to be split further\n",
    "X_train_adj, X_test_val_adj, y_train_adj, y_test_val = train_test_split(X_adj, labels, test_size=0.3, random_state=132)\n",
    "\n",
    "# Splitting (test, valid) set into seperate test and valid sets\n",
    "X_test_adj, X_val_adj, y_test_adj, y_val_adj = train_test_split(X_test_val_adj, y_test_val, test_size=0.5, random_state=132)"
   ]
  },
  {
   "cell_type": "code",
   "execution_count": 396,
   "id": "91817f3c",
   "metadata": {},
   "outputs": [
    {
     "data": {
      "text/plain": [
       "((1260, 200, 200, 1), (1260, 6))"
      ]
     },
     "execution_count": 396,
     "metadata": {},
     "output_type": "execute_result"
    }
   ],
   "source": [
    "# Confirming shapes\n",
    "X_train_adj.shape, y_train_adj.shape"
   ]
  },
  {
   "cell_type": "code",
   "execution_count": 397,
   "id": "5aeebd96",
   "metadata": {},
   "outputs": [
    {
     "data": {
      "text/plain": [
       "((270, 200, 200, 1), (270, 6))"
      ]
     },
     "execution_count": 397,
     "metadata": {},
     "output_type": "execute_result"
    }
   ],
   "source": [
    "# Confirming shapes\n",
    "X_val_adj.shape, y_val_adj.shape"
   ]
  },
  {
   "cell_type": "code",
   "execution_count": 398,
   "id": "6ec10c8e",
   "metadata": {},
   "outputs": [],
   "source": [
    "# Cloning second model of final round to train on normalized data\n",
    "norm_cnn = models.clone_model(second_2)"
   ]
  },
  {
   "cell_type": "code",
   "execution_count": 399,
   "id": "e5846fa4",
   "metadata": {
    "scrolled": false
   },
   "outputs": [
    {
     "ename": "TypeError",
     "evalue": "train_model() missing 1 required positional argument: 'checkpoint_path'",
     "output_type": "error",
     "traceback": [
      "\u001b[0;31m---------------------------------------------------------------------------\u001b[0m",
      "\u001b[0;31mTypeError\u001b[0m                                 Traceback (most recent call last)",
      "Input \u001b[0;32mIn [399]\u001b[0m, in \u001b[0;36m<cell line: 2>\u001b[0;34m()\u001b[0m\n\u001b[1;32m      1\u001b[0m \u001b[38;5;66;03m# Training normalized CNN\u001b[39;00m\n\u001b[0;32m----> 2\u001b[0m history_norm_cnn \u001b[38;5;241m=\u001b[39m \u001b[43mtrain_model\u001b[49m\u001b[43m(\u001b[49m\u001b[43mnorm_cnn\u001b[49m\u001b[43m,\u001b[49m\u001b[43m \u001b[49m\u001b[43mX_train_adj\u001b[49m\u001b[43m,\u001b[49m\u001b[43m \u001b[49m\u001b[43my_train_adj\u001b[49m\u001b[43m,\u001b[49m\u001b[43m \u001b[49m\u001b[43mX_val_adj\u001b[49m\u001b[43m,\u001b[49m\u001b[43m \u001b[49m\u001b[43my_val_adj\u001b[49m\u001b[43m)\u001b[49m\n",
      "\u001b[0;31mTypeError\u001b[0m: train_model() missing 1 required positional argument: 'checkpoint_path'"
     ]
    }
   ],
   "source": [
    "# Training normalized CNN\n",
    "history_norm_cnn = train_model(norm_cnn, X_train_adj, y_train_adj, X_val_adj, y_val_adj)"
   ]
  },
  {
   "cell_type": "code",
   "execution_count": null,
   "id": "3b4eb483",
   "metadata": {},
   "outputs": [],
   "source": [
    "# Confusion matrix Classification report for Normalized CNN model\n",
    "predictor(norm_cnn, X_test_adj, y_test_adj)"
   ]
  },
  {
   "cell_type": "code",
   "execution_count": null,
   "id": "2e21c765",
   "metadata": {},
   "outputs": [],
   "source": [
    "# Saving final model\n",
    "norm_cnn.save('/Users/chinmayasukumar/Documents/Springboard/Capstone 3 - Metal defect detection/models/final_model')"
   ]
  },
  {
   "cell_type": "markdown",
   "id": "598450ba",
   "metadata": {},
   "source": [
    "### Models lost, tuner had to be reloaded from directory"
   ]
  },
  {
   "cell_type": "code",
   "execution_count": null,
   "id": "7c5a2363",
   "metadata": {},
   "outputs": [],
   "source": [
    "# Get n number of models from the tuner that was loaded in a list\n",
    "def models_from_hp(tuner, n):\n",
    "    hps = tuner.get_best_hyperparameters(n)\n",
    "    return [tuner.hypermodel.build(hp) for hp in hps]"
   ]
  },
  {
   "cell_type": "code",
   "execution_count": null,
   "id": "6820dd21",
   "metadata": {},
   "outputs": [],
   "source": [
    "# Instantiating models from tuner\n",
    "first_rd_1, second_rd_1, third_rd_1, fourth_rd_1, fifth_rd_1 = models_from_hp(tuner_re, 5)"
   ]
  },
  {
   "cell_type": "code",
   "execution_count": null,
   "id": "6c5690b1",
   "metadata": {},
   "outputs": [],
   "source": [
    "# Loading weights from directory\n",
    "def load_weights(model_dir, model):\n",
    "    gen_path = '/Users/chinmayasukumar/Documents/Springboard/Capstone 3 - Metal defect detection/models/tuner_dir/Round 1/'\n",
    "    return model.load_weights(gen_path + model_dir + '/checkpoint')"
   ]
  },
  {
   "cell_type": "code",
   "execution_count": null,
   "id": "8b060faa",
   "metadata": {},
   "outputs": [],
   "source": [
    "# Loading weights from directory\n",
    "load_weights('trial_04', first_rd_1);\n",
    "load_weights('trial_08', second_rd_1);\n",
    "load_weights('trial_03', third_rd_1);\n",
    "load_weights('trial_02', fourth_rd_1);\n",
    "load_weights('trial_09', fifth_rd_1);"
   ]
  },
  {
   "cell_type": "markdown",
   "id": "ddda953c",
   "metadata": {},
   "source": [
    "### Models lost, tuner had to be reloaded from directory"
   ]
  },
  {
   "cell_type": "code",
   "execution_count": null,
   "id": "79520fa2",
   "metadata": {},
   "outputs": [],
   "source": [
    "tuner_2_dir = '/Users/chinmayasukumar/Documents/Springboard/Capstone 3 - Metal defect detection/models/tuner_dir'\n",
    "obj = \"val_recall\"\n",
    "tuner_r2 = kt.RandomSearch(hypermodel=create_model_2, \n",
    "                           executions_per_trial=5,\n",
    "                           overwrite=False, \n",
    "                           directory=tuner_2_dir,\n",
    "                           project_name=\"Round 2\");\n",
    "tuner_r2.reload();"
   ]
  },
  {
   "cell_type": "code",
   "execution_count": null,
   "id": "6f61f0ad",
   "metadata": {},
   "outputs": [],
   "source": [
    "# Get n number of models from the tuner that was loaded in a list\n",
    "def models_from_hp(tuner, n):\n",
    "    hps = tuner.get_best_hyperparameters(n)\n",
    "    return [tuner.hypermodel.build(hp) for hp in hps]"
   ]
  },
  {
   "cell_type": "code",
   "execution_count": null,
   "id": "ac99cd84",
   "metadata": {},
   "outputs": [],
   "source": [
    "first_rd_2, second_rd_2, third_rd_2, fourth_rd_2, fifth_rd_2 = tuner_2.get_best_models(5)"
   ]
  }
 ],
 "metadata": {
  "kernelspec": {
   "display_name": "Python 3 (ipykernel)",
   "language": "python",
   "name": "python3"
  },
  "language_info": {
   "codemirror_mode": {
    "name": "ipython",
    "version": 3
   },
   "file_extension": ".py",
   "mimetype": "text/x-python",
   "name": "python",
   "nbconvert_exporter": "python",
   "pygments_lexer": "ipython3",
   "version": "3.9.12"
  }
 },
 "nbformat": 4,
 "nbformat_minor": 5
}
