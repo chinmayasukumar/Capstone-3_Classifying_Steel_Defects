{
 "cells": [
  {
   "cell_type": "markdown",
   "id": "b9dbc516",
   "metadata": {},
   "source": [
    "# Modelling"
   ]
  },
  {
   "cell_type": "code",
   "execution_count": 1,
   "id": "0f7becc8",
   "metadata": {},
   "outputs": [],
   "source": [
    "#!pip install keras-tuner -q"
   ]
  },
  {
   "cell_type": "code",
   "execution_count": 1,
   "id": "8228724d",
   "metadata": {},
   "outputs": [
    {
     "name": "stderr",
     "output_type": "stream",
     "text": [
      "2023-08-11 13:55:27.180123: I tensorflow/core/platform/cpu_feature_guard.cc:182] This TensorFlow binary is optimized to use available CPU instructions in performance-critical operations.\n",
      "To enable the following instructions: AVX2 FMA, in other operations, rebuild TensorFlow with the appropriate compiler flags.\n"
     ]
    }
   ],
   "source": [
    "# Importing packages\n",
    "import pandas as pd\n",
    "import numpy as np\n",
    "import tensorflow as tf\n",
    "import matplotlib.pyplot as plt\n",
    "\n",
    "from sklearn.metrics import classification_report, confusion_matrix, accuracy_score\n",
    "\n",
    "import shutil\n",
    "import cv2;"
   ]
  },
  {
   "cell_type": "code",
   "execution_count": 2,
   "id": "06b3b90a",
   "metadata": {},
   "outputs": [],
   "source": [
    "from keras import models, layers, regularizers\n",
    "from keras.optimizers import Adam, SGD\n",
    "from keras.callbacks import EarlyStopping, ModelCheckpoint, CSVLogger\n",
    "from keras.wrappers.scikit_learn import KerasClassifier\n",
    "from sklearn.model_selection import train_test_split\n",
    "\n",
    "from keras.preprocessing.image import ImageDataGenerator;\n",
    "\n",
    "from keras.applications import ResNet50\n",
    "from tensorflow.keras.applications.resnet50 import preprocess_input\n",
    "from keras.preprocessing import image\n",
    "from keras.models import Model\n",
    "from keras.layers import Dense, GlobalAveragePooling2D, Input, MaxPooling2D, Flatten\n",
    "from keras_tuner import RandomSearch, GridSearch \n",
    "from keras.utils import set_random_seed"
   ]
  },
  {
   "cell_type": "code",
   "execution_count": 4,
   "id": "d0d7c28e",
   "metadata": {},
   "outputs": [],
   "source": [
    "import matplotlib.pyplot as plt"
   ]
  },
  {
   "cell_type": "code",
   "execution_count": 5,
   "id": "ab20510e",
   "metadata": {},
   "outputs": [],
   "source": [
    "from sklearn.dummy import DummyClassifier"
   ]
  },
  {
   "cell_type": "code",
   "execution_count": 6,
   "id": "e180c634",
   "metadata": {},
   "outputs": [
    {
     "name": "stderr",
     "output_type": "stream",
     "text": [
      "/var/folders/mh/9l7f5q2x0bsc05929xvm2nnh0000gn/T/ipykernel_11232/982218236.py:1: DeprecationWarning: `import kerastuner` is deprecated, please use `import keras_tuner`.\n",
      "  import kerastuner.tuners as kt\n"
     ]
    }
   ],
   "source": [
    "import kerastuner.tuners as kt"
   ]
  },
  {
   "cell_type": "code",
   "execution_count": 313,
   "id": "a8adca52",
   "metadata": {},
   "outputs": [],
   "source": [
    "import random\n",
    "import os\n",
    "from pretty_confusion_matrix import pp_matrix\n",
    "from sklearn.metrics import ConfusionMatrixDisplay"
   ]
  },
  {
   "cell_type": "code",
   "execution_count": 8,
   "id": "ced2f546",
   "metadata": {},
   "outputs": [],
   "source": [
    "import pickle"
   ]
  },
  {
   "cell_type": "code",
   "execution_count": 109,
   "id": "344e05c1",
   "metadata": {},
   "outputs": [],
   "source": [
    "from sklearn.preprocessing import StandardScaler"
   ]
  },
  {
   "cell_type": "code",
   "execution_count": 252,
   "id": "e27509f2",
   "metadata": {},
   "outputs": [],
   "source": [
    "from yellowbrick.classifier import ROCAUC"
   ]
  },
  {
   "cell_type": "markdown",
   "id": "b41800b5",
   "metadata": {},
   "source": [
    "# 1.0 Importing data"
   ]
  },
  {
   "cell_type": "code",
   "execution_count": 9,
   "id": "1ff7b1db",
   "metadata": {},
   "outputs": [],
   "source": [
    "gen_path = '/Users/chinmayasukumar/Documents/Capstone Projects/Capstone-3_Classifying_steel_defects/'"
   ]
  },
  {
   "cell_type": "code",
   "execution_count": 10,
   "id": "0c5a537d",
   "metadata": {},
   "outputs": [],
   "source": [
    "interim_path = gen_path + 'data/interim/'"
   ]
  },
  {
   "cell_type": "code",
   "execution_count": 11,
   "id": "fd16b71c",
   "metadata": {},
   "outputs": [],
   "source": [
    "# Loading images from preprocessing stage\n",
    "images = np.load(interim_path + 'images.npy')"
   ]
  },
  {
   "cell_type": "code",
   "execution_count": 12,
   "id": "a12a5c9b",
   "metadata": {},
   "outputs": [],
   "source": [
    "# Loading Dataframe \n",
    "df = pd.read_csv(interim_path + 'data.csv')"
   ]
  },
  {
   "cell_type": "code",
   "execution_count": 13,
   "id": "78e2eef5",
   "metadata": {},
   "outputs": [],
   "source": [
    "# One Hot Encoding labels\n",
    "df = pd.get_dummies(df, columns=['Type'])"
   ]
  },
  {
   "cell_type": "code",
   "execution_count": 14,
   "id": "035f07f7",
   "metadata": {},
   "outputs": [
    {
     "data": {
      "text/html": [
       "<div>\n",
       "<style scoped>\n",
       "    .dataframe tbody tr th:only-of-type {\n",
       "        vertical-align: middle;\n",
       "    }\n",
       "\n",
       "    .dataframe tbody tr th {\n",
       "        vertical-align: top;\n",
       "    }\n",
       "\n",
       "    .dataframe thead th {\n",
       "        text-align: right;\n",
       "    }\n",
       "</style>\n",
       "<table border=\"1\" class=\"dataframe\">\n",
       "  <thead>\n",
       "    <tr style=\"text-align: right;\">\n",
       "      <th></th>\n",
       "      <th>Filename</th>\n",
       "      <th>Number</th>\n",
       "      <th>Type_Crazing</th>\n",
       "      <th>Type_Inclusions</th>\n",
       "      <th>Type_Patches</th>\n",
       "      <th>Type_Pitted</th>\n",
       "      <th>Type_Rolled</th>\n",
       "      <th>Type_Scratches</th>\n",
       "    </tr>\n",
       "  </thead>\n",
       "  <tbody>\n",
       "    <tr>\n",
       "      <th>0</th>\n",
       "      <td>Cr_1.bmp</td>\n",
       "      <td>1</td>\n",
       "      <td>1</td>\n",
       "      <td>0</td>\n",
       "      <td>0</td>\n",
       "      <td>0</td>\n",
       "      <td>0</td>\n",
       "      <td>0</td>\n",
       "    </tr>\n",
       "    <tr>\n",
       "      <th>1</th>\n",
       "      <td>Cr_10.bmp</td>\n",
       "      <td>10</td>\n",
       "      <td>1</td>\n",
       "      <td>0</td>\n",
       "      <td>0</td>\n",
       "      <td>0</td>\n",
       "      <td>0</td>\n",
       "      <td>0</td>\n",
       "    </tr>\n",
       "    <tr>\n",
       "      <th>2</th>\n",
       "      <td>Cr_100.bmp</td>\n",
       "      <td>100</td>\n",
       "      <td>1</td>\n",
       "      <td>0</td>\n",
       "      <td>0</td>\n",
       "      <td>0</td>\n",
       "      <td>0</td>\n",
       "      <td>0</td>\n",
       "    </tr>\n",
       "    <tr>\n",
       "      <th>3</th>\n",
       "      <td>Cr_101.bmp</td>\n",
       "      <td>101</td>\n",
       "      <td>1</td>\n",
       "      <td>0</td>\n",
       "      <td>0</td>\n",
       "      <td>0</td>\n",
       "      <td>0</td>\n",
       "      <td>0</td>\n",
       "    </tr>\n",
       "    <tr>\n",
       "      <th>4</th>\n",
       "      <td>Cr_102.bmp</td>\n",
       "      <td>102</td>\n",
       "      <td>1</td>\n",
       "      <td>0</td>\n",
       "      <td>0</td>\n",
       "      <td>0</td>\n",
       "      <td>0</td>\n",
       "      <td>0</td>\n",
       "    </tr>\n",
       "  </tbody>\n",
       "</table>\n",
       "</div>"
      ],
      "text/plain": [
       "     Filename  Number  Type_Crazing  Type_Inclusions  Type_Patches  \\\n",
       "0    Cr_1.bmp       1             1                0             0   \n",
       "1   Cr_10.bmp      10             1                0             0   \n",
       "2  Cr_100.bmp     100             1                0             0   \n",
       "3  Cr_101.bmp     101             1                0             0   \n",
       "4  Cr_102.bmp     102             1                0             0   \n",
       "\n",
       "   Type_Pitted  Type_Rolled  Type_Scratches  \n",
       "0            0            0               0  \n",
       "1            0            0               0  \n",
       "2            0            0               0  \n",
       "3            0            0               0  \n",
       "4            0            0               0  "
      ]
     },
     "execution_count": 14,
     "metadata": {},
     "output_type": "execute_result"
    }
   ],
   "source": [
    "df.head()"
   ]
  },
  {
   "cell_type": "code",
   "execution_count": 15,
   "id": "f43115ad",
   "metadata": {},
   "outputs": [],
   "source": [
    "# Creating labels, converting to array\n",
    "labels = df.iloc[:,2:].to_numpy()"
   ]
  },
  {
   "cell_type": "code",
   "execution_count": 16,
   "id": "8c5d0870",
   "metadata": {},
   "outputs": [
    {
     "data": {
      "text/plain": [
       "(1800, 6)"
      ]
     },
     "execution_count": 16,
     "metadata": {},
     "output_type": "execute_result"
    }
   ],
   "source": [
    "# Confirming shape of labels\n",
    "labels.shape"
   ]
  },
  {
   "cell_type": "code",
   "execution_count": 18,
   "id": "f6d52598",
   "metadata": {},
   "outputs": [
    {
     "data": {
      "text/plain": [
       "array([[1, 0, 0, 0, 0, 0],\n",
       "       [1, 0, 0, 0, 0, 0],\n",
       "       [1, 0, 0, 0, 0, 0],\n",
       "       ...,\n",
       "       [0, 0, 0, 0, 0, 1],\n",
       "       [0, 0, 0, 0, 0, 1],\n",
       "       [0, 0, 0, 0, 0, 1]], dtype=uint8)"
      ]
     },
     "execution_count": 18,
     "metadata": {},
     "output_type": "execute_result"
    }
   ],
   "source": [
    "labels"
   ]
  },
  {
   "cell_type": "code",
   "execution_count": 19,
   "id": "39e69d69",
   "metadata": {},
   "outputs": [
    {
     "data": {
      "text/plain": [
       "(1800, 200, 200)"
      ]
     },
     "execution_count": 19,
     "metadata": {},
     "output_type": "execute_result"
    }
   ],
   "source": [
    "# Confirming shape of images\n",
    "images.shape"
   ]
  },
  {
   "cell_type": "code",
   "execution_count": 20,
   "id": "5b581506",
   "metadata": {},
   "outputs": [
    {
     "data": {
      "text/plain": [
       "0.5031324834422657"
      ]
     },
     "execution_count": 20,
     "metadata": {},
     "output_type": "execute_result"
    }
   ],
   "source": [
    "images.mean()"
   ]
  },
  {
   "cell_type": "code",
   "execution_count": 21,
   "id": "b4ef9f87",
   "metadata": {},
   "outputs": [
    {
     "data": {
      "text/plain": [
       "0.21237775109586898"
      ]
     },
     "execution_count": 21,
     "metadata": {},
     "output_type": "execute_result"
    }
   ],
   "source": [
    "images.std()"
   ]
  },
  {
   "cell_type": "code",
   "execution_count": 22,
   "id": "14c9e04e",
   "metadata": {},
   "outputs": [
    {
     "data": {
      "text/plain": [
       "132"
      ]
     },
     "execution_count": 22,
     "metadata": {},
     "output_type": "execute_result"
    }
   ],
   "source": [
    "# Sets seed for python, numpy and tensorflow \n",
    "random.seed(132)\n",
    "np.random.seed(132)\n",
    "\n",
    "# Checking seed\n",
    "np.random.get_state()[1][0]"
   ]
  },
  {
   "cell_type": "markdown",
   "id": "cfb0344a",
   "metadata": {},
   "source": [
    " # 2.1 Splitting Data"
   ]
  },
  {
   "cell_type": "code",
   "execution_count": 23,
   "id": "853f63c8",
   "metadata": {},
   "outputs": [],
   "source": [
    "# Reshape images to (1800, 200, 200, 1) to account for black/white channel\n",
    "images = images.reshape(-1,200,200,1)"
   ]
  },
  {
   "cell_type": "code",
   "execution_count": 24,
   "id": "459c0e2b",
   "metadata": {},
   "outputs": [],
   "source": [
    "# Splitting into train and (test, valid) sets, to be split further\n",
    "X_train, X_test_val, y_train, y_test_val = train_test_split(images, labels, test_size=0.3)\n",
    "\n",
    "# Splitting (test, valid) set into seperate test and validation sets\n",
    "X_test, X_val, y_test, y_val = train_test_split(X_test_val, y_test_val, test_size=0.5)"
   ]
  },
  {
   "cell_type": "code",
   "execution_count": 25,
   "id": "67ce0a12",
   "metadata": {},
   "outputs": [
    {
     "data": {
      "text/plain": [
       "((1260, 200, 200, 1), (270, 200, 200, 1), (270, 200, 200, 1))"
      ]
     },
     "execution_count": 25,
     "metadata": {},
     "output_type": "execute_result"
    }
   ],
   "source": [
    "# Checking shapes\n",
    "(X_train.shape, X_test.shape, X_val.shape)"
   ]
  },
  {
   "cell_type": "code",
   "execution_count": 26,
   "id": "bf747b45",
   "metadata": {},
   "outputs": [
    {
     "data": {
      "text/plain": [
       "((1260, 6), (270, 6), (270, 6))"
      ]
     },
     "execution_count": 26,
     "metadata": {},
     "output_type": "execute_result"
    }
   ],
   "source": [
    "# Checking shapes\n",
    "(y_train.shape, y_test.shape, y_val.shape)"
   ]
  },
  {
   "cell_type": "code",
   "execution_count": 27,
   "id": "a3ed56d8",
   "metadata": {},
   "outputs": [],
   "source": [
    "data = {'X_train':X_train, 'y_train':y_train, 'X_val':X_val, 'y_val':y_val, 'X_test':X_test, 'y_test':y_test}\n",
    "\n",
    "with open(gen_path + 'data/interim/train_test_val.pkl', 'wb') as f:\n",
    "        pickle.dump(data, f)"
   ]
  },
  {
   "cell_type": "markdown",
   "id": "896ed605",
   "metadata": {},
   "source": [
    "#### There are 1800 200x200 images each with a defect corresponding to one of 6 types"
   ]
  },
  {
   "cell_type": "markdown",
   "id": "31b9b913",
   "metadata": {},
   "source": [
    "# 3.0 Model selection"
   ]
  },
  {
   "cell_type": "markdown",
   "id": "c1b5d1e9",
   "metadata": {},
   "source": [
    "# 3.1 Dummy Classifier"
   ]
  },
  {
   "cell_type": "markdown",
   "id": "2c7556c8",
   "metadata": {},
   "source": [
    "#### Evaluating dummy classifier to set benchmark for evaluating real models"
   ]
  },
  {
   "cell_type": "code",
   "execution_count": 41,
   "id": "24ac77b9",
   "metadata": {},
   "outputs": [],
   "source": [
    "# Insantiating a Dummy Classifier\n",
    "dummy = DummyClassifier()"
   ]
  },
  {
   "cell_type": "code",
   "execution_count": 42,
   "id": "3ce5ead0",
   "metadata": {},
   "outputs": [
    {
     "data": {
      "text/plain": [
       "DummyClassifier()"
      ]
     },
     "execution_count": 42,
     "metadata": {},
     "output_type": "execute_result"
    }
   ],
   "source": [
    "# Fitting to training set\n",
    "dummy.fit(X_train, y_train)"
   ]
  },
  {
   "cell_type": "code",
   "execution_count": 43,
   "id": "50ed9262",
   "metadata": {},
   "outputs": [],
   "source": [
    "# Getting predictions\n",
    "y_pred = dummy.predict(X_val)"
   ]
  },
  {
   "cell_type": "code",
   "execution_count": 44,
   "id": "ed065203",
   "metadata": {},
   "outputs": [],
   "source": [
    "# Converting from one-hot encoded\n",
    "y_val_classes = np.argmax(y_val, axis=1)\n",
    "y_pred_classes = np.argmax(y_pred, axis=1)"
   ]
  },
  {
   "cell_type": "code",
   "execution_count": 45,
   "id": "fa15a51a",
   "metadata": {},
   "outputs": [
    {
     "name": "stdout",
     "output_type": "stream",
     "text": [
      "              precision    recall  f1-score   support\n",
      "\n",
      "           0       0.14      1.00      0.25        39\n",
      "           1       0.00      0.00      0.00        48\n",
      "           2       0.00      0.00      0.00        41\n",
      "           3       0.00      0.00      0.00        53\n",
      "           4       0.00      0.00      0.00        50\n",
      "           5       0.00      0.00      0.00        39\n",
      "\n",
      "    accuracy                           0.14       270\n",
      "   macro avg       0.02      0.17      0.04       270\n",
      "weighted avg       0.02      0.14      0.04       270\n",
      "\n"
     ]
    }
   ],
   "source": [
    "print(classification_report(y_val_classes, y_pred_classes, zero_division=False))"
   ]
  },
  {
   "cell_type": "markdown",
   "id": "fbb355ca",
   "metadata": {},
   "source": [
    "# 3.2 ResNet"
   ]
  },
  {
   "cell_type": "code",
   "execution_count": 29,
   "id": "0db41644",
   "metadata": {},
   "outputs": [],
   "source": [
    "# Fits model to training data (input) and validates on valuation data\n",
    "# Restores best weights\n",
    "\n",
    "model_path =  gen_path + 'models/'\n",
    "\n",
    "def train_model(model, X_train, y_train, X_val, y_val, checkpoint_path, epochs, to_compile=False):\n",
    "    \n",
    "    # If model needs compiling\n",
    "    if to_compile:\n",
    "        model.compile(optimizer=Adam(),\\\n",
    "                      loss='categorical_crossentropy',\\\n",
    "                      metrics=['accuracy'])\n",
    "    \n",
    "    # Checkpoint to lowest val_loss\n",
    "    # Saves weights of best model only\n",
    "    # Saves to users specified checkpoint\n",
    "    checkpoint = ModelCheckpoint(model_path + checkpoint_path,\\\n",
    "                                 monitor='val_loss', \n",
    "                                 save_best_model=True, \\\n",
    "                                 save_weights_only=True)\n",
    "     \n",
    "    # Returns history\n",
    "    # Uses checkpoint as Callback\n",
    "    history = model.fit(X_train, y_train,\\\n",
    "                        epochs=epochs, \\\n",
    "                        validation_data=(X_val, y_val),\\\n",
    "                        callbacks=[checkpoint])\n",
    "        \n",
    "    return history"
   ]
  },
  {
   "cell_type": "markdown",
   "id": "a5731014",
   "metadata": {},
   "source": [
    "## Transforming Grayscale to mimic RGB"
   ]
  },
  {
   "cell_type": "code",
   "execution_count": 39,
   "id": "89973da2",
   "metadata": {},
   "outputs": [],
   "source": [
    "# Simulating images so they appear RGB\n",
    "# np.repeat repeats X_train's last column which is the column added for grayscale\n",
    "X_train_rgb = np.repeat(X_train,3,-1)\n",
    "X_test_rgb = np.repeat(X_test,3,-1)\n",
    "X_val_rgb = np.repeat(X_val,3,-1)"
   ]
  },
  {
   "cell_type": "code",
   "execution_count": 48,
   "id": "a7d91cc1",
   "metadata": {},
   "outputs": [
    {
     "data": {
      "text/plain": [
       "((1260, 200, 200, 3), (270, 200, 200, 3), (270, 200, 200, 3))"
      ]
     },
     "execution_count": 48,
     "metadata": {},
     "output_type": "execute_result"
    }
   ],
   "source": [
    "X_train_rgb.shape, X_test_rgb.shape, X_val_rgb.shape"
   ]
  },
  {
   "cell_type": "code",
   "execution_count": 41,
   "id": "fe6c1b8e",
   "metadata": {},
   "outputs": [
    {
     "data": {
      "text/plain": [
       "((1260, 6), (270, 6), (270, 6))"
      ]
     },
     "execution_count": 41,
     "metadata": {},
     "output_type": "execute_result"
    }
   ],
   "source": [
    "y_train.shape, y_test.shape, y_val.shape"
   ]
  },
  {
   "cell_type": "code",
   "execution_count": 42,
   "id": "57b4ac8b",
   "metadata": {},
   "outputs": [
    {
     "data": {
      "text/plain": [
       "array([0, 0, 0, 0, 0, 1], dtype=uint8)"
      ]
     },
     "execution_count": 42,
     "metadata": {},
     "output_type": "execute_result"
    }
   ],
   "source": [
    "labels[1500]"
   ]
  },
  {
   "cell_type": "markdown",
   "id": "313b0890",
   "metadata": {},
   "source": [
    "## Training ResNet"
   ]
  },
  {
   "cell_type": "code",
   "execution_count": 109,
   "id": "fe085cae",
   "metadata": {},
   "outputs": [],
   "source": [
    "# Creating ResNet model\n",
    "# input_tensor has shape (200, 200, 3) since ResNet only takes RGB images\n",
    "# include_top = False since only 6 classes not 1000 in include_top ImageNet final layer\n",
    "res_model = ResNet50(weights='imagenet', include_top=False, input_tensor=Input(shape=(200,200,3)))\n",
    "\n",
    "# Keeping original weights of ResNet the same\n",
    "for layer in res_model.layers:\n",
    "    layer.trainable = False"
   ]
  },
  {
   "cell_type": "code",
   "execution_count": 112,
   "id": "ba3dac12",
   "metadata": {},
   "outputs": [
    {
     "name": "stdout",
     "output_type": "stream",
     "text": [
      "Model: \"model_17\"\n",
      "__________________________________________________________________________________________________\n",
      " Layer (type)                   Output Shape         Param #     Connected to                     \n",
      "==================================================================================================\n",
      " input_2 (InputLayer)           [(None, 200, 200, 3  0           []                               \n",
      "                                )]                                                                \n",
      "                                                                                                  \n",
      " conv1_pad (ZeroPadding2D)      (None, 206, 206, 3)  0           ['input_2[0][0]']                \n",
      "                                                                                                  \n",
      " conv1_conv (Conv2D)            (None, 100, 100, 64  9472        ['conv1_pad[0][0]']              \n",
      "                                )                                                                 \n",
      "                                                                                                  \n",
      " conv1_bn (BatchNormalization)  (None, 100, 100, 64  256         ['conv1_conv[0][0]']             \n",
      "                                )                                                                 \n",
      "                                                                                                  \n",
      " conv1_relu (Activation)        (None, 100, 100, 64  0           ['conv1_bn[0][0]']               \n",
      "                                )                                                                 \n",
      "                                                                                                  \n",
      " pool1_pad (ZeroPadding2D)      (None, 102, 102, 64  0           ['conv1_relu[0][0]']             \n",
      "                                )                                                                 \n",
      "                                                                                                  \n",
      " pool1_pool (MaxPooling2D)      (None, 50, 50, 64)   0           ['pool1_pad[0][0]']              \n",
      "                                                                                                  \n",
      " conv2_block1_1_conv (Conv2D)   (None, 50, 50, 64)   4160        ['pool1_pool[0][0]']             \n",
      "                                                                                                  \n",
      " conv2_block1_1_bn (BatchNormal  (None, 50, 50, 64)  256         ['conv2_block1_1_conv[0][0]']    \n",
      " ization)                                                                                         \n",
      "                                                                                                  \n",
      " conv2_block1_1_relu (Activatio  (None, 50, 50, 64)  0           ['conv2_block1_1_bn[0][0]']      \n",
      " n)                                                                                               \n",
      "                                                                                                  \n",
      " conv2_block1_2_conv (Conv2D)   (None, 50, 50, 64)   36928       ['conv2_block1_1_relu[0][0]']    \n",
      "                                                                                                  \n",
      " conv2_block1_2_bn (BatchNormal  (None, 50, 50, 64)  256         ['conv2_block1_2_conv[0][0]']    \n",
      " ization)                                                                                         \n",
      "                                                                                                  \n",
      " conv2_block1_2_relu (Activatio  (None, 50, 50, 64)  0           ['conv2_block1_2_bn[0][0]']      \n",
      " n)                                                                                               \n",
      "                                                                                                  \n",
      " conv2_block1_0_conv (Conv2D)   (None, 50, 50, 256)  16640       ['pool1_pool[0][0]']             \n",
      "                                                                                                  \n",
      " conv2_block1_3_conv (Conv2D)   (None, 50, 50, 256)  16640       ['conv2_block1_2_relu[0][0]']    \n",
      "                                                                                                  \n",
      " conv2_block1_0_bn (BatchNormal  (None, 50, 50, 256)  1024       ['conv2_block1_0_conv[0][0]']    \n",
      " ization)                                                                                         \n",
      "                                                                                                  \n",
      " conv2_block1_3_bn (BatchNormal  (None, 50, 50, 256)  1024       ['conv2_block1_3_conv[0][0]']    \n",
      " ization)                                                                                         \n",
      "                                                                                                  \n",
      " conv2_block1_add (Add)         (None, 50, 50, 256)  0           ['conv2_block1_0_bn[0][0]',      \n",
      "                                                                  'conv2_block1_3_bn[0][0]']      \n",
      "                                                                                                  \n",
      " conv2_block1_out (Activation)  (None, 50, 50, 256)  0           ['conv2_block1_add[0][0]']       \n",
      "                                                                                                  \n",
      " conv2_block2_1_conv (Conv2D)   (None, 50, 50, 64)   16448       ['conv2_block1_out[0][0]']       \n",
      "                                                                                                  \n",
      " conv2_block2_1_bn (BatchNormal  (None, 50, 50, 64)  256         ['conv2_block2_1_conv[0][0]']    \n",
      " ization)                                                                                         \n",
      "                                                                                                  \n",
      " conv2_block2_1_relu (Activatio  (None, 50, 50, 64)  0           ['conv2_block2_1_bn[0][0]']      \n",
      " n)                                                                                               \n",
      "                                                                                                  \n",
      " conv2_block2_2_conv (Conv2D)   (None, 50, 50, 64)   36928       ['conv2_block2_1_relu[0][0]']    \n",
      "                                                                                                  \n",
      " conv2_block2_2_bn (BatchNormal  (None, 50, 50, 64)  256         ['conv2_block2_2_conv[0][0]']    \n",
      " ization)                                                                                         \n",
      "                                                                                                  \n",
      " conv2_block2_2_relu (Activatio  (None, 50, 50, 64)  0           ['conv2_block2_2_bn[0][0]']      \n",
      " n)                                                                                               \n",
      "                                                                                                  \n",
      " conv2_block2_3_conv (Conv2D)   (None, 50, 50, 256)  16640       ['conv2_block2_2_relu[0][0]']    \n",
      "                                                                                                  \n",
      " conv2_block2_3_bn (BatchNormal  (None, 50, 50, 256)  1024       ['conv2_block2_3_conv[0][0]']    \n",
      " ization)                                                                                         \n",
      "                                                                                                  \n",
      " conv2_block2_add (Add)         (None, 50, 50, 256)  0           ['conv2_block1_out[0][0]',       \n",
      "                                                                  'conv2_block2_3_bn[0][0]']      \n",
      "                                                                                                  \n",
      " conv2_block2_out (Activation)  (None, 50, 50, 256)  0           ['conv2_block2_add[0][0]']       \n",
      "                                                                                                  \n",
      " conv2_block3_1_conv (Conv2D)   (None, 50, 50, 64)   16448       ['conv2_block2_out[0][0]']       \n",
      "                                                                                                  \n",
      " conv2_block3_1_bn (BatchNormal  (None, 50, 50, 64)  256         ['conv2_block3_1_conv[0][0]']    \n",
      " ization)                                                                                         \n"
     ]
    },
    {
     "name": "stdout",
     "output_type": "stream",
     "text": [
      "                                                                                                  \n",
      " conv2_block3_1_relu (Activatio  (None, 50, 50, 64)  0           ['conv2_block3_1_bn[0][0]']      \n",
      " n)                                                                                               \n",
      "                                                                                                  \n",
      " conv2_block3_2_conv (Conv2D)   (None, 50, 50, 64)   36928       ['conv2_block3_1_relu[0][0]']    \n",
      "                                                                                                  \n",
      " conv2_block3_2_bn (BatchNormal  (None, 50, 50, 64)  256         ['conv2_block3_2_conv[0][0]']    \n",
      " ization)                                                                                         \n",
      "                                                                                                  \n",
      " conv2_block3_2_relu (Activatio  (None, 50, 50, 64)  0           ['conv2_block3_2_bn[0][0]']      \n",
      " n)                                                                                               \n",
      "                                                                                                  \n",
      " conv2_block3_3_conv (Conv2D)   (None, 50, 50, 256)  16640       ['conv2_block3_2_relu[0][0]']    \n",
      "                                                                                                  \n",
      " conv2_block3_3_bn (BatchNormal  (None, 50, 50, 256)  1024       ['conv2_block3_3_conv[0][0]']    \n",
      " ization)                                                                                         \n",
      "                                                                                                  \n",
      " conv2_block3_add (Add)         (None, 50, 50, 256)  0           ['conv2_block2_out[0][0]',       \n",
      "                                                                  'conv2_block3_3_bn[0][0]']      \n",
      "                                                                                                  \n",
      " conv2_block3_out (Activation)  (None, 50, 50, 256)  0           ['conv2_block3_add[0][0]']       \n",
      "                                                                                                  \n",
      " conv3_block1_1_conv (Conv2D)   (None, 25, 25, 128)  32896       ['conv2_block3_out[0][0]']       \n",
      "                                                                                                  \n",
      " conv3_block1_1_bn (BatchNormal  (None, 25, 25, 128)  512        ['conv3_block1_1_conv[0][0]']    \n",
      " ization)                                                                                         \n",
      "                                                                                                  \n",
      " conv3_block1_1_relu (Activatio  (None, 25, 25, 128)  0          ['conv3_block1_1_bn[0][0]']      \n",
      " n)                                                                                               \n",
      "                                                                                                  \n",
      " conv3_block1_2_conv (Conv2D)   (None, 25, 25, 128)  147584      ['conv3_block1_1_relu[0][0]']    \n",
      "                                                                                                  \n",
      " conv3_block1_2_bn (BatchNormal  (None, 25, 25, 128)  512        ['conv3_block1_2_conv[0][0]']    \n",
      " ization)                                                                                         \n",
      "                                                                                                  \n",
      " conv3_block1_2_relu (Activatio  (None, 25, 25, 128)  0          ['conv3_block1_2_bn[0][0]']      \n",
      " n)                                                                                               \n",
      "                                                                                                  \n",
      " conv3_block1_0_conv (Conv2D)   (None, 25, 25, 512)  131584      ['conv2_block3_out[0][0]']       \n",
      "                                                                                                  \n",
      " conv3_block1_3_conv (Conv2D)   (None, 25, 25, 512)  66048       ['conv3_block1_2_relu[0][0]']    \n",
      "                                                                                                  \n",
      " conv3_block1_0_bn (BatchNormal  (None, 25, 25, 512)  2048       ['conv3_block1_0_conv[0][0]']    \n",
      " ization)                                                                                         \n",
      "                                                                                                  \n",
      " conv3_block1_3_bn (BatchNormal  (None, 25, 25, 512)  2048       ['conv3_block1_3_conv[0][0]']    \n",
      " ization)                                                                                         \n",
      "                                                                                                  \n",
      " conv3_block1_add (Add)         (None, 25, 25, 512)  0           ['conv3_block1_0_bn[0][0]',      \n",
      "                                                                  'conv3_block1_3_bn[0][0]']      \n",
      "                                                                                                  \n",
      " conv3_block1_out (Activation)  (None, 25, 25, 512)  0           ['conv3_block1_add[0][0]']       \n",
      "                                                                                                  \n",
      " conv3_block2_1_conv (Conv2D)   (None, 25, 25, 128)  65664       ['conv3_block1_out[0][0]']       \n",
      "                                                                                                  \n",
      " conv3_block2_1_bn (BatchNormal  (None, 25, 25, 128)  512        ['conv3_block2_1_conv[0][0]']    \n",
      " ization)                                                                                         \n",
      "                                                                                                  \n",
      " conv3_block2_1_relu (Activatio  (None, 25, 25, 128)  0          ['conv3_block2_1_bn[0][0]']      \n",
      " n)                                                                                               \n",
      "                                                                                                  \n",
      " conv3_block2_2_conv (Conv2D)   (None, 25, 25, 128)  147584      ['conv3_block2_1_relu[0][0]']    \n",
      "                                                                                                  \n",
      " conv3_block2_2_bn (BatchNormal  (None, 25, 25, 128)  512        ['conv3_block2_2_conv[0][0]']    \n",
      " ization)                                                                                         \n",
      "                                                                                                  \n",
      " conv3_block2_2_relu (Activatio  (None, 25, 25, 128)  0          ['conv3_block2_2_bn[0][0]']      \n",
      " n)                                                                                               \n",
      "                                                                                                  \n",
      " conv3_block2_3_conv (Conv2D)   (None, 25, 25, 512)  66048       ['conv3_block2_2_relu[0][0]']    \n",
      "                                                                                                  \n",
      " conv3_block2_3_bn (BatchNormal  (None, 25, 25, 512)  2048       ['conv3_block2_3_conv[0][0]']    \n",
      " ization)                                                                                         \n",
      "                                                                                                  \n",
      " conv3_block2_add (Add)         (None, 25, 25, 512)  0           ['conv3_block1_out[0][0]',       \n",
      "                                                                  'conv3_block2_3_bn[0][0]']      \n",
      "                                                                                                  \n",
      " conv3_block2_out (Activation)  (None, 25, 25, 512)  0           ['conv3_block2_add[0][0]']       \n",
      "                                                                                                  \n",
      " conv3_block3_1_conv (Conv2D)   (None, 25, 25, 128)  65664       ['conv3_block2_out[0][0]']       \n",
      "                                                                                                  \n",
      " conv3_block3_1_bn (BatchNormal  (None, 25, 25, 128)  512        ['conv3_block3_1_conv[0][0]']    \n",
      " ization)                                                                                         \n"
     ]
    },
    {
     "name": "stdout",
     "output_type": "stream",
     "text": [
      "                                                                                                  \n",
      " conv3_block3_1_relu (Activatio  (None, 25, 25, 128)  0          ['conv3_block3_1_bn[0][0]']      \n",
      " n)                                                                                               \n",
      "                                                                                                  \n",
      " conv3_block3_2_conv (Conv2D)   (None, 25, 25, 128)  147584      ['conv3_block3_1_relu[0][0]']    \n",
      "                                                                                                  \n",
      " conv3_block3_2_bn (BatchNormal  (None, 25, 25, 128)  512        ['conv3_block3_2_conv[0][0]']    \n",
      " ization)                                                                                         \n",
      "                                                                                                  \n",
      " conv3_block3_2_relu (Activatio  (None, 25, 25, 128)  0          ['conv3_block3_2_bn[0][0]']      \n",
      " n)                                                                                               \n",
      "                                                                                                  \n",
      " conv3_block3_3_conv (Conv2D)   (None, 25, 25, 512)  66048       ['conv3_block3_2_relu[0][0]']    \n",
      "                                                                                                  \n",
      " conv3_block3_3_bn (BatchNormal  (None, 25, 25, 512)  2048       ['conv3_block3_3_conv[0][0]']    \n",
      " ization)                                                                                         \n",
      "                                                                                                  \n",
      " conv3_block3_add (Add)         (None, 25, 25, 512)  0           ['conv3_block2_out[0][0]',       \n",
      "                                                                  'conv3_block3_3_bn[0][0]']      \n",
      "                                                                                                  \n",
      " conv3_block3_out (Activation)  (None, 25, 25, 512)  0           ['conv3_block3_add[0][0]']       \n",
      "                                                                                                  \n",
      " conv3_block4_1_conv (Conv2D)   (None, 25, 25, 128)  65664       ['conv3_block3_out[0][0]']       \n",
      "                                                                                                  \n",
      " conv3_block4_1_bn (BatchNormal  (None, 25, 25, 128)  512        ['conv3_block4_1_conv[0][0]']    \n",
      " ization)                                                                                         \n",
      "                                                                                                  \n",
      " conv3_block4_1_relu (Activatio  (None, 25, 25, 128)  0          ['conv3_block4_1_bn[0][0]']      \n",
      " n)                                                                                               \n",
      "                                                                                                  \n",
      " conv3_block4_2_conv (Conv2D)   (None, 25, 25, 128)  147584      ['conv3_block4_1_relu[0][0]']    \n",
      "                                                                                                  \n",
      " conv3_block4_2_bn (BatchNormal  (None, 25, 25, 128)  512        ['conv3_block4_2_conv[0][0]']    \n",
      " ization)                                                                                         \n",
      "                                                                                                  \n",
      " conv3_block4_2_relu (Activatio  (None, 25, 25, 128)  0          ['conv3_block4_2_bn[0][0]']      \n",
      " n)                                                                                               \n",
      "                                                                                                  \n",
      " conv3_block4_3_conv (Conv2D)   (None, 25, 25, 512)  66048       ['conv3_block4_2_relu[0][0]']    \n",
      "                                                                                                  \n",
      " conv3_block4_3_bn (BatchNormal  (None, 25, 25, 512)  2048       ['conv3_block4_3_conv[0][0]']    \n",
      " ization)                                                                                         \n",
      "                                                                                                  \n",
      " conv3_block4_add (Add)         (None, 25, 25, 512)  0           ['conv3_block3_out[0][0]',       \n",
      "                                                                  'conv3_block4_3_bn[0][0]']      \n",
      "                                                                                                  \n",
      " conv3_block4_out (Activation)  (None, 25, 25, 512)  0           ['conv3_block4_add[0][0]']       \n",
      "                                                                                                  \n",
      " conv4_block1_1_conv (Conv2D)   (None, 13, 13, 256)  131328      ['conv3_block4_out[0][0]']       \n",
      "                                                                                                  \n",
      " conv4_block1_1_bn (BatchNormal  (None, 13, 13, 256)  1024       ['conv4_block1_1_conv[0][0]']    \n",
      " ization)                                                                                         \n",
      "                                                                                                  \n",
      " conv4_block1_1_relu (Activatio  (None, 13, 13, 256)  0          ['conv4_block1_1_bn[0][0]']      \n",
      " n)                                                                                               \n",
      "                                                                                                  \n",
      " conv4_block1_2_conv (Conv2D)   (None, 13, 13, 256)  590080      ['conv4_block1_1_relu[0][0]']    \n",
      "                                                                                                  \n",
      " conv4_block1_2_bn (BatchNormal  (None, 13, 13, 256)  1024       ['conv4_block1_2_conv[0][0]']    \n",
      " ization)                                                                                         \n",
      "                                                                                                  \n",
      " conv4_block1_2_relu (Activatio  (None, 13, 13, 256)  0          ['conv4_block1_2_bn[0][0]']      \n",
      " n)                                                                                               \n",
      "                                                                                                  \n",
      " conv4_block1_0_conv (Conv2D)   (None, 13, 13, 1024  525312      ['conv3_block4_out[0][0]']       \n",
      "                                )                                                                 \n",
      "                                                                                                  \n",
      " conv4_block1_3_conv (Conv2D)   (None, 13, 13, 1024  263168      ['conv4_block1_2_relu[0][0]']    \n",
      "                                )                                                                 \n",
      "                                                                                                  \n",
      " conv4_block1_0_bn (BatchNormal  (None, 13, 13, 1024  4096       ['conv4_block1_0_conv[0][0]']    \n",
      " ization)                       )                                                                 \n",
      "                                                                                                  \n",
      " conv4_block1_3_bn (BatchNormal  (None, 13, 13, 1024  4096       ['conv4_block1_3_conv[0][0]']    \n",
      " ization)                       )                                                                 \n",
      "                                                                                                  \n",
      " conv4_block1_add (Add)         (None, 13, 13, 1024  0           ['conv4_block1_0_bn[0][0]',      \n",
      "                                )                                 'conv4_block1_3_bn[0][0]']      \n",
      "                                                                                                  \n",
      " conv4_block1_out (Activation)  (None, 13, 13, 1024  0           ['conv4_block1_add[0][0]']       \n",
      "                                )                                                                 \n",
      "                                                                                                  \n",
      " conv4_block2_1_conv (Conv2D)   (None, 13, 13, 256)  262400      ['conv4_block1_out[0][0]']       \n"
     ]
    },
    {
     "name": "stdout",
     "output_type": "stream",
     "text": [
      "                                                                                                  \n",
      " conv4_block2_1_bn (BatchNormal  (None, 13, 13, 256)  1024       ['conv4_block2_1_conv[0][0]']    \n",
      " ization)                                                                                         \n",
      "                                                                                                  \n",
      " conv4_block2_1_relu (Activatio  (None, 13, 13, 256)  0          ['conv4_block2_1_bn[0][0]']      \n",
      " n)                                                                                               \n",
      "                                                                                                  \n",
      " conv4_block2_2_conv (Conv2D)   (None, 13, 13, 256)  590080      ['conv4_block2_1_relu[0][0]']    \n",
      "                                                                                                  \n",
      " conv4_block2_2_bn (BatchNormal  (None, 13, 13, 256)  1024       ['conv4_block2_2_conv[0][0]']    \n",
      " ization)                                                                                         \n",
      "                                                                                                  \n",
      " conv4_block2_2_relu (Activatio  (None, 13, 13, 256)  0          ['conv4_block2_2_bn[0][0]']      \n",
      " n)                                                                                               \n",
      "                                                                                                  \n",
      " conv4_block2_3_conv (Conv2D)   (None, 13, 13, 1024  263168      ['conv4_block2_2_relu[0][0]']    \n",
      "                                )                                                                 \n",
      "                                                                                                  \n",
      " conv4_block2_3_bn (BatchNormal  (None, 13, 13, 1024  4096       ['conv4_block2_3_conv[0][0]']    \n",
      " ization)                       )                                                                 \n",
      "                                                                                                  \n",
      " conv4_block2_add (Add)         (None, 13, 13, 1024  0           ['conv4_block1_out[0][0]',       \n",
      "                                )                                 'conv4_block2_3_bn[0][0]']      \n",
      "                                                                                                  \n",
      " conv4_block2_out (Activation)  (None, 13, 13, 1024  0           ['conv4_block2_add[0][0]']       \n",
      "                                )                                                                 \n",
      "                                                                                                  \n",
      " conv4_block3_1_conv (Conv2D)   (None, 13, 13, 256)  262400      ['conv4_block2_out[0][0]']       \n",
      "                                                                                                  \n",
      " conv4_block3_1_bn (BatchNormal  (None, 13, 13, 256)  1024       ['conv4_block3_1_conv[0][0]']    \n",
      " ization)                                                                                         \n",
      "                                                                                                  \n",
      " conv4_block3_1_relu (Activatio  (None, 13, 13, 256)  0          ['conv4_block3_1_bn[0][0]']      \n",
      " n)                                                                                               \n",
      "                                                                                                  \n",
      " conv4_block3_2_conv (Conv2D)   (None, 13, 13, 256)  590080      ['conv4_block3_1_relu[0][0]']    \n",
      "                                                                                                  \n",
      " conv4_block3_2_bn (BatchNormal  (None, 13, 13, 256)  1024       ['conv4_block3_2_conv[0][0]']    \n",
      " ization)                                                                                         \n",
      "                                                                                                  \n",
      " conv4_block3_2_relu (Activatio  (None, 13, 13, 256)  0          ['conv4_block3_2_bn[0][0]']      \n",
      " n)                                                                                               \n",
      "                                                                                                  \n",
      " conv4_block3_3_conv (Conv2D)   (None, 13, 13, 1024  263168      ['conv4_block3_2_relu[0][0]']    \n",
      "                                )                                                                 \n",
      "                                                                                                  \n",
      " conv4_block3_3_bn (BatchNormal  (None, 13, 13, 1024  4096       ['conv4_block3_3_conv[0][0]']    \n",
      " ization)                       )                                                                 \n",
      "                                                                                                  \n",
      " conv4_block3_add (Add)         (None, 13, 13, 1024  0           ['conv4_block2_out[0][0]',       \n",
      "                                )                                 'conv4_block3_3_bn[0][0]']      \n",
      "                                                                                                  \n",
      " conv4_block3_out (Activation)  (None, 13, 13, 1024  0           ['conv4_block3_add[0][0]']       \n",
      "                                )                                                                 \n",
      "                                                                                                  \n",
      " conv4_block4_1_conv (Conv2D)   (None, 13, 13, 256)  262400      ['conv4_block3_out[0][0]']       \n",
      "                                                                                                  \n",
      " conv4_block4_1_bn (BatchNormal  (None, 13, 13, 256)  1024       ['conv4_block4_1_conv[0][0]']    \n",
      " ization)                                                                                         \n",
      "                                                                                                  \n",
      " conv4_block4_1_relu (Activatio  (None, 13, 13, 256)  0          ['conv4_block4_1_bn[0][0]']      \n",
      " n)                                                                                               \n",
      "                                                                                                  \n",
      " conv4_block4_2_conv (Conv2D)   (None, 13, 13, 256)  590080      ['conv4_block4_1_relu[0][0]']    \n",
      "                                                                                                  \n",
      " conv4_block4_2_bn (BatchNormal  (None, 13, 13, 256)  1024       ['conv4_block4_2_conv[0][0]']    \n",
      " ization)                                                                                         \n",
      "                                                                                                  \n",
      " conv4_block4_2_relu (Activatio  (None, 13, 13, 256)  0          ['conv4_block4_2_bn[0][0]']      \n",
      " n)                                                                                               \n",
      "                                                                                                  \n",
      " conv4_block4_3_conv (Conv2D)   (None, 13, 13, 1024  263168      ['conv4_block4_2_relu[0][0]']    \n",
      "                                )                                                                 \n",
      "                                                                                                  \n",
      " conv4_block4_3_bn (BatchNormal  (None, 13, 13, 1024  4096       ['conv4_block4_3_conv[0][0]']    \n",
      " ization)                       )                                                                 \n",
      "                                                                                                  \n",
      " conv4_block4_add (Add)         (None, 13, 13, 1024  0           ['conv4_block3_out[0][0]',       \n",
      "                                )                                 'conv4_block4_3_bn[0][0]']      \n",
      "                                                                                                  \n",
      " conv4_block4_out (Activation)  (None, 13, 13, 1024  0           ['conv4_block4_add[0][0]']       \n",
      "                                )                                                                 \n",
      "                                                                                                  \n"
     ]
    },
    {
     "name": "stdout",
     "output_type": "stream",
     "text": [
      " conv4_block5_1_conv (Conv2D)   (None, 13, 13, 256)  262400      ['conv4_block4_out[0][0]']       \n",
      "                                                                                                  \n",
      " conv4_block5_1_bn (BatchNormal  (None, 13, 13, 256)  1024       ['conv4_block5_1_conv[0][0]']    \n",
      " ization)                                                                                         \n",
      "                                                                                                  \n",
      " conv4_block5_1_relu (Activatio  (None, 13, 13, 256)  0          ['conv4_block5_1_bn[0][0]']      \n",
      " n)                                                                                               \n",
      "                                                                                                  \n",
      " conv4_block5_2_conv (Conv2D)   (None, 13, 13, 256)  590080      ['conv4_block5_1_relu[0][0]']    \n",
      "                                                                                                  \n",
      " conv4_block5_2_bn (BatchNormal  (None, 13, 13, 256)  1024       ['conv4_block5_2_conv[0][0]']    \n",
      " ization)                                                                                         \n",
      "                                                                                                  \n",
      " conv4_block5_2_relu (Activatio  (None, 13, 13, 256)  0          ['conv4_block5_2_bn[0][0]']      \n",
      " n)                                                                                               \n",
      "                                                                                                  \n",
      " conv4_block5_3_conv (Conv2D)   (None, 13, 13, 1024  263168      ['conv4_block5_2_relu[0][0]']    \n",
      "                                )                                                                 \n",
      "                                                                                                  \n",
      " conv4_block5_3_bn (BatchNormal  (None, 13, 13, 1024  4096       ['conv4_block5_3_conv[0][0]']    \n",
      " ization)                       )                                                                 \n",
      "                                                                                                  \n",
      " conv4_block5_add (Add)         (None, 13, 13, 1024  0           ['conv4_block4_out[0][0]',       \n",
      "                                )                                 'conv4_block5_3_bn[0][0]']      \n",
      "                                                                                                  \n",
      " conv4_block5_out (Activation)  (None, 13, 13, 1024  0           ['conv4_block5_add[0][0]']       \n",
      "                                )                                                                 \n",
      "                                                                                                  \n",
      " conv4_block6_1_conv (Conv2D)   (None, 13, 13, 256)  262400      ['conv4_block5_out[0][0]']       \n",
      "                                                                                                  \n",
      " conv4_block6_1_bn (BatchNormal  (None, 13, 13, 256)  1024       ['conv4_block6_1_conv[0][0]']    \n",
      " ization)                                                                                         \n",
      "                                                                                                  \n",
      " conv4_block6_1_relu (Activatio  (None, 13, 13, 256)  0          ['conv4_block6_1_bn[0][0]']      \n",
      " n)                                                                                               \n",
      "                                                                                                  \n",
      " conv4_block6_2_conv (Conv2D)   (None, 13, 13, 256)  590080      ['conv4_block6_1_relu[0][0]']    \n",
      "                                                                                                  \n",
      " conv4_block6_2_bn (BatchNormal  (None, 13, 13, 256)  1024       ['conv4_block6_2_conv[0][0]']    \n",
      " ization)                                                                                         \n",
      "                                                                                                  \n",
      " conv4_block6_2_relu (Activatio  (None, 13, 13, 256)  0          ['conv4_block6_2_bn[0][0]']      \n",
      " n)                                                                                               \n",
      "                                                                                                  \n",
      " conv4_block6_3_conv (Conv2D)   (None, 13, 13, 1024  263168      ['conv4_block6_2_relu[0][0]']    \n",
      "                                )                                                                 \n",
      "                                                                                                  \n",
      " conv4_block6_3_bn (BatchNormal  (None, 13, 13, 1024  4096       ['conv4_block6_3_conv[0][0]']    \n",
      " ization)                       )                                                                 \n",
      "                                                                                                  \n",
      " conv4_block6_add (Add)         (None, 13, 13, 1024  0           ['conv4_block5_out[0][0]',       \n",
      "                                )                                 'conv4_block6_3_bn[0][0]']      \n",
      "                                                                                                  \n",
      " conv4_block6_out (Activation)  (None, 13, 13, 1024  0           ['conv4_block6_add[0][0]']       \n",
      "                                )                                                                 \n",
      "                                                                                                  \n",
      " conv5_block1_1_conv (Conv2D)   (None, 7, 7, 512)    524800      ['conv4_block6_out[0][0]']       \n",
      "                                                                                                  \n",
      " conv5_block1_1_bn (BatchNormal  (None, 7, 7, 512)   2048        ['conv5_block1_1_conv[0][0]']    \n",
      " ization)                                                                                         \n",
      "                                                                                                  \n",
      " conv5_block1_1_relu (Activatio  (None, 7, 7, 512)   0           ['conv5_block1_1_bn[0][0]']      \n",
      " n)                                                                                               \n",
      "                                                                                                  \n",
      " conv5_block1_2_conv (Conv2D)   (None, 7, 7, 512)    2359808     ['conv5_block1_1_relu[0][0]']    \n",
      "                                                                                                  \n",
      " conv5_block1_2_bn (BatchNormal  (None, 7, 7, 512)   2048        ['conv5_block1_2_conv[0][0]']    \n",
      " ization)                                                                                         \n",
      "                                                                                                  \n",
      " conv5_block1_2_relu (Activatio  (None, 7, 7, 512)   0           ['conv5_block1_2_bn[0][0]']      \n",
      " n)                                                                                               \n",
      "                                                                                                  \n",
      " conv5_block1_0_conv (Conv2D)   (None, 7, 7, 2048)   2099200     ['conv4_block6_out[0][0]']       \n",
      "                                                                                                  \n",
      " conv5_block1_3_conv (Conv2D)   (None, 7, 7, 2048)   1050624     ['conv5_block1_2_relu[0][0]']    \n",
      "                                                                                                  \n",
      " conv5_block1_0_bn (BatchNormal  (None, 7, 7, 2048)  8192        ['conv5_block1_0_conv[0][0]']    \n",
      " ization)                                                                                         \n",
      "                                                                                                  \n",
      " conv5_block1_3_bn (BatchNormal  (None, 7, 7, 2048)  8192        ['conv5_block1_3_conv[0][0]']    \n",
      " ization)                                                                                         \n",
      "                                                                                                  \n",
      " conv5_block1_add (Add)         (None, 7, 7, 2048)   0           ['conv5_block1_0_bn[0][0]',      \n"
     ]
    },
    {
     "name": "stdout",
     "output_type": "stream",
     "text": [
      "                                                                  'conv5_block1_3_bn[0][0]']      \n",
      "                                                                                                  \n",
      " conv5_block1_out (Activation)  (None, 7, 7, 2048)   0           ['conv5_block1_add[0][0]']       \n",
      "                                                                                                  \n",
      " conv5_block2_1_conv (Conv2D)   (None, 7, 7, 512)    1049088     ['conv5_block1_out[0][0]']       \n",
      "                                                                                                  \n",
      " conv5_block2_1_bn (BatchNormal  (None, 7, 7, 512)   2048        ['conv5_block2_1_conv[0][0]']    \n",
      " ization)                                                                                         \n",
      "                                                                                                  \n",
      " conv5_block2_1_relu (Activatio  (None, 7, 7, 512)   0           ['conv5_block2_1_bn[0][0]']      \n",
      " n)                                                                                               \n",
      "                                                                                                  \n",
      " conv5_block2_2_conv (Conv2D)   (None, 7, 7, 512)    2359808     ['conv5_block2_1_relu[0][0]']    \n",
      "                                                                                                  \n",
      " conv5_block2_2_bn (BatchNormal  (None, 7, 7, 512)   2048        ['conv5_block2_2_conv[0][0]']    \n",
      " ization)                                                                                         \n",
      "                                                                                                  \n",
      " conv5_block2_2_relu (Activatio  (None, 7, 7, 512)   0           ['conv5_block2_2_bn[0][0]']      \n",
      " n)                                                                                               \n",
      "                                                                                                  \n",
      " conv5_block2_3_conv (Conv2D)   (None, 7, 7, 2048)   1050624     ['conv5_block2_2_relu[0][0]']    \n",
      "                                                                                                  \n",
      " conv5_block2_3_bn (BatchNormal  (None, 7, 7, 2048)  8192        ['conv5_block2_3_conv[0][0]']    \n",
      " ization)                                                                                         \n",
      "                                                                                                  \n",
      " conv5_block2_add (Add)         (None, 7, 7, 2048)   0           ['conv5_block1_out[0][0]',       \n",
      "                                                                  'conv5_block2_3_bn[0][0]']      \n",
      "                                                                                                  \n",
      " conv5_block2_out (Activation)  (None, 7, 7, 2048)   0           ['conv5_block2_add[0][0]']       \n",
      "                                                                                                  \n",
      " conv5_block3_1_conv (Conv2D)   (None, 7, 7, 512)    1049088     ['conv5_block2_out[0][0]']       \n",
      "                                                                                                  \n",
      " conv5_block3_1_bn (BatchNormal  (None, 7, 7, 512)   2048        ['conv5_block3_1_conv[0][0]']    \n",
      " ization)                                                                                         \n",
      "                                                                                                  \n",
      " conv5_block3_1_relu (Activatio  (None, 7, 7, 512)   0           ['conv5_block3_1_bn[0][0]']      \n",
      " n)                                                                                               \n",
      "                                                                                                  \n",
      " conv5_block3_2_conv (Conv2D)   (None, 7, 7, 512)    2359808     ['conv5_block3_1_relu[0][0]']    \n",
      "                                                                                                  \n",
      " conv5_block3_2_bn (BatchNormal  (None, 7, 7, 512)   2048        ['conv5_block3_2_conv[0][0]']    \n",
      " ization)                                                                                         \n",
      "                                                                                                  \n",
      " conv5_block3_2_relu (Activatio  (None, 7, 7, 512)   0           ['conv5_block3_2_bn[0][0]']      \n",
      " n)                                                                                               \n",
      "                                                                                                  \n",
      " conv5_block3_3_conv (Conv2D)   (None, 7, 7, 2048)   1050624     ['conv5_block3_2_relu[0][0]']    \n",
      "                                                                                                  \n",
      " conv5_block3_3_bn (BatchNormal  (None, 7, 7, 2048)  8192        ['conv5_block3_3_conv[0][0]']    \n",
      " ization)                                                                                         \n",
      "                                                                                                  \n",
      " conv5_block3_add (Add)         (None, 7, 7, 2048)   0           ['conv5_block2_out[0][0]',       \n",
      "                                                                  'conv5_block3_3_bn[0][0]']      \n",
      "                                                                                                  \n",
      " conv5_block3_out (Activation)  (None, 7, 7, 2048)   0           ['conv5_block3_add[0][0]']       \n",
      "                                                                                                  \n",
      " global_average_pooling2d_13 (G  (None, 2048)        0           ['conv5_block3_out[0][0]']       \n",
      " lobalAveragePooling2D)                                                                           \n",
      "                                                                                                  \n",
      " dense_40 (Dense)               (None, 512)          1049088     ['global_average_pooling2d_13[0][\n",
      "                                                                 0]']                             \n",
      "                                                                                                  \n",
      " dense_41 (Dense)               (None, 6)            3078        ['dense_40[0][0]']               \n",
      "                                                                                                  \n",
      "==================================================================================================\n",
      "Total params: 24,639,878\n",
      "Trainable params: 1,052,166\n",
      "Non-trainable params: 23,587,712\n",
      "__________________________________________________________________________________________________\n"
     ]
    }
   ],
   "source": [
    "# Since most defects in images have large values, MaxPooling will be used\n",
    "# Reduces dimensionality\n",
    "x = GlobalAveragePooling2D()(res_model.output)\n",
    "\n",
    "# Dense Layer \n",
    "x = Dense(512, activation='relu')(x)\n",
    "\n",
    "# Multiclass classification so using softmax\n",
    "output = Dense(6, activation='softmax')(x)\n",
    "\n",
    "# Final model\n",
    "final_res_model = Model(inputs=res_model.input, outputs=output)\n",
    "\n",
    "final_res_model.summary()"
   ]
  },
  {
   "cell_type": "code",
   "execution_count": 113,
   "id": "3d3a69c9",
   "metadata": {
    "scrolled": true
   },
   "outputs": [
    {
     "name": "stdout",
     "output_type": "stream",
     "text": [
      "Epoch 1/10\n",
      "40/40 [==============================] - 171s 4s/step - loss: 1.8981 - accuracy: 0.1738 - val_loss: 1.8091 - val_accuracy: 0.3000\n",
      "Epoch 2/10\n",
      "40/40 [==============================] - 172s 4s/step - loss: 1.7503 - accuracy: 0.2587 - val_loss: 1.6927 - val_accuracy: 0.3185\n",
      "Epoch 3/10\n",
      "40/40 [==============================] - 175s 4s/step - loss: 1.6951 - accuracy: 0.2794 - val_loss: 1.7357 - val_accuracy: 0.2481\n",
      "Epoch 4/10\n",
      "40/40 [==============================] - 144s 4s/step - loss: 1.6446 - accuracy: 0.3048 - val_loss: 1.6601 - val_accuracy: 0.2370\n",
      "Epoch 5/10\n",
      "40/40 [==============================] - 157s 4s/step - loss: 1.5856 - accuracy: 0.3286 - val_loss: 1.5312 - val_accuracy: 0.4148\n",
      "Epoch 6/10\n",
      "40/40 [==============================] - 164s 4s/step - loss: 1.5683 - accuracy: 0.3563 - val_loss: 1.6624 - val_accuracy: 0.2370\n",
      "Epoch 7/10\n",
      "40/40 [==============================] - 151s 4s/step - loss: 1.4995 - accuracy: 0.3563 - val_loss: 1.4469 - val_accuracy: 0.4000\n",
      "Epoch 8/10\n",
      "40/40 [==============================] - 141s 3s/step - loss: 1.4166 - accuracy: 0.4286 - val_loss: 1.4076 - val_accuracy: 0.3519\n",
      "Epoch 9/10\n",
      "40/40 [==============================] - 150s 4s/step - loss: 1.3724 - accuracy: 0.4563 - val_loss: 1.4336 - val_accuracy: 0.3370\n",
      "Epoch 10/10\n",
      "40/40 [==============================] - 135s 3s/step - loss: 1.3404 - accuracy: 0.4333 - val_loss: 1.3796 - val_accuracy: 0.3963\n"
     ]
    }
   ],
   "source": [
    "# Compiling, training and evaluating model\n",
    "final_res_model.compile(optimizer=Adam(), loss='categorical_crossentropy', metrics=['accuracy'])\n",
    "\n",
    "final_res_model_hist = train_model(final_res_model, X_train_rgb, y_train, X_val_rgb, y_val, 'resnet/resnet_checkpoint.h5', 10)"
   ]
  },
  {
   "cell_type": "markdown",
   "id": "2e721224",
   "metadata": {},
   "source": [
    "## Experimenting with Flatten()"
   ]
  },
  {
   "cell_type": "code",
   "execution_count": 114,
   "id": "3b4e5208",
   "metadata": {
    "scrolled": true
   },
   "outputs": [
    {
     "name": "stdout",
     "output_type": "stream",
     "text": [
      "Model: \"model_18\"\n",
      "__________________________________________________________________________________________________\n",
      " Layer (type)                   Output Shape         Param #     Connected to                     \n",
      "==================================================================================================\n",
      " input_2 (InputLayer)           [(None, 200, 200, 3  0           []                               \n",
      "                                )]                                                                \n",
      "                                                                                                  \n",
      " conv1_pad (ZeroPadding2D)      (None, 206, 206, 3)  0           ['input_2[0][0]']                \n",
      "                                                                                                  \n",
      " conv1_conv (Conv2D)            (None, 100, 100, 64  9472        ['conv1_pad[0][0]']              \n",
      "                                )                                                                 \n",
      "                                                                                                  \n",
      " conv1_bn (BatchNormalization)  (None, 100, 100, 64  256         ['conv1_conv[0][0]']             \n",
      "                                )                                                                 \n",
      "                                                                                                  \n",
      " conv1_relu (Activation)        (None, 100, 100, 64  0           ['conv1_bn[0][0]']               \n",
      "                                )                                                                 \n",
      "                                                                                                  \n",
      " pool1_pad (ZeroPadding2D)      (None, 102, 102, 64  0           ['conv1_relu[0][0]']             \n",
      "                                )                                                                 \n",
      "                                                                                                  \n",
      " pool1_pool (MaxPooling2D)      (None, 50, 50, 64)   0           ['pool1_pad[0][0]']              \n",
      "                                                                                                  \n",
      " conv2_block1_1_conv (Conv2D)   (None, 50, 50, 64)   4160        ['pool1_pool[0][0]']             \n",
      "                                                                                                  \n",
      " conv2_block1_1_bn (BatchNormal  (None, 50, 50, 64)  256         ['conv2_block1_1_conv[0][0]']    \n",
      " ization)                                                                                         \n",
      "                                                                                                  \n",
      " conv2_block1_1_relu (Activatio  (None, 50, 50, 64)  0           ['conv2_block1_1_bn[0][0]']      \n",
      " n)                                                                                               \n",
      "                                                                                                  \n",
      " conv2_block1_2_conv (Conv2D)   (None, 50, 50, 64)   36928       ['conv2_block1_1_relu[0][0]']    \n",
      "                                                                                                  \n",
      " conv2_block1_2_bn (BatchNormal  (None, 50, 50, 64)  256         ['conv2_block1_2_conv[0][0]']    \n",
      " ization)                                                                                         \n",
      "                                                                                                  \n",
      " conv2_block1_2_relu (Activatio  (None, 50, 50, 64)  0           ['conv2_block1_2_bn[0][0]']      \n",
      " n)                                                                                               \n",
      "                                                                                                  \n",
      " conv2_block1_0_conv (Conv2D)   (None, 50, 50, 256)  16640       ['pool1_pool[0][0]']             \n",
      "                                                                                                  \n",
      " conv2_block1_3_conv (Conv2D)   (None, 50, 50, 256)  16640       ['conv2_block1_2_relu[0][0]']    \n",
      "                                                                                                  \n",
      " conv2_block1_0_bn (BatchNormal  (None, 50, 50, 256)  1024       ['conv2_block1_0_conv[0][0]']    \n",
      " ization)                                                                                         \n",
      "                                                                                                  \n",
      " conv2_block1_3_bn (BatchNormal  (None, 50, 50, 256)  1024       ['conv2_block1_3_conv[0][0]']    \n",
      " ization)                                                                                         \n",
      "                                                                                                  \n",
      " conv2_block1_add (Add)         (None, 50, 50, 256)  0           ['conv2_block1_0_bn[0][0]',      \n",
      "                                                                  'conv2_block1_3_bn[0][0]']      \n",
      "                                                                                                  \n",
      " conv2_block1_out (Activation)  (None, 50, 50, 256)  0           ['conv2_block1_add[0][0]']       \n",
      "                                                                                                  \n",
      " conv2_block2_1_conv (Conv2D)   (None, 50, 50, 64)   16448       ['conv2_block1_out[0][0]']       \n",
      "                                                                                                  \n",
      " conv2_block2_1_bn (BatchNormal  (None, 50, 50, 64)  256         ['conv2_block2_1_conv[0][0]']    \n",
      " ization)                                                                                         \n",
      "                                                                                                  \n",
      " conv2_block2_1_relu (Activatio  (None, 50, 50, 64)  0           ['conv2_block2_1_bn[0][0]']      \n",
      " n)                                                                                               \n",
      "                                                                                                  \n",
      " conv2_block2_2_conv (Conv2D)   (None, 50, 50, 64)   36928       ['conv2_block2_1_relu[0][0]']    \n",
      "                                                                                                  \n",
      " conv2_block2_2_bn (BatchNormal  (None, 50, 50, 64)  256         ['conv2_block2_2_conv[0][0]']    \n",
      " ization)                                                                                         \n",
      "                                                                                                  \n",
      " conv2_block2_2_relu (Activatio  (None, 50, 50, 64)  0           ['conv2_block2_2_bn[0][0]']      \n",
      " n)                                                                                               \n",
      "                                                                                                  \n",
      " conv2_block2_3_conv (Conv2D)   (None, 50, 50, 256)  16640       ['conv2_block2_2_relu[0][0]']    \n",
      "                                                                                                  \n",
      " conv2_block2_3_bn (BatchNormal  (None, 50, 50, 256)  1024       ['conv2_block2_3_conv[0][0]']    \n",
      " ization)                                                                                         \n",
      "                                                                                                  \n",
      " conv2_block2_add (Add)         (None, 50, 50, 256)  0           ['conv2_block1_out[0][0]',       \n",
      "                                                                  'conv2_block2_3_bn[0][0]']      \n",
      "                                                                                                  \n",
      " conv2_block2_out (Activation)  (None, 50, 50, 256)  0           ['conv2_block2_add[0][0]']       \n",
      "                                                                                                  \n",
      " conv2_block3_1_conv (Conv2D)   (None, 50, 50, 64)   16448       ['conv2_block2_out[0][0]']       \n",
      "                                                                                                  \n",
      " conv2_block3_1_bn (BatchNormal  (None, 50, 50, 64)  256         ['conv2_block3_1_conv[0][0]']    \n",
      " ization)                                                                                         \n"
     ]
    },
    {
     "name": "stdout",
     "output_type": "stream",
     "text": [
      "                                                                                                  \n",
      " conv2_block3_1_relu (Activatio  (None, 50, 50, 64)  0           ['conv2_block3_1_bn[0][0]']      \n",
      " n)                                                                                               \n",
      "                                                                                                  \n",
      " conv2_block3_2_conv (Conv2D)   (None, 50, 50, 64)   36928       ['conv2_block3_1_relu[0][0]']    \n",
      "                                                                                                  \n",
      " conv2_block3_2_bn (BatchNormal  (None, 50, 50, 64)  256         ['conv2_block3_2_conv[0][0]']    \n",
      " ization)                                                                                         \n",
      "                                                                                                  \n",
      " conv2_block3_2_relu (Activatio  (None, 50, 50, 64)  0           ['conv2_block3_2_bn[0][0]']      \n",
      " n)                                                                                               \n",
      "                                                                                                  \n",
      " conv2_block3_3_conv (Conv2D)   (None, 50, 50, 256)  16640       ['conv2_block3_2_relu[0][0]']    \n",
      "                                                                                                  \n",
      " conv2_block3_3_bn (BatchNormal  (None, 50, 50, 256)  1024       ['conv2_block3_3_conv[0][0]']    \n",
      " ization)                                                                                         \n",
      "                                                                                                  \n",
      " conv2_block3_add (Add)         (None, 50, 50, 256)  0           ['conv2_block2_out[0][0]',       \n",
      "                                                                  'conv2_block3_3_bn[0][0]']      \n",
      "                                                                                                  \n",
      " conv2_block3_out (Activation)  (None, 50, 50, 256)  0           ['conv2_block3_add[0][0]']       \n",
      "                                                                                                  \n",
      " conv3_block1_1_conv (Conv2D)   (None, 25, 25, 128)  32896       ['conv2_block3_out[0][0]']       \n",
      "                                                                                                  \n",
      " conv3_block1_1_bn (BatchNormal  (None, 25, 25, 128)  512        ['conv3_block1_1_conv[0][0]']    \n",
      " ization)                                                                                         \n",
      "                                                                                                  \n",
      " conv3_block1_1_relu (Activatio  (None, 25, 25, 128)  0          ['conv3_block1_1_bn[0][0]']      \n",
      " n)                                                                                               \n",
      "                                                                                                  \n",
      " conv3_block1_2_conv (Conv2D)   (None, 25, 25, 128)  147584      ['conv3_block1_1_relu[0][0]']    \n",
      "                                                                                                  \n",
      " conv3_block1_2_bn (BatchNormal  (None, 25, 25, 128)  512        ['conv3_block1_2_conv[0][0]']    \n",
      " ization)                                                                                         \n",
      "                                                                                                  \n",
      " conv3_block1_2_relu (Activatio  (None, 25, 25, 128)  0          ['conv3_block1_2_bn[0][0]']      \n",
      " n)                                                                                               \n",
      "                                                                                                  \n",
      " conv3_block1_0_conv (Conv2D)   (None, 25, 25, 512)  131584      ['conv2_block3_out[0][0]']       \n",
      "                                                                                                  \n",
      " conv3_block1_3_conv (Conv2D)   (None, 25, 25, 512)  66048       ['conv3_block1_2_relu[0][0]']    \n",
      "                                                                                                  \n",
      " conv3_block1_0_bn (BatchNormal  (None, 25, 25, 512)  2048       ['conv3_block1_0_conv[0][0]']    \n",
      " ization)                                                                                         \n",
      "                                                                                                  \n",
      " conv3_block1_3_bn (BatchNormal  (None, 25, 25, 512)  2048       ['conv3_block1_3_conv[0][0]']    \n",
      " ization)                                                                                         \n",
      "                                                                                                  \n",
      " conv3_block1_add (Add)         (None, 25, 25, 512)  0           ['conv3_block1_0_bn[0][0]',      \n",
      "                                                                  'conv3_block1_3_bn[0][0]']      \n",
      "                                                                                                  \n",
      " conv3_block1_out (Activation)  (None, 25, 25, 512)  0           ['conv3_block1_add[0][0]']       \n",
      "                                                                                                  \n",
      " conv3_block2_1_conv (Conv2D)   (None, 25, 25, 128)  65664       ['conv3_block1_out[0][0]']       \n",
      "                                                                                                  \n",
      " conv3_block2_1_bn (BatchNormal  (None, 25, 25, 128)  512        ['conv3_block2_1_conv[0][0]']    \n",
      " ization)                                                                                         \n",
      "                                                                                                  \n",
      " conv3_block2_1_relu (Activatio  (None, 25, 25, 128)  0          ['conv3_block2_1_bn[0][0]']      \n",
      " n)                                                                                               \n",
      "                                                                                                  \n",
      " conv3_block2_2_conv (Conv2D)   (None, 25, 25, 128)  147584      ['conv3_block2_1_relu[0][0]']    \n",
      "                                                                                                  \n",
      " conv3_block2_2_bn (BatchNormal  (None, 25, 25, 128)  512        ['conv3_block2_2_conv[0][0]']    \n",
      " ization)                                                                                         \n",
      "                                                                                                  \n",
      " conv3_block2_2_relu (Activatio  (None, 25, 25, 128)  0          ['conv3_block2_2_bn[0][0]']      \n",
      " n)                                                                                               \n",
      "                                                                                                  \n",
      " conv3_block2_3_conv (Conv2D)   (None, 25, 25, 512)  66048       ['conv3_block2_2_relu[0][0]']    \n",
      "                                                                                                  \n",
      " conv3_block2_3_bn (BatchNormal  (None, 25, 25, 512)  2048       ['conv3_block2_3_conv[0][0]']    \n",
      " ization)                                                                                         \n",
      "                                                                                                  \n",
      " conv3_block2_add (Add)         (None, 25, 25, 512)  0           ['conv3_block1_out[0][0]',       \n",
      "                                                                  'conv3_block2_3_bn[0][0]']      \n",
      "                                                                                                  \n",
      " conv3_block2_out (Activation)  (None, 25, 25, 512)  0           ['conv3_block2_add[0][0]']       \n",
      "                                                                                                  \n",
      " conv3_block3_1_conv (Conv2D)   (None, 25, 25, 128)  65664       ['conv3_block2_out[0][0]']       \n",
      "                                                                                                  \n",
      " conv3_block3_1_bn (BatchNormal  (None, 25, 25, 128)  512        ['conv3_block3_1_conv[0][0]']    \n",
      " ization)                                                                                         \n"
     ]
    },
    {
     "name": "stdout",
     "output_type": "stream",
     "text": [
      "                                                                                                  \n",
      " conv3_block3_1_relu (Activatio  (None, 25, 25, 128)  0          ['conv3_block3_1_bn[0][0]']      \n",
      " n)                                                                                               \n",
      "                                                                                                  \n",
      " conv3_block3_2_conv (Conv2D)   (None, 25, 25, 128)  147584      ['conv3_block3_1_relu[0][0]']    \n",
      "                                                                                                  \n",
      " conv3_block3_2_bn (BatchNormal  (None, 25, 25, 128)  512        ['conv3_block3_2_conv[0][0]']    \n",
      " ization)                                                                                         \n",
      "                                                                                                  \n",
      " conv3_block3_2_relu (Activatio  (None, 25, 25, 128)  0          ['conv3_block3_2_bn[0][0]']      \n",
      " n)                                                                                               \n",
      "                                                                                                  \n",
      " conv3_block3_3_conv (Conv2D)   (None, 25, 25, 512)  66048       ['conv3_block3_2_relu[0][0]']    \n",
      "                                                                                                  \n",
      " conv3_block3_3_bn (BatchNormal  (None, 25, 25, 512)  2048       ['conv3_block3_3_conv[0][0]']    \n",
      " ization)                                                                                         \n",
      "                                                                                                  \n",
      " conv3_block3_add (Add)         (None, 25, 25, 512)  0           ['conv3_block2_out[0][0]',       \n",
      "                                                                  'conv3_block3_3_bn[0][0]']      \n",
      "                                                                                                  \n",
      " conv3_block3_out (Activation)  (None, 25, 25, 512)  0           ['conv3_block3_add[0][0]']       \n",
      "                                                                                                  \n",
      " conv3_block4_1_conv (Conv2D)   (None, 25, 25, 128)  65664       ['conv3_block3_out[0][0]']       \n",
      "                                                                                                  \n",
      " conv3_block4_1_bn (BatchNormal  (None, 25, 25, 128)  512        ['conv3_block4_1_conv[0][0]']    \n",
      " ization)                                                                                         \n",
      "                                                                                                  \n",
      " conv3_block4_1_relu (Activatio  (None, 25, 25, 128)  0          ['conv3_block4_1_bn[0][0]']      \n",
      " n)                                                                                               \n",
      "                                                                                                  \n",
      " conv3_block4_2_conv (Conv2D)   (None, 25, 25, 128)  147584      ['conv3_block4_1_relu[0][0]']    \n",
      "                                                                                                  \n",
      " conv3_block4_2_bn (BatchNormal  (None, 25, 25, 128)  512        ['conv3_block4_2_conv[0][0]']    \n",
      " ization)                                                                                         \n",
      "                                                                                                  \n",
      " conv3_block4_2_relu (Activatio  (None, 25, 25, 128)  0          ['conv3_block4_2_bn[0][0]']      \n",
      " n)                                                                                               \n",
      "                                                                                                  \n",
      " conv3_block4_3_conv (Conv2D)   (None, 25, 25, 512)  66048       ['conv3_block4_2_relu[0][0]']    \n",
      "                                                                                                  \n",
      " conv3_block4_3_bn (BatchNormal  (None, 25, 25, 512)  2048       ['conv3_block4_3_conv[0][0]']    \n",
      " ization)                                                                                         \n",
      "                                                                                                  \n",
      " conv3_block4_add (Add)         (None, 25, 25, 512)  0           ['conv3_block3_out[0][0]',       \n",
      "                                                                  'conv3_block4_3_bn[0][0]']      \n",
      "                                                                                                  \n",
      " conv3_block4_out (Activation)  (None, 25, 25, 512)  0           ['conv3_block4_add[0][0]']       \n",
      "                                                                                                  \n",
      " conv4_block1_1_conv (Conv2D)   (None, 13, 13, 256)  131328      ['conv3_block4_out[0][0]']       \n",
      "                                                                                                  \n",
      " conv4_block1_1_bn (BatchNormal  (None, 13, 13, 256)  1024       ['conv4_block1_1_conv[0][0]']    \n",
      " ization)                                                                                         \n",
      "                                                                                                  \n",
      " conv4_block1_1_relu (Activatio  (None, 13, 13, 256)  0          ['conv4_block1_1_bn[0][0]']      \n",
      " n)                                                                                               \n",
      "                                                                                                  \n",
      " conv4_block1_2_conv (Conv2D)   (None, 13, 13, 256)  590080      ['conv4_block1_1_relu[0][0]']    \n",
      "                                                                                                  \n",
      " conv4_block1_2_bn (BatchNormal  (None, 13, 13, 256)  1024       ['conv4_block1_2_conv[0][0]']    \n",
      " ization)                                                                                         \n",
      "                                                                                                  \n",
      " conv4_block1_2_relu (Activatio  (None, 13, 13, 256)  0          ['conv4_block1_2_bn[0][0]']      \n",
      " n)                                                                                               \n",
      "                                                                                                  \n",
      " conv4_block1_0_conv (Conv2D)   (None, 13, 13, 1024  525312      ['conv3_block4_out[0][0]']       \n",
      "                                )                                                                 \n",
      "                                                                                                  \n",
      " conv4_block1_3_conv (Conv2D)   (None, 13, 13, 1024  263168      ['conv4_block1_2_relu[0][0]']    \n",
      "                                )                                                                 \n",
      "                                                                                                  \n",
      " conv4_block1_0_bn (BatchNormal  (None, 13, 13, 1024  4096       ['conv4_block1_0_conv[0][0]']    \n",
      " ization)                       )                                                                 \n",
      "                                                                                                  \n",
      " conv4_block1_3_bn (BatchNormal  (None, 13, 13, 1024  4096       ['conv4_block1_3_conv[0][0]']    \n",
      " ization)                       )                                                                 \n",
      "                                                                                                  \n",
      " conv4_block1_add (Add)         (None, 13, 13, 1024  0           ['conv4_block1_0_bn[0][0]',      \n",
      "                                )                                 'conv4_block1_3_bn[0][0]']      \n",
      "                                                                                                  \n",
      " conv4_block1_out (Activation)  (None, 13, 13, 1024  0           ['conv4_block1_add[0][0]']       \n",
      "                                )                                                                 \n",
      "                                                                                                  \n",
      " conv4_block2_1_conv (Conv2D)   (None, 13, 13, 256)  262400      ['conv4_block1_out[0][0]']       \n"
     ]
    },
    {
     "name": "stdout",
     "output_type": "stream",
     "text": [
      "                                                                                                  \n",
      " conv4_block2_1_bn (BatchNormal  (None, 13, 13, 256)  1024       ['conv4_block2_1_conv[0][0]']    \n",
      " ization)                                                                                         \n",
      "                                                                                                  \n",
      " conv4_block2_1_relu (Activatio  (None, 13, 13, 256)  0          ['conv4_block2_1_bn[0][0]']      \n",
      " n)                                                                                               \n",
      "                                                                                                  \n",
      " conv4_block2_2_conv (Conv2D)   (None, 13, 13, 256)  590080      ['conv4_block2_1_relu[0][0]']    \n",
      "                                                                                                  \n",
      " conv4_block2_2_bn (BatchNormal  (None, 13, 13, 256)  1024       ['conv4_block2_2_conv[0][0]']    \n",
      " ization)                                                                                         \n",
      "                                                                                                  \n",
      " conv4_block2_2_relu (Activatio  (None, 13, 13, 256)  0          ['conv4_block2_2_bn[0][0]']      \n",
      " n)                                                                                               \n",
      "                                                                                                  \n",
      " conv4_block2_3_conv (Conv2D)   (None, 13, 13, 1024  263168      ['conv4_block2_2_relu[0][0]']    \n",
      "                                )                                                                 \n",
      "                                                                                                  \n",
      " conv4_block2_3_bn (BatchNormal  (None, 13, 13, 1024  4096       ['conv4_block2_3_conv[0][0]']    \n",
      " ization)                       )                                                                 \n",
      "                                                                                                  \n",
      " conv4_block2_add (Add)         (None, 13, 13, 1024  0           ['conv4_block1_out[0][0]',       \n",
      "                                )                                 'conv4_block2_3_bn[0][0]']      \n",
      "                                                                                                  \n",
      " conv4_block2_out (Activation)  (None, 13, 13, 1024  0           ['conv4_block2_add[0][0]']       \n",
      "                                )                                                                 \n",
      "                                                                                                  \n",
      " conv4_block3_1_conv (Conv2D)   (None, 13, 13, 256)  262400      ['conv4_block2_out[0][0]']       \n",
      "                                                                                                  \n",
      " conv4_block3_1_bn (BatchNormal  (None, 13, 13, 256)  1024       ['conv4_block3_1_conv[0][0]']    \n",
      " ization)                                                                                         \n",
      "                                                                                                  \n",
      " conv4_block3_1_relu (Activatio  (None, 13, 13, 256)  0          ['conv4_block3_1_bn[0][0]']      \n",
      " n)                                                                                               \n",
      "                                                                                                  \n",
      " conv4_block3_2_conv (Conv2D)   (None, 13, 13, 256)  590080      ['conv4_block3_1_relu[0][0]']    \n",
      "                                                                                                  \n",
      " conv4_block3_2_bn (BatchNormal  (None, 13, 13, 256)  1024       ['conv4_block3_2_conv[0][0]']    \n",
      " ization)                                                                                         \n",
      "                                                                                                  \n",
      " conv4_block3_2_relu (Activatio  (None, 13, 13, 256)  0          ['conv4_block3_2_bn[0][0]']      \n",
      " n)                                                                                               \n",
      "                                                                                                  \n",
      " conv4_block3_3_conv (Conv2D)   (None, 13, 13, 1024  263168      ['conv4_block3_2_relu[0][0]']    \n",
      "                                )                                                                 \n",
      "                                                                                                  \n",
      " conv4_block3_3_bn (BatchNormal  (None, 13, 13, 1024  4096       ['conv4_block3_3_conv[0][0]']    \n",
      " ization)                       )                                                                 \n",
      "                                                                                                  \n",
      " conv4_block3_add (Add)         (None, 13, 13, 1024  0           ['conv4_block2_out[0][0]',       \n",
      "                                )                                 'conv4_block3_3_bn[0][0]']      \n",
      "                                                                                                  \n",
      " conv4_block3_out (Activation)  (None, 13, 13, 1024  0           ['conv4_block3_add[0][0]']       \n",
      "                                )                                                                 \n",
      "                                                                                                  \n",
      " conv4_block4_1_conv (Conv2D)   (None, 13, 13, 256)  262400      ['conv4_block3_out[0][0]']       \n",
      "                                                                                                  \n",
      " conv4_block4_1_bn (BatchNormal  (None, 13, 13, 256)  1024       ['conv4_block4_1_conv[0][0]']    \n",
      " ization)                                                                                         \n",
      "                                                                                                  \n",
      " conv4_block4_1_relu (Activatio  (None, 13, 13, 256)  0          ['conv4_block4_1_bn[0][0]']      \n",
      " n)                                                                                               \n",
      "                                                                                                  \n",
      " conv4_block4_2_conv (Conv2D)   (None, 13, 13, 256)  590080      ['conv4_block4_1_relu[0][0]']    \n",
      "                                                                                                  \n",
      " conv4_block4_2_bn (BatchNormal  (None, 13, 13, 256)  1024       ['conv4_block4_2_conv[0][0]']    \n",
      " ization)                                                                                         \n",
      "                                                                                                  \n",
      " conv4_block4_2_relu (Activatio  (None, 13, 13, 256)  0          ['conv4_block4_2_bn[0][0]']      \n",
      " n)                                                                                               \n",
      "                                                                                                  \n",
      " conv4_block4_3_conv (Conv2D)   (None, 13, 13, 1024  263168      ['conv4_block4_2_relu[0][0]']    \n",
      "                                )                                                                 \n",
      "                                                                                                  \n",
      " conv4_block4_3_bn (BatchNormal  (None, 13, 13, 1024  4096       ['conv4_block4_3_conv[0][0]']    \n",
      " ization)                       )                                                                 \n",
      "                                                                                                  \n",
      " conv4_block4_add (Add)         (None, 13, 13, 1024  0           ['conv4_block3_out[0][0]',       \n",
      "                                )                                 'conv4_block4_3_bn[0][0]']      \n",
      "                                                                                                  \n",
      " conv4_block4_out (Activation)  (None, 13, 13, 1024  0           ['conv4_block4_add[0][0]']       \n",
      "                                )                                                                 \n",
      "                                                                                                  \n"
     ]
    },
    {
     "name": "stdout",
     "output_type": "stream",
     "text": [
      " conv4_block5_1_conv (Conv2D)   (None, 13, 13, 256)  262400      ['conv4_block4_out[0][0]']       \n",
      "                                                                                                  \n",
      " conv4_block5_1_bn (BatchNormal  (None, 13, 13, 256)  1024       ['conv4_block5_1_conv[0][0]']    \n",
      " ization)                                                                                         \n",
      "                                                                                                  \n",
      " conv4_block5_1_relu (Activatio  (None, 13, 13, 256)  0          ['conv4_block5_1_bn[0][0]']      \n",
      " n)                                                                                               \n",
      "                                                                                                  \n",
      " conv4_block5_2_conv (Conv2D)   (None, 13, 13, 256)  590080      ['conv4_block5_1_relu[0][0]']    \n",
      "                                                                                                  \n",
      " conv4_block5_2_bn (BatchNormal  (None, 13, 13, 256)  1024       ['conv4_block5_2_conv[0][0]']    \n",
      " ization)                                                                                         \n",
      "                                                                                                  \n",
      " conv4_block5_2_relu (Activatio  (None, 13, 13, 256)  0          ['conv4_block5_2_bn[0][0]']      \n",
      " n)                                                                                               \n",
      "                                                                                                  \n",
      " conv4_block5_3_conv (Conv2D)   (None, 13, 13, 1024  263168      ['conv4_block5_2_relu[0][0]']    \n",
      "                                )                                                                 \n",
      "                                                                                                  \n",
      " conv4_block5_3_bn (BatchNormal  (None, 13, 13, 1024  4096       ['conv4_block5_3_conv[0][0]']    \n",
      " ization)                       )                                                                 \n",
      "                                                                                                  \n",
      " conv4_block5_add (Add)         (None, 13, 13, 1024  0           ['conv4_block4_out[0][0]',       \n",
      "                                )                                 'conv4_block5_3_bn[0][0]']      \n",
      "                                                                                                  \n",
      " conv4_block5_out (Activation)  (None, 13, 13, 1024  0           ['conv4_block5_add[0][0]']       \n",
      "                                )                                                                 \n",
      "                                                                                                  \n",
      " conv4_block6_1_conv (Conv2D)   (None, 13, 13, 256)  262400      ['conv4_block5_out[0][0]']       \n",
      "                                                                                                  \n",
      " conv4_block6_1_bn (BatchNormal  (None, 13, 13, 256)  1024       ['conv4_block6_1_conv[0][0]']    \n",
      " ization)                                                                                         \n",
      "                                                                                                  \n",
      " conv4_block6_1_relu (Activatio  (None, 13, 13, 256)  0          ['conv4_block6_1_bn[0][0]']      \n",
      " n)                                                                                               \n",
      "                                                                                                  \n",
      " conv4_block6_2_conv (Conv2D)   (None, 13, 13, 256)  590080      ['conv4_block6_1_relu[0][0]']    \n",
      "                                                                                                  \n",
      " conv4_block6_2_bn (BatchNormal  (None, 13, 13, 256)  1024       ['conv4_block6_2_conv[0][0]']    \n",
      " ization)                                                                                         \n",
      "                                                                                                  \n",
      " conv4_block6_2_relu (Activatio  (None, 13, 13, 256)  0          ['conv4_block6_2_bn[0][0]']      \n",
      " n)                                                                                               \n",
      "                                                                                                  \n",
      " conv4_block6_3_conv (Conv2D)   (None, 13, 13, 1024  263168      ['conv4_block6_2_relu[0][0]']    \n",
      "                                )                                                                 \n",
      "                                                                                                  \n",
      " conv4_block6_3_bn (BatchNormal  (None, 13, 13, 1024  4096       ['conv4_block6_3_conv[0][0]']    \n",
      " ization)                       )                                                                 \n",
      "                                                                                                  \n",
      " conv4_block6_add (Add)         (None, 13, 13, 1024  0           ['conv4_block5_out[0][0]',       \n",
      "                                )                                 'conv4_block6_3_bn[0][0]']      \n",
      "                                                                                                  \n",
      " conv4_block6_out (Activation)  (None, 13, 13, 1024  0           ['conv4_block6_add[0][0]']       \n",
      "                                )                                                                 \n",
      "                                                                                                  \n",
      " conv5_block1_1_conv (Conv2D)   (None, 7, 7, 512)    524800      ['conv4_block6_out[0][0]']       \n",
      "                                                                                                  \n",
      " conv5_block1_1_bn (BatchNormal  (None, 7, 7, 512)   2048        ['conv5_block1_1_conv[0][0]']    \n",
      " ization)                                                                                         \n",
      "                                                                                                  \n",
      " conv5_block1_1_relu (Activatio  (None, 7, 7, 512)   0           ['conv5_block1_1_bn[0][0]']      \n",
      " n)                                                                                               \n",
      "                                                                                                  \n",
      " conv5_block1_2_conv (Conv2D)   (None, 7, 7, 512)    2359808     ['conv5_block1_1_relu[0][0]']    \n",
      "                                                                                                  \n",
      " conv5_block1_2_bn (BatchNormal  (None, 7, 7, 512)   2048        ['conv5_block1_2_conv[0][0]']    \n",
      " ization)                                                                                         \n",
      "                                                                                                  \n",
      " conv5_block1_2_relu (Activatio  (None, 7, 7, 512)   0           ['conv5_block1_2_bn[0][0]']      \n",
      " n)                                                                                               \n",
      "                                                                                                  \n",
      " conv5_block1_0_conv (Conv2D)   (None, 7, 7, 2048)   2099200     ['conv4_block6_out[0][0]']       \n",
      "                                                                                                  \n",
      " conv5_block1_3_conv (Conv2D)   (None, 7, 7, 2048)   1050624     ['conv5_block1_2_relu[0][0]']    \n",
      "                                                                                                  \n",
      " conv5_block1_0_bn (BatchNormal  (None, 7, 7, 2048)  8192        ['conv5_block1_0_conv[0][0]']    \n",
      " ization)                                                                                         \n",
      "                                                                                                  \n",
      " conv5_block1_3_bn (BatchNormal  (None, 7, 7, 2048)  8192        ['conv5_block1_3_conv[0][0]']    \n",
      " ization)                                                                                         \n",
      "                                                                                                  \n",
      " conv5_block1_add (Add)         (None, 7, 7, 2048)   0           ['conv5_block1_0_bn[0][0]',      \n"
     ]
    },
    {
     "name": "stdout",
     "output_type": "stream",
     "text": [
      "                                                                  'conv5_block1_3_bn[0][0]']      \n",
      "                                                                                                  \n",
      " conv5_block1_out (Activation)  (None, 7, 7, 2048)   0           ['conv5_block1_add[0][0]']       \n",
      "                                                                                                  \n",
      " conv5_block2_1_conv (Conv2D)   (None, 7, 7, 512)    1049088     ['conv5_block1_out[0][0]']       \n",
      "                                                                                                  \n",
      " conv5_block2_1_bn (BatchNormal  (None, 7, 7, 512)   2048        ['conv5_block2_1_conv[0][0]']    \n",
      " ization)                                                                                         \n",
      "                                                                                                  \n",
      " conv5_block2_1_relu (Activatio  (None, 7, 7, 512)   0           ['conv5_block2_1_bn[0][0]']      \n",
      " n)                                                                                               \n",
      "                                                                                                  \n",
      " conv5_block2_2_conv (Conv2D)   (None, 7, 7, 512)    2359808     ['conv5_block2_1_relu[0][0]']    \n",
      "                                                                                                  \n",
      " conv5_block2_2_bn (BatchNormal  (None, 7, 7, 512)   2048        ['conv5_block2_2_conv[0][0]']    \n",
      " ization)                                                                                         \n",
      "                                                                                                  \n",
      " conv5_block2_2_relu (Activatio  (None, 7, 7, 512)   0           ['conv5_block2_2_bn[0][0]']      \n",
      " n)                                                                                               \n",
      "                                                                                                  \n",
      " conv5_block2_3_conv (Conv2D)   (None, 7, 7, 2048)   1050624     ['conv5_block2_2_relu[0][0]']    \n",
      "                                                                                                  \n",
      " conv5_block2_3_bn (BatchNormal  (None, 7, 7, 2048)  8192        ['conv5_block2_3_conv[0][0]']    \n",
      " ization)                                                                                         \n",
      "                                                                                                  \n",
      " conv5_block2_add (Add)         (None, 7, 7, 2048)   0           ['conv5_block1_out[0][0]',       \n",
      "                                                                  'conv5_block2_3_bn[0][0]']      \n",
      "                                                                                                  \n",
      " conv5_block2_out (Activation)  (None, 7, 7, 2048)   0           ['conv5_block2_add[0][0]']       \n",
      "                                                                                                  \n",
      " conv5_block3_1_conv (Conv2D)   (None, 7, 7, 512)    1049088     ['conv5_block2_out[0][0]']       \n",
      "                                                                                                  \n",
      " conv5_block3_1_bn (BatchNormal  (None, 7, 7, 512)   2048        ['conv5_block3_1_conv[0][0]']    \n",
      " ization)                                                                                         \n",
      "                                                                                                  \n",
      " conv5_block3_1_relu (Activatio  (None, 7, 7, 512)   0           ['conv5_block3_1_bn[0][0]']      \n",
      " n)                                                                                               \n",
      "                                                                                                  \n",
      " conv5_block3_2_conv (Conv2D)   (None, 7, 7, 512)    2359808     ['conv5_block3_1_relu[0][0]']    \n",
      "                                                                                                  \n",
      " conv5_block3_2_bn (BatchNormal  (None, 7, 7, 512)   2048        ['conv5_block3_2_conv[0][0]']    \n",
      " ization)                                                                                         \n",
      "                                                                                                  \n",
      " conv5_block3_2_relu (Activatio  (None, 7, 7, 512)   0           ['conv5_block3_2_bn[0][0]']      \n",
      " n)                                                                                               \n",
      "                                                                                                  \n",
      " conv5_block3_3_conv (Conv2D)   (None, 7, 7, 2048)   1050624     ['conv5_block3_2_relu[0][0]']    \n",
      "                                                                                                  \n",
      " conv5_block3_3_bn (BatchNormal  (None, 7, 7, 2048)  8192        ['conv5_block3_3_conv[0][0]']    \n",
      " ization)                                                                                         \n",
      "                                                                                                  \n",
      " conv5_block3_add (Add)         (None, 7, 7, 2048)   0           ['conv5_block2_out[0][0]',       \n",
      "                                                                  'conv5_block3_3_bn[0][0]']      \n",
      "                                                                                                  \n",
      " conv5_block3_out (Activation)  (None, 7, 7, 2048)   0           ['conv5_block3_add[0][0]']       \n",
      "                                                                                                  \n",
      " flatten_5 (Flatten)            (None, 100352)       0           ['conv5_block3_out[0][0]']       \n",
      "                                                                                                  \n",
      " dense_42 (Dense)               (None, 512)          51380736    ['flatten_5[0][0]']              \n",
      "                                                                                                  \n",
      " dense_43 (Dense)               (None, 6)            3078        ['dense_42[0][0]']               \n",
      "                                                                                                  \n",
      "==================================================================================================\n",
      "Total params: 74,971,526\n",
      "Trainable params: 51,383,814\n",
      "Non-trainable params: 23,587,712\n",
      "__________________________________________________________________________________________________\n"
     ]
    }
   ],
   "source": [
    "# Since most defects in images have large values, MaxPooling will be used\n",
    "# Reduces dimensionality\n",
    "x = Flatten()(res_model.output)\n",
    "\n",
    "# Dense Layer \n",
    "x = Dense(512, activation='relu')(x)\n",
    "\n",
    "# Multiclass classification so using softmax\n",
    "output = Dense(6, activation='softmax')(x)\n",
    "\n",
    "# Final model\n",
    "final_res_model = Model(inputs=res_model.input, outputs=output)\n",
    "\n",
    "final_res_model.summary()"
   ]
  },
  {
   "cell_type": "code",
   "execution_count": 115,
   "id": "97f1ba23",
   "metadata": {
    "scrolled": true
   },
   "outputs": [
    {
     "name": "stdout",
     "output_type": "stream",
     "text": [
      "Epoch 1/10\n",
      "40/40 [==============================] - 223s 5s/step - loss: 11.2106 - accuracy: 0.2238 - val_loss: 1.5722 - val_accuracy: 0.4185\n",
      "Epoch 2/10\n",
      "40/40 [==============================] - 201s 5s/step - loss: 1.4150 - accuracy: 0.4397 - val_loss: 1.5710 - val_accuracy: 0.4037\n",
      "Epoch 3/10\n",
      "40/40 [==============================] - 205s 5s/step - loss: 1.4553 - accuracy: 0.4270 - val_loss: 1.4502 - val_accuracy: 0.4704\n",
      "Epoch 4/10\n",
      "40/40 [==============================] - 200s 5s/step - loss: 1.3935 - accuracy: 0.4611 - val_loss: 1.0725 - val_accuracy: 0.5037\n",
      "Epoch 5/10\n",
      "40/40 [==============================] - 214s 5s/step - loss: 1.1823 - accuracy: 0.5476 - val_loss: 0.9388 - val_accuracy: 0.7481\n",
      "Epoch 6/10\n",
      "40/40 [==============================] - 206s 5s/step - loss: 1.0908 - accuracy: 0.5754 - val_loss: 1.1289 - val_accuracy: 0.5148\n",
      "Epoch 7/10\n",
      "40/40 [==============================] - 199s 5s/step - loss: 1.2249 - accuracy: 0.5500 - val_loss: 1.0149 - val_accuracy: 0.6481\n",
      "Epoch 8/10\n",
      "40/40 [==============================] - 217s 5s/step - loss: 1.0090 - accuracy: 0.6246 - val_loss: 1.1179 - val_accuracy: 0.6222\n",
      "Epoch 9/10\n",
      "40/40 [==============================] - 213s 5s/step - loss: 0.8703 - accuracy: 0.6651 - val_loss: 0.7348 - val_accuracy: 0.7222\n",
      "Epoch 10/10\n",
      "40/40 [==============================] - 196s 5s/step - loss: 0.7384 - accuracy: 0.7476 - val_loss: 1.0439 - val_accuracy: 0.6926\n"
     ]
    }
   ],
   "source": [
    "# Compiling, training and evaluating model\n",
    "final_res_model.compile(optimizer=Adam(), loss='categorical_crossentropy', metrics=['accuracy'])\n",
    "\n",
    "final_res_model_hist = train_model(final_res_model, X_train_rgb, y_train, X_val_rgb, y_val, 'resnet/resnet_checkpoint.h5', 10)"
   ]
  },
  {
   "cell_type": "markdown",
   "id": "f54fc9e7",
   "metadata": {},
   "source": [
    "## Evaluating ResNet"
   ]
  },
  {
   "cell_type": "code",
   "execution_count": 36,
   "id": "1dccffca",
   "metadata": {},
   "outputs": [],
   "source": [
    "res_model_path = model_path + 'resnet/final_resnet_model.h5'\n",
    "final_res_model = models.load_model(res_model_path)"
   ]
  },
  {
   "cell_type": "code",
   "execution_count": 254,
   "id": "7403b378",
   "metadata": {},
   "outputs": [],
   "source": [
    "# Building a function to predict and evaluate on Test set\n",
    "# Returns confusion matrix and classification report\n",
    "\n",
    "def predictor(model, X, y, print_report=False):\n",
    "    # Features\n",
    "    labels_ = ['Crazing', 'Inclusions', 'Patches', 'Pitted', 'Rolled', 'Scratches']\n",
    "    \n",
    "    # predictions on X_test\n",
    "    y_pred = model.predict(X)\n",
    "    \n",
    "    # Gets classes in 1D array for predictions\n",
    "    y_pred_classes = np.argmax(y_pred, axis=1)\n",
    "    \n",
    "    # Classes for val set \n",
    "    y_val_classes = np.argmax(y, axis=1)\n",
    "    \n",
    "    # If true, prints both reports\n",
    "    if print_report:\n",
    "        \n",
    "        # Prints confusion matrix\n",
    "        results = confusion_matrix(y_val_classes, y_pred_classes)\n",
    "        disp = ConfusionMatrixDisplay(results, display_labels=labels_)\n",
    "        fig, ax = plt.subplots(figsize=(8,8))\n",
    "        disp.plot(xticks_rotation=45.0, cmap='Blues', ax=ax)\n",
    "        print('\\n')\n",
    "        \n",
    "        # Prints classification report\n",
    "        print('                 Classification report')\n",
    "        \n",
    "        print('\\n')\n",
    "        # zero_division=0.0 to prevent error\n",
    "        print(classification_report(y_val_classes, y_pred_classes, target_names=labels_, zero_division=0.0))\n",
    "    \n",
    "    # Returns classification report with output_dict\n",
    "    return classification_report(y_val_classes, y_pred_classes, target_names=labels_, \\\n",
    "                                 output_dict=True, zero_division=0.0)"
   ]
  },
  {
   "cell_type": "code",
   "execution_count": 67,
   "id": "cc46d244",
   "metadata": {
    "scrolled": false
   },
   "outputs": [
    {
     "name": "stdout",
     "output_type": "stream",
     "text": [
      "9/9 [==============================] - 25s 3s/step\n",
      "\n",
      "\n",
      "                 Classification report\n",
      "\n",
      "\n",
      "              precision    recall  f1-score   support\n",
      "\n",
      "     Crazing       1.00      0.76      0.86        42\n",
      "  Inclusions       0.78      1.00      0.88        56\n",
      "     Patches       0.89      0.87      0.88        47\n",
      "      Pitted       0.00      0.00      0.00        38\n",
      "      Rolled       0.51      1.00      0.68        46\n",
      "   Scratches       1.00      0.73      0.85        41\n",
      "\n",
      "    accuracy                           0.76       270\n",
      "   macro avg       0.70      0.73      0.69       270\n",
      "weighted avg       0.71      0.76      0.71       270\n",
      "\n"
     ]
    },
    {
     "data": {
      "image/png": "[encoded data removed]",
      "text/plain": [
       "<Figure size 576x576 with 2 Axes>"
      ]
     },
     "metadata": {
      "needs_background": "light"
     },
     "output_type": "display_data"
    }
   ],
   "source": [
    "spredictor(final_res_model, X_val_rgb, y_val, print_report=True);"
   ]
  },
  {
   "cell_type": "markdown",
   "id": "08c6bf4c",
   "metadata": {},
   "source": [
    "#### This model will be put on hold while CNN is tested"
   ]
  },
  {
   "cell_type": "markdown",
   "id": "90e48795",
   "metadata": {},
   "source": [
    "## Saving ResNet model and history"
   ]
  },
  {
   "cell_type": "code",
   "execution_count": 116,
   "id": "9c8ec575",
   "metadata": {},
   "outputs": [],
   "source": [
    "#final_res_model.save(model_path + '/resnet/final_resnet_model.h5')"
   ]
  },
  {
   "cell_type": "code",
   "execution_count": 119,
   "id": "7285dc51",
   "metadata": {},
   "outputs": [],
   "source": [
    "#with open(model_path + 'resnet/resnet_hist.pkl', 'wb') as f:\n",
    "#        pickle.dump(final_res_model_hist, f)"
   ]
  },
  {
   "cell_type": "markdown",
   "id": "6de99119",
   "metadata": {},
   "source": [
    "# 3.3 CNN"
   ]
  },
  {
   "cell_type": "code",
   "execution_count": 60,
   "id": "36ab003d",
   "metadata": {},
   "outputs": [],
   "source": [
    "# Creates a CNN model and returns it\n",
    "def create_model():    \n",
    "    model = models.Sequential([\n",
    "            layers.Conv2D(32, (3, 3), activation='relu', input_shape=(200, 200, 1)),\n",
    "            layers.MaxPooling2D((2, 2)),\n",
    "            layers.Conv2D(64, (3, 3), activation='relu'),\n",
    "            layers.MaxPooling2D((2, 2)),\n",
    "            layers.Conv2D(64, (3, 3), activation='relu'),\n",
    "            layers.MaxPooling2D((2, 2)),\n",
    "            layers.Flatten(),\n",
    "            layers.Dense(64, activation='relu'),\n",
    "            layers.Dense(6, activation='softmax')\n",
    "            ])\n",
    "    \n",
    "    return model"
   ]
  },
  {
   "cell_type": "code",
   "execution_count": 61,
   "id": "7451b029",
   "metadata": {},
   "outputs": [],
   "source": [
    "# Instantiating base CNN model\\\n",
    "base_cnn = create_model();"
   ]
  },
  {
   "cell_type": "code",
   "execution_count": 62,
   "id": "e3e738b2",
   "metadata": {},
   "outputs": [
    {
     "name": "stdout",
     "output_type": "stream",
     "text": [
      "Model: \"sequential\"\n",
      "_________________________________________________________________\n",
      " Layer (type)                Output Shape              Param #   \n",
      "=================================================================\n",
      " conv2d (Conv2D)             (None, 198, 198, 32)      320       \n",
      "                                                                 \n",
      " max_pooling2d (MaxPooling2D  (None, 99, 99, 32)       0         \n",
      " )                                                               \n",
      "                                                                 \n",
      " conv2d_1 (Conv2D)           (None, 97, 97, 64)        18496     \n",
      "                                                                 \n",
      " max_pooling2d_1 (MaxPooling  (None, 48, 48, 64)       0         \n",
      " 2D)                                                             \n",
      "                                                                 \n",
      " conv2d_2 (Conv2D)           (None, 46, 46, 64)        36928     \n",
      "                                                                 \n",
      " max_pooling2d_2 (MaxPooling  (None, 23, 23, 64)       0         \n",
      " 2D)                                                             \n",
      "                                                                 \n",
      " flatten (Flatten)           (None, 33856)             0         \n",
      "                                                                 \n",
      " dense (Dense)               (None, 64)                2166848   \n",
      "                                                                 \n",
      " dense_1 (Dense)             (None, 6)                 390       \n",
      "                                                                 \n",
      "=================================================================\n",
      "Total params: 2,222,982\n",
      "Trainable params: 2,222,982\n",
      "Non-trainable params: 0\n",
      "_________________________________________________________________\n"
     ]
    }
   ],
   "source": [
    "base_cnn.summary()"
   ]
  },
  {
   "cell_type": "code",
   "execution_count": 109,
   "id": "61de3fa5",
   "metadata": {
    "scrolled": true
   },
   "outputs": [],
   "source": [
    "# Training model \n",
    "# Instantiating hist_base_cnn as the history returned from the train_model function\n",
    "hist_base_cnn = train_model(base_cnn, X_train, y_train, X_val, y_val, \\\n",
    "                            'base_cnn/base_cnn_checkpoint.h5',\\ \n",
    "                            epochs=10,\\\n",
    "                            to_compile=True)"
   ]
  },
  {
   "cell_type": "code",
   "execution_count": 40,
   "id": "2b67a768",
   "metadata": {
    "scrolled": true
   },
   "outputs": [],
   "source": [
    "# Function accepts trial history and title\n",
    "# Returns model accuracy and loss in both train and validation sets\n",
    "def grapher(history, title):\n",
    "    \n",
    "    # Two subplots for each ax\n",
    "    fig, (ax1, ax2) = plt.subplots(1, 2, figsize=(15, 5))\n",
    "\n",
    "    # Sets title\n",
    "    fig.suptitle(title, fontsize=16)\n",
    "    \n",
    "    # Plots training and validation accuracy\n",
    "    ax1.plot(history.history['accuracy'])\n",
    "    ax1.plot(history.history['val_accuracy'])\n",
    "    ax1.set_title('Model accuracy')\n",
    "    ax1.set_ylabel('Accuracy')\n",
    "    ax1.set_xlabel('Epoch')\n",
    "    ax1.legend(['Train', 'Validation'], loc='upper left')\n",
    "\n",
    "    # Plots training and validation loss\n",
    "    ax2.plot(history.history['loss'])\n",
    "    ax2.plot(history.history['val_loss'])\n",
    "    ax2.set_title('Model loss')\n",
    "    ax2.set_ylabel('Loss')\n",
    "    ax2.set_xlabel('Epoch')\n",
    "    ax2.legend(['Train', 'Validation'], loc='upper right')\n",
    "\n",
    "    plt.tight_layout()\n",
    "    plt.show()"
   ]
  },
  {
   "cell_type": "code",
   "execution_count": 41,
   "id": "732b4e10",
   "metadata": {
    "scrolled": true
   },
   "outputs": [
    {
     "data": {
      "image/png": "[encoded data removed]",
      "text/plain": [
       "<Figure size 1080x360 with 2 Axes>"
      ]
     },
     "metadata": {
      "needs_background": "light"
     },
     "output_type": "display_data"
    }
   ],
   "source": [
    "grapher(hist_base_cnn, 'Base CNN Training progress')"
   ]
  },
  {
   "cell_type": "markdown",
   "id": "7a16d45f",
   "metadata": {},
   "source": [
    "## Evaluating CNN"
   ]
  },
  {
   "cell_type": "code",
   "execution_count": 63,
   "id": "2ddc8880",
   "metadata": {},
   "outputs": [],
   "source": [
    "base_cnn.load_weights(model_path + 'base_cnn/base_cnn_checkpoint.h5')"
   ]
  },
  {
   "cell_type": "code",
   "execution_count": 68,
   "id": "28bbb062",
   "metadata": {},
   "outputs": [
    {
     "name": "stdout",
     "output_type": "stream",
     "text": [
      "9/9 [==============================] - 4s 411ms/step\n",
      "\n",
      "\n",
      "                 Classification report\n",
      "\n",
      "\n",
      "              precision    recall  f1-score   support\n",
      "\n",
      "     Crazing       0.97      0.88      0.93        42\n",
      "  Inclusions       0.92      1.00      0.96        56\n",
      "     Patches       0.90      0.98      0.94        47\n",
      "      Pitted       0.94      0.82      0.87        38\n",
      "      Rolled       0.96      1.00      0.98        46\n",
      "   Scratches       0.95      0.90      0.92        41\n",
      "\n",
      "    accuracy                           0.94       270\n",
      "   macro avg       0.94      0.93      0.93       270\n",
      "weighted avg       0.94      0.94      0.94       270\n",
      "\n"
     ]
    },
    {
     "data": {
      "image/png": "[encoded data removed]",
      "text/plain": [
       "<Figure size 576x576 with 2 Axes>"
      ]
     },
     "metadata": {
      "needs_background": "light"
     },
     "output_type": "display_data"
    }
   ],
   "source": [
    "base_cnn_vals = predictor(base_cnn, X_val, y_val, True)"
   ]
  },
  {
   "cell_type": "markdown",
   "id": "303b0df0",
   "metadata": {},
   "source": [
    "#### Inclusions, Patches, Pits and Scratches aren't classified properly"
   ]
  },
  {
   "cell_type": "markdown",
   "id": "4715be1f",
   "metadata": {},
   "source": [
    "#### Classes Crazing, Pitted and Scratches don't have very good f1-scores"
   ]
  },
  {
   "cell_type": "code",
   "execution_count": 69,
   "id": "61a98a53",
   "metadata": {},
   "outputs": [
    {
     "name": "stdout",
     "output_type": "stream",
     "text": [
      "9/9 [==============================] - 4s 419ms/step\n"
     ]
    },
    {
     "data": {
      "text/plain": [
       "0.937037037037037"
      ]
     },
     "execution_count": 69,
     "metadata": {},
     "output_type": "execute_result"
    }
   ],
   "source": [
    "# Getting validation accuracy \n",
    "base_val_acc = predictor(base_cnn, X_val, y_val)['accuracy']\n",
    "base_val_acc"
   ]
  },
  {
   "cell_type": "code",
   "execution_count": 70,
   "id": "146b14ea",
   "metadata": {},
   "outputs": [
    {
     "name": "stdout",
     "output_type": "stream",
     "text": [
      "40/40 [==============================] - 15s 372ms/step\n"
     ]
    },
    {
     "data": {
      "text/plain": [
       "0.957936507936508"
      ]
     },
     "execution_count": 70,
     "metadata": {},
     "output_type": "execute_result"
    }
   ],
   "source": [
    "# Getting training accuracy\n",
    "base_acc = predictor(base_cnn, X_train, y_train)['accuracy']\n",
    "base_acc"
   ]
  },
  {
   "cell_type": "markdown",
   "id": "b6da813f",
   "metadata": {},
   "source": [
    "## Saving CNN"
   ]
  },
  {
   "cell_type": "code",
   "execution_count": 51,
   "id": "ae0631c2",
   "metadata": {},
   "outputs": [],
   "source": [
    "#base_cnn.save(model_path + 'base_cnn/final_base_cnn.h5')"
   ]
  },
  {
   "cell_type": "markdown",
   "id": "5c764cd9",
   "metadata": {},
   "source": [
    "# 4.0 Hyperparameter tuning"
   ]
  },
  {
   "cell_type": "code",
   "execution_count": 72,
   "id": "e8b907ad",
   "metadata": {},
   "outputs": [],
   "source": [
    "# Creating another CNN for hyperparameter tuning to feed into Tuner\n",
    "# Learning rate will be chosen as hyperparameter\n",
    "\n",
    "def create_model_1(hp):\n",
    "    model = models.Sequential([\n",
    "            layers.Conv2D(32, (3, 3), activation='relu', input_shape=(200, 200, 1)),\n",
    "            layers.MaxPooling2D((2, 2)),\n",
    "            layers.Conv2D(64, (3, 3), activation='relu'),\n",
    "            layers.MaxPooling2D((2, 2)),\n",
    "            layers.Conv2D(64, (3, 3), activation='relu'),\n",
    "            layers.MaxPooling2D((2, 2)),\n",
    "            layers.Flatten(),\n",
    "            layers.Dense(64, activation='relu'),\n",
    "            layers.Dense(6, activation='softmax'),\n",
    "            ])\n",
    "\n",
    "    # Learning rate can be changed\n",
    "    learning_rate = hp.Float('learning_rate', 0.0001, 0.0151, sampling='log')\n",
    "    \n",
    "    # Compiling with learning rate fed into Adam optimizer\n",
    "    model.compile(optimizer=Adam(learning_rate), loss='categorical_crossentropy',\\\n",
    "        metrics=['accuracy'])\n",
    "\n",
    "    return model"
   ]
  },
  {
   "cell_type": "code",
   "execution_count": 122,
   "id": "62d8646e",
   "metadata": {},
   "outputs": [],
   "source": [
    "# Creating RandomSearch object \n",
    "# Creating directory to model path stated above\n",
    "\n",
    "tuner_1 = RandomSearch(create_model_1, objective='val_accuracy', max_trials=12, executions_per_trial=1,\n",
    "                       directory=model_path + 'tuner_dir/',\n",
    "                       project_name='tuner_round_1',\n",
    "                       overwrite=True); "
   ]
  },
  {
   "cell_type": "code",
   "execution_count": 119,
   "id": "54ad0eca",
   "metadata": {},
   "outputs": [
    {
     "name": "stdout",
     "output_type": "stream",
     "text": [
      "Search space summary\n",
      "Default search space size: 1\n",
      "learning_rate (Float)\n",
      "{'default': 0.0001, 'conditions': [], 'min_value': 0.0001, 'max_value': 0.0151, 'step': None, 'sampling': 'log'}\n"
     ]
    }
   ],
   "source": [
    "# Random Search value range\n",
    "tuner_1.search_space_summary()"
   ]
  },
  {
   "cell_type": "code",
   "execution_count": 72,
   "id": "2ddb6c71",
   "metadata": {},
   "outputs": [
    {
     "data": {
      "text/plain": [
       "((1260, 200, 200, 1), (1260, 6), (270, 200, 200, 1), (270, 6))"
      ]
     },
     "execution_count": 72,
     "metadata": {},
     "output_type": "execute_result"
    }
   ],
   "source": [
    "# Verifying shapes\n",
    "X_train.shape, y_train.shape, X_val.shape, y_val.shape"
   ]
  },
  {
   "cell_type": "code",
   "execution_count": 123,
   "id": "691d446a",
   "metadata": {},
   "outputs": [],
   "source": [
    "# EarlyStopping to get best weights\n",
    "tuner_1_stop = EarlyStopping(monitor='val_loss',\n",
    "                    # 3 epochs to improve val_loss\n",
    "                    patience=3,\n",
    "                    mode='min',\n",
    "                    # Restoring best weights of each trial\n",
    "                    restore_best_weights=True,\\\n",
    "                    start_from_epoch=2)\n",
    "\n",
    "tuner_1_logs = CSVLogger(model_path + 'tuner_dir/tuner_round_1/tuner_1_logs.csv')"
   ]
  },
  {
   "cell_type": "code",
   "execution_count": 124,
   "id": "3750bed1",
   "metadata": {
    "scrolled": true
   },
   "outputs": [
    {
     "name": "stdout",
     "output_type": "stream",
     "text": [
      "Trial 12 Complete [00h 07m 47s]\n",
      "val_accuracy: 0.9296296238899231\n",
      "\n",
      "Best val_accuracy So Far: 0.9444444179534912\n",
      "Total elapsed time: 02h 02m 39s\n",
      "INFO:tensorflow:Oracle triggered exit\n"
     ]
    }
   ],
   "source": [
    "# Running Random Search\n",
    "tuner_1.search(X_train, y_train, \\\n",
    "               epochs=11, \\\n",
    "               validation_data=(X_val, y_val), \\\n",
    "               callbacks=[tuner_1_stop, tuner_1_logs])"
   ]
  },
  {
   "cell_type": "code",
   "execution_count": 126,
   "id": "0aa37bb4",
   "metadata": {
    "scrolled": true
   },
   "outputs": [
    {
     "name": "stdout",
     "output_type": "stream",
     "text": [
      "Results summary\n",
      "Results in /Users/chinmayasukumar/Documents/Capstone Projects/Capstone-3_Classifying_steel_defects/models/tuner_dir/tuner_round_1\n",
      "Showing 10 best trials\n",
      "Objective(name=\"val_accuracy\", direction=\"max\")\n",
      "\n",
      "Trial 08 summary\n",
      "Hyperparameters:\n",
      "learning_rate: 0.0016034905008069655\n",
      "Score: 0.9444444179534912\n",
      "\n",
      "Trial 00 summary\n",
      "Hyperparameters:\n",
      "learning_rate: 0.00037929467792676097\n",
      "Score: 0.9333333373069763\n",
      "\n",
      "Trial 02 summary\n",
      "Hyperparameters:\n",
      "learning_rate: 0.0005835409602249638\n",
      "Score: 0.9296296238899231\n",
      "\n",
      "Trial 04 summary\n",
      "Hyperparameters:\n",
      "learning_rate: 0.00044449476348729403\n",
      "Score: 0.9296296238899231\n",
      "\n",
      "Trial 06 summary\n",
      "Hyperparameters:\n",
      "learning_rate: 0.0005634185728375876\n",
      "Score: 0.9296296238899231\n",
      "\n",
      "Trial 11 summary\n",
      "Hyperparameters:\n",
      "learning_rate: 0.0006255194064093167\n",
      "Score: 0.9296296238899231\n",
      "\n",
      "Trial 03 summary\n",
      "Hyperparameters:\n",
      "learning_rate: 0.00014868211121270912\n",
      "Score: 0.914814829826355\n",
      "\n",
      "Trial 09 summary\n",
      "Hyperparameters:\n",
      "learning_rate: 0.0014137593904332256\n",
      "Score: 0.8444444537162781\n",
      "\n",
      "Trial 01 summary\n",
      "Hyperparameters:\n",
      "learning_rate: 0.009118250451102978\n",
      "Score: 0.6518518328666687\n",
      "\n",
      "Trial 10 summary\n",
      "Hyperparameters:\n",
      "learning_rate: 0.008886732800774797\n",
      "Score: 0.6370370388031006\n"
     ]
    }
   ],
   "source": [
    "tuner_1.results_summary()"
   ]
  },
  {
   "cell_type": "code",
   "execution_count": 99,
   "id": "a3b1d88a",
   "metadata": {},
   "outputs": [
    {
     "name": "stdout",
     "output_type": "stream",
     "text": [
      "INFO:tensorflow:Reloading Tuner from /Users/chinmayasukumar/Documents/Capstone Projects/Capstone-3_Classifying_steel_defects/models/tuner_dir/tuner_round_1_copy/tuner0.json\n"
     ]
    }
   ],
   "source": [
    "# Reloading tuner values \n",
    "tuner_1_copy = RandomSearch(create_model_1, objective='val_accuracy', max_trials=12, executions_per_trial=1,\n",
    "                       directory='/Users/chinmayasukumar/Documents/Capstone Projects/Capstone-3_Classifying_steel_defects/models/tuner_dir',\n",
    "                       project_name='tuner_round_1_copy',\n",
    "                       overwrite=False);"
   ]
  },
  {
   "cell_type": "markdown",
   "id": "28aec863",
   "metadata": {},
   "source": [
    "## Comparing Results"
   ]
  },
  {
   "cell_type": "code",
   "execution_count": 165,
   "id": "90c88dc1",
   "metadata": {},
   "outputs": [],
   "source": [
    "def make_table(tuner, round_number):\n",
    "    # Metrics to be evaluated\n",
    "    metrics = ['accuracy', 'loss', 'val_accuracy', 'val_loss']\n",
    "    \n",
    "    # Instantiating empty lists\n",
    "    trial_list  = list()\n",
    "    lr = list()\n",
    "    opt = ['adam' for i in range(12)]\n",
    "    acc = list()\n",
    "    loss = list()\n",
    "    val_acc = list()\n",
    "    val_loss = list()\n",
    "    \n",
    "    # List of metric lists from above\n",
    "    metrics_list_ = [acc, loss, val_acc, val_loss]\n",
    "    \n",
    "    # Looping through all the trials\n",
    "    for trial in tuner.oracle.get_best_trials(11):\n",
    "        \n",
    "        # Appending trial info to corresponding tables\n",
    "        trial_list.append(trial.trial_id)\n",
    "        \n",
    "        # Appending learning rates\n",
    "        lr.append(trial.hyperparameters.values['learning_rate'])\n",
    "    \n",
    "        # Appending individual metric to corresponding tables\n",
    "        for m, metric in zip(metrics_list_, metrics):\n",
    "            m.append(trial.metrics.get_history(metric)[0].value[0])\n",
    "    \n",
    "    # Combining list into DataFrame\n",
    "    results = pd.DataFrame({'Trial Number':trial_list + [np.nan],\n",
    "                            'Learning rate':lr + [0.001],\n",
    "                            'Optimizer':opt,\n",
    "                            'Accuracy':acc + [base_acc],\n",
    "                            'Loss':loss + [np.nan],\n",
    "                            'Val accuracy':val_acc + [base_val_acc],\n",
    "                            'Val loss':val_loss + [np.nan]})\n",
    "    \n",
    "    return results"
   ]
  },
  {
   "cell_type": "code",
   "execution_count": 166,
   "id": "2dbb05a2",
   "metadata": {},
   "outputs": [],
   "source": [
    "# Making table for trials\n",
    "trials = make_table(tuner_1_copy, round_number=1)"
   ]
  },
  {
   "cell_type": "code",
   "execution_count": 173,
   "id": "c291cac0",
   "metadata": {
    "scrolled": false
   },
   "outputs": [
    {
     "data": {
      "text/html": [
       "<div>\n",
       "<style scoped>\n",
       "    .dataframe tbody tr th:only-of-type {\n",
       "        vertical-align: middle;\n",
       "    }\n",
       "\n",
       "    .dataframe tbody tr th {\n",
       "        vertical-align: top;\n",
       "    }\n",
       "\n",
       "    .dataframe thead th {\n",
       "        text-align: right;\n",
       "    }\n",
       "</style>\n",
       "<table border=\"1\" class=\"dataframe\">\n",
       "  <thead>\n",
       "    <tr style=\"text-align: right;\">\n",
       "      <th></th>\n",
       "      <th>Trial Number</th>\n",
       "      <th>Learning rate</th>\n",
       "      <th>Optimizer</th>\n",
       "      <th>Accuracy</th>\n",
       "      <th>Loss</th>\n",
       "      <th>Val accuracy</th>\n",
       "      <th>Val loss</th>\n",
       "    </tr>\n",
       "  </thead>\n",
       "  <tbody>\n",
       "    <tr>\n",
       "      <th>0</th>\n",
       "      <td>08</td>\n",
       "      <td>0.001603</td>\n",
       "      <td>adam</td>\n",
       "      <td>0.944444</td>\n",
       "      <td>0.173227</td>\n",
       "      <td>0.944444</td>\n",
       "      <td>0.223986</td>\n",
       "    </tr>\n",
       "    <tr>\n",
       "      <th>11</th>\n",
       "      <td>NaN</td>\n",
       "      <td>0.001000</td>\n",
       "      <td>adam</td>\n",
       "      <td>0.957937</td>\n",
       "      <td>NaN</td>\n",
       "      <td>0.937037</td>\n",
       "      <td>NaN</td>\n",
       "    </tr>\n",
       "    <tr>\n",
       "      <th>1</th>\n",
       "      <td>00</td>\n",
       "      <td>0.000379</td>\n",
       "      <td>adam</td>\n",
       "      <td>0.940476</td>\n",
       "      <td>0.173955</td>\n",
       "      <td>0.933333</td>\n",
       "      <td>0.193365</td>\n",
       "    </tr>\n",
       "    <tr>\n",
       "      <th>2</th>\n",
       "      <td>04</td>\n",
       "      <td>0.000444</td>\n",
       "      <td>adam</td>\n",
       "      <td>0.915079</td>\n",
       "      <td>0.258081</td>\n",
       "      <td>0.929630</td>\n",
       "      <td>0.230726</td>\n",
       "    </tr>\n",
       "    <tr>\n",
       "      <th>3</th>\n",
       "      <td>06</td>\n",
       "      <td>0.000563</td>\n",
       "      <td>adam</td>\n",
       "      <td>0.928571</td>\n",
       "      <td>0.201426</td>\n",
       "      <td>0.929630</td>\n",
       "      <td>0.251955</td>\n",
       "    </tr>\n",
       "    <tr>\n",
       "      <th>4</th>\n",
       "      <td>02</td>\n",
       "      <td>0.000584</td>\n",
       "      <td>adam</td>\n",
       "      <td>0.822222</td>\n",
       "      <td>0.449366</td>\n",
       "      <td>0.929630</td>\n",
       "      <td>0.290097</td>\n",
       "    </tr>\n",
       "    <tr>\n",
       "      <th>5</th>\n",
       "      <td>11</td>\n",
       "      <td>0.000626</td>\n",
       "      <td>adam</td>\n",
       "      <td>0.924603</td>\n",
       "      <td>0.219491</td>\n",
       "      <td>0.929630</td>\n",
       "      <td>0.252830</td>\n",
       "    </tr>\n",
       "    <tr>\n",
       "      <th>6</th>\n",
       "      <td>03</td>\n",
       "      <td>0.000149</td>\n",
       "      <td>adam</td>\n",
       "      <td>0.922222</td>\n",
       "      <td>0.233239</td>\n",
       "      <td>0.914815</td>\n",
       "      <td>0.260802</td>\n",
       "    </tr>\n",
       "    <tr>\n",
       "      <th>7</th>\n",
       "      <td>09</td>\n",
       "      <td>0.001414</td>\n",
       "      <td>adam</td>\n",
       "      <td>0.850794</td>\n",
       "      <td>0.429369</td>\n",
       "      <td>0.844444</td>\n",
       "      <td>0.407717</td>\n",
       "    </tr>\n",
       "    <tr>\n",
       "      <th>8</th>\n",
       "      <td>01</td>\n",
       "      <td>0.009118</td>\n",
       "      <td>adam</td>\n",
       "      <td>0.667460</td>\n",
       "      <td>0.803256</td>\n",
       "      <td>0.651852</td>\n",
       "      <td>0.885851</td>\n",
       "    </tr>\n",
       "    <tr>\n",
       "      <th>9</th>\n",
       "      <td>10</td>\n",
       "      <td>0.008887</td>\n",
       "      <td>adam</td>\n",
       "      <td>0.560317</td>\n",
       "      <td>1.065314</td>\n",
       "      <td>0.637037</td>\n",
       "      <td>1.044751</td>\n",
       "    </tr>\n",
       "    <tr>\n",
       "      <th>10</th>\n",
       "      <td>05</td>\n",
       "      <td>0.013138</td>\n",
       "      <td>adam</td>\n",
       "      <td>0.533333</td>\n",
       "      <td>1.269003</td>\n",
       "      <td>0.537037</td>\n",
       "      <td>1.329912</td>\n",
       "    </tr>\n",
       "  </tbody>\n",
       "</table>\n",
       "</div>"
      ],
      "text/plain": [
       "   Trial Number  Learning rate Optimizer  Accuracy      Loss  Val accuracy  \\\n",
       "0            08       0.001603      adam  0.944444  0.173227      0.944444   \n",
       "11          NaN       0.001000      adam  0.957937       NaN      0.937037   \n",
       "1            00       0.000379      adam  0.940476  0.173955      0.933333   \n",
       "2            04       0.000444      adam  0.915079  0.258081      0.929630   \n",
       "3            06       0.000563      adam  0.928571  0.201426      0.929630   \n",
       "4            02       0.000584      adam  0.822222  0.449366      0.929630   \n",
       "5            11       0.000626      adam  0.924603  0.219491      0.929630   \n",
       "6            03       0.000149      adam  0.922222  0.233239      0.914815   \n",
       "7            09       0.001414      adam  0.850794  0.429369      0.844444   \n",
       "8            01       0.009118      adam  0.667460  0.803256      0.651852   \n",
       "9            10       0.008887      adam  0.560317  1.065314      0.637037   \n",
       "10           05       0.013138      adam  0.533333  1.269003      0.537037   \n",
       "\n",
       "    Val loss  \n",
       "0   0.223986  \n",
       "11       NaN  \n",
       "1   0.193365  \n",
       "2   0.230726  \n",
       "3   0.251955  \n",
       "4   0.290097  \n",
       "5   0.252830  \n",
       "6   0.260802  \n",
       "7   0.407717  \n",
       "8   0.885851  \n",
       "9   1.044751  \n",
       "10  1.329912  "
      ]
     },
     "execution_count": 173,
     "metadata": {},
     "output_type": "execute_result"
    }
   ],
   "source": [
    "trials.sort_values(by='Val accuracy', ascending=False)"
   ]
  },
  {
   "cell_type": "markdown",
   "id": "5662fdba",
   "metadata": {},
   "source": [
    "## Plotting Results"
   ]
  },
  {
   "cell_type": "code",
   "execution_count": 168,
   "id": "be96e81f",
   "metadata": {},
   "outputs": [],
   "source": [
    "# Accepts trials in question\n",
    "# Accepts deltaX and deltaY, positions for text box\n",
    "def train_test_plotter(trials, deltaX, deltaY):\n",
    "    plt.figure(figsize=(7,5), dpi=130)\n",
    "\n",
    "    # Plotting learning rates vs. training and test accuracy\n",
    "    plt.scatter(trials['Learning rate'], trials['Accuracy'], label='Training accuracy')\n",
    "    plt.scatter(trials['Learning rate'], trials['Val accuracy'], label='Val accuracy')\n",
    "\n",
    "    # Indexing observation with highest Test accuracy\n",
    "    index = trials['Val accuracy'].idxmax()\n",
    "\n",
    "    # Getting learning rate and test accuracy for highest test accuracy value\n",
    "    x1, y1 = trials.iloc[index,:]['Learning rate'], trials.iloc[index,:]['Val accuracy']\n",
    "\n",
    "    # Getting coordinates of highest test accuracy to be printed on graph\n",
    "    note = str(x1.round(5)) + ', \\n' + str(y1.round(5))\n",
    "\n",
    "    # Creating dict of arguments for arrow and box\n",
    "    arrow_dict = {'facecolor':'black', 'shrink':0.05, 'lw':0.05, 'width':0.5}\n",
    "    bbox_dict = {'boxstyle':'round,pad=0.2', 'fc':'lightgray', 'ec':'black', 'lw':0.5}\n",
    "\n",
    "    # Annotating arrow and note in box using arrow and box dictionariers\n",
    "    plt.annotate(note, xy=(x1,y1), xytext=(x1+deltaX, y1-deltaY), arrowprops=arrow_dict,\\\n",
    "                bbox=bbox_dict)\n",
    "\n",
    "    # Title and labels\n",
    "    plt.title('Accuracies vs. learning rates')\n",
    "    plt.xlabel('Learning rate')\n",
    "    plt.ylabel('Accuracy')\n",
    "    plt.legend()\n",
    "\n",
    "    plt.show()"
   ]
  },
  {
   "cell_type": "code",
   "execution_count": 169,
   "id": "9405f509",
   "metadata": {},
   "outputs": [
    {
     "data": {
      "image/png": "[encoded data removed]",
      "text/plain": [
       "<Figure size 910x650 with 1 Axes>"
      ]
     },
     "metadata": {
      "needs_background": "light"
     },
     "output_type": "display_data"
    }
   ],
   "source": [
    "train_test_plotter(trials, deltaX=0.005, deltaY=0.1)"
   ]
  },
  {
   "cell_type": "code",
   "execution_count": 130,
   "id": "fef501f6",
   "metadata": {},
   "outputs": [
    {
     "name": "stdout",
     "output_type": "stream",
     "text": [
      "WARNING:tensorflow:Detecting that an object or model or tf.train.Checkpoint is being deleted with unrestored values. See the following logs for the specific values in question. To silence these warnings, use `status.expect_partial()`. See https://www.tensorflow.org/api_docs/python/tf/train/Checkpoint#restorefor details about the status object returned by the restore function.\n",
      "WARNING:tensorflow:Value in checkpoint could not be found in the restored object: (root).optimizer.iter\n",
      "WARNING:tensorflow:Value in checkpoint could not be found in the restored object: (root).optimizer.beta_1\n",
      "WARNING:tensorflow:Value in checkpoint could not be found in the restored object: (root).optimizer.beta_2\n",
      "WARNING:tensorflow:Value in checkpoint could not be found in the restored object: (root).optimizer.decay\n",
      "WARNING:tensorflow:Value in checkpoint could not be found in the restored object: (root).optimizer.learning_rate\n"
     ]
    }
   ],
   "source": [
    "# Reloading best model from tuner\n",
    "first = tuner_1_copy.get_best_models(1)[0]"
   ]
  },
  {
   "cell_type": "code",
   "execution_count": 151,
   "id": "e3fccbbb",
   "metadata": {},
   "outputs": [
    {
     "data": {
      "text/plain": [
       "{'learning_rate': 0.0016034905008069655}"
      ]
     },
     "execution_count": 151,
     "metadata": {},
     "output_type": "execute_result"
    }
   ],
   "source": [
    "# Confirming learning rate\n",
    "first_hp = tuner_1_copy.get_best_hyperparameters(1)[0]\n",
    "first_hp.values"
   ]
  },
  {
   "cell_type": "code",
   "execution_count": 152,
   "id": "6b03a517",
   "metadata": {},
   "outputs": [
    {
     "name": "stdout",
     "output_type": "stream",
     "text": [
      "9/9 [==============================] - 3s 265ms/step\n",
      "\n",
      "\n",
      "                 Classification report\n",
      "\n",
      "\n",
      "              precision    recall  f1-score   support\n",
      "\n",
      "     Crazing       1.00      1.00      1.00        42\n",
      "  Inclusions       1.00      0.91      0.95        56\n",
      "     Patches       1.00      1.00      1.00        47\n",
      "      Pitted       0.84      1.00      0.92        38\n",
      "      Rolled       1.00      0.98      0.99        46\n",
      "   Scratches       0.95      0.93      0.94        41\n",
      "\n",
      "    accuracy                           0.97       270\n",
      "   macro avg       0.97      0.97      0.97       270\n",
      "weighted avg       0.97      0.97      0.97       270\n",
      "\n"
     ]
    },
    {
     "data": {
      "image/png": "[encoded data removed]",
      "text/plain": [
       "<Figure size 576x576 with 2 Axes>"
      ]
     },
     "metadata": {
      "needs_background": "light"
     },
     "output_type": "display_data"
    }
   ],
   "source": [
    "# Predicting on validation set\n",
    "predictor(first, X_val, y_val, print_report=True);"
   ]
  },
  {
   "cell_type": "markdown",
   "id": "30ef6b28",
   "metadata": {},
   "source": [
    "# 5.0 Standard Score Normalizing"
   ]
  },
  {
   "cell_type": "code",
   "execution_count": 118,
   "id": "b84fc275",
   "metadata": {},
   "outputs": [],
   "source": [
    "# X_train mean and st dev\n",
    "X_train_mean = np.mean(X_train)\n",
    "X_train_std = np.std(X_train)"
   ]
  },
  {
   "cell_type": "code",
   "execution_count": 119,
   "id": "f961a160",
   "metadata": {},
   "outputs": [],
   "source": [
    "# Function to standardize X sets using training mean and std dev\n",
    "def standardize(X):\n",
    "    return ((X - X_train_mean)/X_train_std)"
   ]
  },
  {
   "cell_type": "code",
   "execution_count": 120,
   "id": "faa16b52",
   "metadata": {},
   "outputs": [],
   "source": [
    "X_train_adj, X_test_adj, X_val_adj = standardize(X_train), standardize(X_test), standardize(X_val)"
   ]
  },
  {
   "cell_type": "code",
   "execution_count": 402,
   "id": "91817f3c",
   "metadata": {},
   "outputs": [
    {
     "data": {
      "text/plain": [
       "((1260, 200, 200, 1), (1260, 6))"
      ]
     },
     "execution_count": 402,
     "metadata": {},
     "output_type": "execute_result"
    }
   ],
   "source": [
    "# Confirming shapes\n",
    "X_train_adj.shape, y_train_adj.shape"
   ]
  },
  {
   "cell_type": "code",
   "execution_count": 403,
   "id": "5aeebd96",
   "metadata": {},
   "outputs": [
    {
     "data": {
      "text/plain": [
       "((270, 200, 200, 1), (270, 6))"
      ]
     },
     "execution_count": 403,
     "metadata": {},
     "output_type": "execute_result"
    }
   ],
   "source": [
    "# Confirming shapes\n",
    "X_val_adj.shape, y_val_adj.shape"
   ]
  },
  {
   "cell_type": "code",
   "execution_count": 413,
   "id": "6ec10c8e",
   "metadata": {},
   "outputs": [],
   "source": [
    "# New normalized model \n",
    "norm_cnn = create_model()"
   ]
  },
  {
   "cell_type": "code",
   "execution_count": 414,
   "id": "e5846fa4",
   "metadata": {
    "scrolled": false
   },
   "outputs": [
    {
     "name": "stdout",
     "output_type": "stream",
     "text": [
      "Epoch 1/12\n",
      "40/40 [==============================] - 55s 1s/step - loss: 1.2620 - accuracy: 0.4738 - val_loss: 0.9868 - val_accuracy: 0.6667\n",
      "Epoch 2/12\n",
      "40/40 [==============================] - 42s 1s/step - loss: 0.5966 - accuracy: 0.7690 - val_loss: 0.8733 - val_accuracy: 0.6852\n",
      "Epoch 3/12\n",
      "40/40 [==============================] - 40s 1s/step - loss: 0.3868 - accuracy: 0.8643 - val_loss: 0.2679 - val_accuracy: 0.8741\n",
      "Epoch 4/12\n",
      "40/40 [==============================] - 40s 992ms/step - loss: 0.2176 - accuracy: 0.9286 - val_loss: 0.1489 - val_accuracy: 0.9556\n",
      "Epoch 5/12\n",
      "40/40 [==============================] - 38s 962ms/step - loss: 0.3069 - accuracy: 0.9024 - val_loss: 0.3104 - val_accuracy: 0.8926\n",
      "Epoch 6/12\n",
      "40/40 [==============================] - 40s 997ms/step - loss: 0.1518 - accuracy: 0.9532 - val_loss: 0.4713 - val_accuracy: 0.8519\n",
      "Epoch 7/12\n",
      "40/40 [==============================] - 40s 998ms/step - loss: 0.2121 - accuracy: 0.9230 - val_loss: 0.1861 - val_accuracy: 0.9444\n",
      "Epoch 8/12\n",
      "40/40 [==============================] - 40s 1s/step - loss: 0.1108 - accuracy: 0.9651 - val_loss: 0.1459 - val_accuracy: 0.9333\n",
      "Epoch 9/12\n",
      "40/40 [==============================] - 41s 1s/step - loss: 0.0750 - accuracy: 0.9817 - val_loss: 0.1642 - val_accuracy: 0.9370\n",
      "Epoch 10/12\n",
      "40/40 [==============================] - 44s 1s/step - loss: 0.0980 - accuracy: 0.9754 - val_loss: 0.1168 - val_accuracy: 0.9481\n",
      "Epoch 11/12\n",
      "40/40 [==============================] - 42s 1s/step - loss: 0.0474 - accuracy: 0.9833 - val_loss: 0.1663 - val_accuracy: 0.9481\n",
      "Epoch 12/12\n",
      "40/40 [==============================] - 41s 1s/step - loss: 0.0647 - accuracy: 0.9794 - val_loss: 0.1216 - val_accuracy: 0.9519\n"
     ]
    }
   ],
   "source": [
    "# Training normalized CNN\n",
    "history_norm_cnn = train_model(norm_cnn, X_train_adj, y_train, X_val_adj, y_val,\\\n",
    "                               'norm_cnn/norm_cnn_checkpoint.h5', epochs=12, to_compile=True)"
   ]
  },
  {
   "cell_type": "code",
   "execution_count": 177,
   "id": "c4fa38b4",
   "metadata": {},
   "outputs": [],
   "source": [
    "X_adj_2 = standardize(X_train)"
   ]
  },
  {
   "cell_type": "code",
   "execution_count": 154,
   "id": "3d98e72f",
   "metadata": {},
   "outputs": [],
   "source": [
    "# Had to reload norm_cnn"
   ]
  },
  {
   "cell_type": "code",
   "execution_count": 122,
   "id": "5cbcfffe",
   "metadata": {},
   "outputs": [],
   "source": [
    "# Creating model\n",
    "norm_cnn = create_model()"
   ]
  },
  {
   "cell_type": "code",
   "execution_count": 124,
   "id": "5238d827",
   "metadata": {},
   "outputs": [],
   "source": [
    "# Loading weights\n",
    "norm_cnn.load_weights('/Users/chinmayasukumar/Documents/Capstone Projects/Capstone-3_Classifying_steel_defects/models/norm_cnn/norm_cnn_checkpoint.h5')"
   ]
  },
  {
   "cell_type": "code",
   "execution_count": 153,
   "id": "06260f45",
   "metadata": {},
   "outputs": [
    {
     "name": "stdout",
     "output_type": "stream",
     "text": [
      "9/9 [==============================] - 3s 332ms/step\n",
      "\n",
      "\n",
      "                 Classification report\n",
      "\n",
      "\n",
      "              precision    recall  f1-score   support\n",
      "\n",
      "     Crazing       1.00      1.00      1.00        42\n",
      "  Inclusions       1.00      0.98      0.99        56\n",
      "     Patches       0.98      1.00      0.99        47\n",
      "      Pitted       0.97      1.00      0.99        38\n",
      "      Rolled       1.00      1.00      1.00        46\n",
      "   Scratches       1.00      0.98      0.99        41\n",
      "\n",
      "    accuracy                           0.99       270\n",
      "   macro avg       0.99      0.99      0.99       270\n",
      "weighted avg       0.99      0.99      0.99       270\n",
      "\n"
     ]
    },
    {
     "data": {
      "image/png": "[encoded data removed]",
      "text/plain": [
       "<Figure size 576x576 with 2 Axes>"
      ]
     },
     "metadata": {
      "needs_background": "light"
     },
     "output_type": "display_data"
    }
   ],
   "source": [
    "# Results for testing on validation set\n",
    "predictor(norm_cnn, X_val_adj, y_val, print_report=True);"
   ]
  },
  {
   "cell_type": "markdown",
   "id": "ca55f4e5",
   "metadata": {},
   "source": [
    "# 6.0 Evaluating CNN on test set"
   ]
  },
  {
   "cell_type": "code",
   "execution_count": 325,
   "id": "5e05417d",
   "metadata": {},
   "outputs": [
    {
     "name": "stdout",
     "output_type": "stream",
     "text": [
      "9/9 [==============================] - 3s 275ms/step\n"
     ]
    }
   ],
   "source": [
    "y_pred = norm_cnn.predict(X_test_adj)"
   ]
  },
  {
   "cell_type": "code",
   "execution_count": 331,
   "id": "aeea69b0",
   "metadata": {},
   "outputs": [],
   "source": [
    "plt.rcdefaults()"
   ]
  },
  {
   "cell_type": "code",
   "execution_count": 333,
   "id": "73c05f19",
   "metadata": {},
   "outputs": [
    {
     "name": "stdout",
     "output_type": "stream",
     "text": [
      "\n",
      "\n",
      "                 Classification report\n",
      "\n",
      "\n",
      "              precision    recall  f1-score   support\n",
      "\n",
      "     Crazing       1.00      1.00      1.00        39\n",
      "     Patches       0.91      0.90      0.91        48\n",
      "      Pitted       1.00      1.00      1.00        41\n",
      "      Rolled       0.94      0.96      0.95        53\n",
      "  Inclusions       1.00      1.00      1.00        50\n",
      "   Scratches       0.95      0.95      0.95        39\n",
      "\n",
      "    accuracy                           0.97       270\n",
      "   macro avg       0.97      0.97      0.97       270\n",
      "weighted avg       0.97      0.97      0.97       270\n",
      "\n"
     ]
    },
    {
     "data": {
      "image/png": "[encoded data removed]",
      "text/plain": [
       "<Figure size 600x600 with 2 Axes>"
      ]
     },
     "metadata": {},
     "output_type": "display_data"
    }
   ],
   "source": [
    "# Gets classes in 1D array for predictions\n",
    "y_pred_classes = np.argmax(y_pred, axis=1)\n",
    "\n",
    "# Classes for test set \n",
    "y_test_classes = np.argmax(y_test, axis=1)\n",
    "\n",
    "results = confusion_matrix(y_test_classes, y_pred_classes)\n",
    "disp = ConfusionMatrixDisplay(results, display_labels=labels_)\n",
    "\n",
    "fig_, ax_ = plt.subplots(figsize=(6,6))\n",
    "disp.plot(xticks_rotation=45.0, cmap='Blues', ax=ax_)\n",
    "print('\\n')\n",
    "        \n",
    "# Prints classification report\n",
    "print('                 Classification report')\n",
    "        \n",
    "print('\\n')\n",
    "\n",
    "# zero_division=0.0 to prevent error\n",
    "print(classification_report(y_test_classes, y_pred_classes, target_names=labels_, zero_division=0.0))  "
   ]
  },
  {
   "cell_type": "code",
   "execution_count": 419,
   "id": "2e21c765",
   "metadata": {},
   "outputs": [],
   "source": [
    "# Saving final model\n",
    "# norm_cnn.save('/Users/chinmayasukumar/Documents/Springboard/Capstone 3 - Metal defect detection/models/norm_final_model.h5')"
   ]
  }
 ],
 "metadata": {
  "kernelspec": {
   "display_name": "Python 3 (ipykernel)",
   "language": "python",
   "name": "python3"
  },
  "language_info": {
   "codemirror_mode": {
    "name": "ipython",
    "version": 3
   },
   "file_extension": ".py",
   "mimetype": "text/x-python",
   "name": "python",
   "nbconvert_exporter": "python",
   "pygments_lexer": "ipython3",
   "version": "3.9.12"
  }
 },
 "nbformat": 4,
 "nbformat_minor": 5
}
