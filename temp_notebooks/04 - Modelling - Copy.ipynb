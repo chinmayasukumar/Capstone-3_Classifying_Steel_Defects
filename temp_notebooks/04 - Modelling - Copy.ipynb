{
 "cells": [
  {
   "cell_type": "code",
   "execution_count": 1,
   "id": "06b3b90a",
   "metadata": {},
   "outputs": [
    {
     "name": "stderr",
     "output_type": "stream",
     "text": [
      "2023-06-21 11:40:24.144252: I tensorflow/core/platform/cpu_feature_guard.cc:182] This TensorFlow binary is optimized to use available CPU instructions in performance-critical operations.\n",
      "To enable the following instructions: AVX2 FMA, in other operations, rebuild TensorFlow with the appropriate compiler flags.\n"
     ]
    }
   ],
   "source": [
    "import pandas as pd\n",
    "import numpy as np\n",
    "\n",
    "from tensorflow.keras import models, layers, regularizers\n",
    "from tensorflow.keras.optimizers import Adam\n",
    "from keras.callbacks import EarlyStopping\n",
    "from sklearn.model_selection import train_test_split, GridSearchCV\n",
    "\n",
    "from sklearn.metrics import classification_report, confusion_matrix, accuracy_score\n",
    "\n",
    "from keras.preprocessing.image import ImageDataGenerator"
   ]
  },
  {
   "cell_type": "code",
   "execution_count": 2,
   "id": "ec6a5849",
   "metadata": {},
   "outputs": [],
   "source": [
    "import matplotlib.pyplot as plt"
   ]
  },
  {
   "cell_type": "code",
   "execution_count": 3,
   "id": "79e1f7f5",
   "metadata": {},
   "outputs": [],
   "source": [
    "import shutil"
   ]
  },
  {
   "cell_type": "code",
   "execution_count": 4,
   "id": "d9fb97d2",
   "metadata": {},
   "outputs": [],
   "source": [
    "from tensorflow.keras.applications.resnet50 import ResNet50, preprocess_input\n",
    "from tensorflow.keras.preprocessing import image\n",
    "from tensorflow.keras.models import Model\n",
    "from tensorflow.keras.layers import Dense, GlobalAveragePooling2D, Input\n",
    "from tensorflow.keras.optimizers import Adam"
   ]
  },
  {
   "cell_type": "code",
   "execution_count": 5,
   "id": "248866bf",
   "metadata": {},
   "outputs": [],
   "source": [
    "import cv2"
   ]
  },
  {
   "cell_type": "code",
   "execution_count": 344,
   "id": "01ba2290",
   "metadata": {},
   "outputs": [],
   "source": [
    "import fast_ml"
   ]
  },
  {
   "cell_type": "code",
   "execution_count": 346,
   "id": "cbff6be7",
   "metadata": {},
   "outputs": [],
   "source": [
    "from fast_ml.model_development import train_valid_test_split"
   ]
  },
  {
   "cell_type": "code",
   "execution_count": 6,
   "id": "fd16b71c",
   "metadata": {},
   "outputs": [],
   "source": [
    "images = np.load('/Users/chinmayasukumar/Documents/Springboard/Capstone 3 - Metal defect detection/data/interim/images.npy')"
   ]
  },
  {
   "cell_type": "code",
   "execution_count": 7,
   "id": "a12a5c9b",
   "metadata": {},
   "outputs": [],
   "source": [
    "df = pd.read_csv('/Users/chinmayasukumar/Documents/Springboard/Capstone 3 - Metal defect detection/data/interim/data.csv')"
   ]
  },
  {
   "cell_type": "code",
   "execution_count": 8,
   "id": "78e2eef5",
   "metadata": {},
   "outputs": [],
   "source": [
    "df = pd.get_dummies(df, columns=['Type'])"
   ]
  },
  {
   "cell_type": "code",
   "execution_count": 9,
   "id": "035f07f7",
   "metadata": {},
   "outputs": [
    {
     "data": {
      "text/html": [
       "<div>\n",
       "<style scoped>\n",
       "    .dataframe tbody tr th:only-of-type {\n",
       "        vertical-align: middle;\n",
       "    }\n",
       "\n",
       "    .dataframe tbody tr th {\n",
       "        vertical-align: top;\n",
       "    }\n",
       "\n",
       "    .dataframe thead th {\n",
       "        text-align: right;\n",
       "    }\n",
       "</style>\n",
       "<table border=\"1\" class=\"dataframe\">\n",
       "  <thead>\n",
       "    <tr style=\"text-align: right;\">\n",
       "      <th></th>\n",
       "      <th>Filename</th>\n",
       "      <th>Number</th>\n",
       "      <th>Type_Crazing</th>\n",
       "      <th>Type_Inclusions</th>\n",
       "      <th>Type_Patches</th>\n",
       "      <th>Type_Pitted</th>\n",
       "      <th>Type_Rolled</th>\n",
       "      <th>Type_Scratches</th>\n",
       "    </tr>\n",
       "  </thead>\n",
       "  <tbody>\n",
       "    <tr>\n",
       "      <th>0</th>\n",
       "      <td>Cr_1.bmp</td>\n",
       "      <td>1</td>\n",
       "      <td>1</td>\n",
       "      <td>0</td>\n",
       "      <td>0</td>\n",
       "      <td>0</td>\n",
       "      <td>0</td>\n",
       "      <td>0</td>\n",
       "    </tr>\n",
       "    <tr>\n",
       "      <th>1</th>\n",
       "      <td>Cr_10.bmp</td>\n",
       "      <td>10</td>\n",
       "      <td>1</td>\n",
       "      <td>0</td>\n",
       "      <td>0</td>\n",
       "      <td>0</td>\n",
       "      <td>0</td>\n",
       "      <td>0</td>\n",
       "    </tr>\n",
       "    <tr>\n",
       "      <th>2</th>\n",
       "      <td>Cr_100.bmp</td>\n",
       "      <td>100</td>\n",
       "      <td>1</td>\n",
       "      <td>0</td>\n",
       "      <td>0</td>\n",
       "      <td>0</td>\n",
       "      <td>0</td>\n",
       "      <td>0</td>\n",
       "    </tr>\n",
       "    <tr>\n",
       "      <th>3</th>\n",
       "      <td>Cr_101.bmp</td>\n",
       "      <td>101</td>\n",
       "      <td>1</td>\n",
       "      <td>0</td>\n",
       "      <td>0</td>\n",
       "      <td>0</td>\n",
       "      <td>0</td>\n",
       "      <td>0</td>\n",
       "    </tr>\n",
       "    <tr>\n",
       "      <th>4</th>\n",
       "      <td>Cr_102.bmp</td>\n",
       "      <td>102</td>\n",
       "      <td>1</td>\n",
       "      <td>0</td>\n",
       "      <td>0</td>\n",
       "      <td>0</td>\n",
       "      <td>0</td>\n",
       "      <td>0</td>\n",
       "    </tr>\n",
       "  </tbody>\n",
       "</table>\n",
       "</div>"
      ],
      "text/plain": [
       "     Filename  Number  Type_Crazing  Type_Inclusions  Type_Patches  \\\n",
       "0    Cr_1.bmp       1             1                0             0   \n",
       "1   Cr_10.bmp      10             1                0             0   \n",
       "2  Cr_100.bmp     100             1                0             0   \n",
       "3  Cr_101.bmp     101             1                0             0   \n",
       "4  Cr_102.bmp     102             1                0             0   \n",
       "\n",
       "   Type_Pitted  Type_Rolled  Type_Scratches  \n",
       "0            0            0               0  \n",
       "1            0            0               0  \n",
       "2            0            0               0  \n",
       "3            0            0               0  \n",
       "4            0            0               0  "
      ]
     },
     "execution_count": 9,
     "metadata": {},
     "output_type": "execute_result"
    }
   ],
   "source": [
    "df.head()"
   ]
  },
  {
   "cell_type": "code",
   "execution_count": 12,
   "id": "f43115ad",
   "metadata": {},
   "outputs": [],
   "source": [
    "labels = df.iloc[:,2:]"
   ]
  },
  {
   "cell_type": "code",
   "execution_count": 13,
   "id": "bcdf2f7f",
   "metadata": {},
   "outputs": [
    {
     "data": {
      "text/plain": [
       "(1800, 6)"
      ]
     },
     "execution_count": 13,
     "metadata": {},
     "output_type": "execute_result"
    }
   ],
   "source": [
    "labels.shape"
   ]
  },
  {
   "cell_type": "code",
   "execution_count": 14,
   "id": "339cab5b",
   "metadata": {},
   "outputs": [
    {
     "data": {
      "text/plain": [
       "(1800, 6)"
      ]
     },
     "execution_count": 14,
     "metadata": {},
     "output_type": "execute_result"
    }
   ],
   "source": [
    "labels = np.array(labels)\n",
    "labels.shape"
   ]
  },
  {
   "cell_type": "code",
   "execution_count": 15,
   "id": "39e69d69",
   "metadata": {},
   "outputs": [
    {
     "data": {
      "text/plain": [
       "(1800, 200, 200)"
      ]
     },
     "execution_count": 15,
     "metadata": {},
     "output_type": "execute_result"
    }
   ],
   "source": [
    "images.shape"
   ]
  },
  {
   "cell_type": "markdown",
   "id": "31b9b913",
   "metadata": {},
   "source": [
    "## 2.0 Model selection"
   ]
  },
  {
   "cell_type": "code",
   "execution_count": 16,
   "id": "853f63c8",
   "metadata": {},
   "outputs": [],
   "source": [
    "# Reshape images from (1800, 200, 200) to (1800, 200, 200, 1)\n",
    "\n",
    "images = images.reshape(-1,200,200,1)"
   ]
  },
  {
   "cell_type": "code",
   "execution_count": 17,
   "id": "b4e304ae",
   "metadata": {},
   "outputs": [],
   "source": [
    "# Splitting into train and (test, valid) sets to be split further\n",
    "\n",
    "X_train, X_test_val, y_train, y_test_val = train_test_split(images, labels, test_size=0.3, random_state=142)\n",
    "\n",
    "# Splitting (test, valid) set into seperate test and valid sets\n",
    "\n",
    "X_test, X_val, y_test, y_val = train_test_split(X_test_val, y_test_val, test_size=0.5, random_state=142)"
   ]
  },
  {
   "cell_type": "code",
   "execution_count": 18,
   "id": "71bdb56b",
   "metadata": {},
   "outputs": [
    {
     "data": {
      "text/plain": [
       "((1260, 200, 200, 1), (270, 200, 200, 1), (270, 200, 200, 1))"
      ]
     },
     "execution_count": 18,
     "metadata": {},
     "output_type": "execute_result"
    }
   ],
   "source": [
    "(X_train.shape, X_test.shape, X_val.shape)"
   ]
  },
  {
   "cell_type": "code",
   "execution_count": 19,
   "id": "c2ab3c0b",
   "metadata": {},
   "outputs": [
    {
     "data": {
      "text/plain": [
       "((1260, 6), (270, 6), (270, 6))"
      ]
     },
     "execution_count": 19,
     "metadata": {},
     "output_type": "execute_result"
    }
   ],
   "source": [
    "(y_train.shape, y_test.shape, y_val.shape)"
   ]
  },
  {
   "cell_type": "markdown",
   "id": "fbb355ca",
   "metadata": {},
   "source": [
    "## 2.1 ResNet"
   ]
  },
  {
   "cell_type": "code",
   "execution_count": 124,
   "id": "fe085cae",
   "metadata": {},
   "outputs": [],
   "source": [
    "resnet_model = ResNet50(weights='imagenet', include_top=False, input_tensor=Input(shape=(200, 200, 3)))"
   ]
  },
  {
   "cell_type": "markdown",
   "id": "a5731014",
   "metadata": {},
   "source": [
    "#### Making grayscale RGB"
   ]
  },
  {
   "cell_type": "code",
   "execution_count": 37,
   "id": "89973da2",
   "metadata": {},
   "outputs": [],
   "source": [
    "X_train_rgb = np.repeat(X_train[..., np.newaxis], 3, -1)\n",
    "X_test_rgb = np.repeat(X_test[..., np.newaxis], 3, -1)\n",
    "\n",
    "X_train_rgb = np.squeeze(X_train_rgb, axis=3)\n",
    "X_test_rgb = np.squeeze(X_test_rgb, axis=3)"
   ]
  },
  {
   "cell_type": "code",
   "execution_count": 38,
   "id": "3b4e5208",
   "metadata": {},
   "outputs": [
    {
     "name": "stdout",
     "output_type": "stream",
     "text": [
      "Epoch 1/6\n",
      "45/45 [==============================] - 160s 3s/step - loss: 1.8102 - accuracy: 0.1653 - val_loss: 1.7865 - val_accuracy: 0.1417\n",
      "Epoch 2/6\n",
      "45/45 [==============================] - 152s 3s/step - loss: 1.7836 - accuracy: 0.1972 - val_loss: 1.7539 - val_accuracy: 0.1944\n",
      "Epoch 3/6\n",
      "45/45 [==============================] - 136s 3s/step - loss: 1.7674 - accuracy: 0.2632 - val_loss: 1.7712 - val_accuracy: 0.2917\n",
      "Epoch 4/6\n",
      "45/45 [==============================] - 154s 3s/step - loss: 1.7522 - accuracy: 0.2493 - val_loss: 1.7012 - val_accuracy: 0.3806\n",
      "Epoch 5/6\n",
      "45/45 [==============================] - 165s 4s/step - loss: 1.7297 - accuracy: 0.3215 - val_loss: 1.6878 - val_accuracy: 0.2944\n",
      "Epoch 6/6\n",
      "45/45 [==============================] - 151s 3s/step - loss: 1.7017 - accuracy: 0.2562 - val_loss: 1.6857 - val_accuracy: 0.2389\n"
     ]
    },
    {
     "data": {
      "text/plain": [
       "<keras.callbacks.History at 0x7fbb8b7397c0>"
      ]
     },
     "execution_count": 38,
     "metadata": {},
     "output_type": "execute_result"
    }
   ],
   "source": [
    "x = layers.GlobalAveragePooling2D()(resnet_model.output)\n",
    "\n",
    "output = layers.Dense(6, activation='softmax')(x)\n",
    "\n",
    "model = Model(inputs=resnet_model.input, outputs=output)\n",
    "\n",
    "for layer in resnet_model.layers:\n",
    "    layer.trainable = False\n",
    "\n",
    "model.compile(optimizer=Adam(), loss='categorical_crossentropy', metrics=['accuracy'])\n",
    "\n",
    "model.fit(X_train_rgb, y_train, epochs=6, batch_size=32, validation_data=(X_test_rgb, y_test))"
   ]
  },
  {
   "cell_type": "markdown",
   "id": "6de99119",
   "metadata": {},
   "source": [
    "## 2.2 CNN"
   ]
  },
  {
   "cell_type": "code",
   "execution_count": 20,
   "id": "36ab003d",
   "metadata": {},
   "outputs": [],
   "source": [
    "def create_model():    \n",
    "    model = models.Sequential([\n",
    "        layers.Conv2D(32, (3, 3), activation='relu', input_shape=(200,200,1)),\n",
    "        layers.MaxPooling2D((2, 2)),\n",
    "        layers.Conv2D(64, (3, 3), activation='relu'),\n",
    "        layers.MaxPooling2D((2, 2)),\n",
    "        layers.Conv2D(64, (3, 3), activation='relu'),\n",
    "        layers.MaxPooling2D((2, 2)),\n",
    "        layers.Flatten(),\n",
    "        layers.Dense(64, activation='relu'),\n",
    "        layers.Dense(6, activation='softmax')\n",
    "    ])\n",
    "    \n",
    "    return model"
   ]
  },
  {
   "cell_type": "code",
   "execution_count": 21,
   "id": "0b800097",
   "metadata": {},
   "outputs": [],
   "source": [
    "def train_model(model, X_train, X_test):\n",
    "    model.compile(optimizer=Adam(), loss='categorical_crossentropy', metrics=['accuracy'])\n",
    "    history = model.fit(X_train, y_train, epochs=15, validation_data=(X_val, y_val),\\\n",
    "                                callbacks=[EarlyStopping(patience=4, restore_best_weights=True)])\n",
    "    return history"
   ]
  },
  {
   "cell_type": "code",
   "execution_count": 22,
   "id": "7451b029",
   "metadata": {},
   "outputs": [],
   "source": [
    "base_cnn = create_model()"
   ]
  },
  {
   "cell_type": "code",
   "execution_count": 23,
   "id": "2e076a77",
   "metadata": {},
   "outputs": [
    {
     "name": "stdout",
     "output_type": "stream",
     "text": [
      "Epoch 1/15\n",
      "40/40 [==============================] - 84s 2s/step - loss: 1.7939 - accuracy: 0.2127 - val_loss: 1.6118 - val_accuracy: 0.3815\n",
      "Epoch 2/15\n",
      "40/40 [==============================] - 53s 1s/step - loss: 1.3319 - accuracy: 0.4690 - val_loss: 0.7913 - val_accuracy: 0.7556\n",
      "Epoch 3/15\n",
      "40/40 [==============================] - 51s 1s/step - loss: 0.6831 - accuracy: 0.7405 - val_loss: 0.3708 - val_accuracy: 0.8667\n",
      "Epoch 4/15\n",
      "40/40 [==============================] - 45s 1s/step - loss: 0.4787 - accuracy: 0.8143 - val_loss: 0.2653 - val_accuracy: 0.9000\n",
      "Epoch 5/15\n",
      "40/40 [==============================] - 50s 1s/step - loss: 0.3046 - accuracy: 0.8825 - val_loss: 0.2997 - val_accuracy: 0.9037\n",
      "Epoch 6/15\n",
      "40/40 [==============================] - 50s 1s/step - loss: 0.2960 - accuracy: 0.8897 - val_loss: 1.4106 - val_accuracy: 0.5185\n",
      "Epoch 7/15\n",
      "40/40 [==============================] - 46s 1s/step - loss: 0.3853 - accuracy: 0.8683 - val_loss: 0.1790 - val_accuracy: 0.9370\n",
      "Epoch 8/15\n",
      "40/40 [==============================] - 45s 1s/step - loss: 0.2126 - accuracy: 0.9254 - val_loss: 0.2068 - val_accuracy: 0.9185\n",
      "Epoch 9/15\n",
      "40/40 [==============================] - 40s 985ms/step - loss: 0.1778 - accuracy: 0.9389 - val_loss: 0.1409 - val_accuracy: 0.9630\n",
      "Epoch 10/15\n",
      "40/40 [==============================] - 41s 1s/step - loss: 0.1762 - accuracy: 0.9389 - val_loss: 0.1092 - val_accuracy: 0.9741\n",
      "Epoch 11/15\n",
      "40/40 [==============================] - 38s 944ms/step - loss: 0.1174 - accuracy: 0.9675 - val_loss: 0.0782 - val_accuracy: 0.9815\n",
      "Epoch 12/15\n",
      "40/40 [==============================] - 48s 1s/step - loss: 0.1009 - accuracy: 0.9667 - val_loss: 0.1546 - val_accuracy: 0.9407\n",
      "Epoch 13/15\n",
      "40/40 [==============================] - 70s 2s/step - loss: 0.1744 - accuracy: 0.9437 - val_loss: 0.1776 - val_accuracy: 0.9370\n",
      "Epoch 14/15\n",
      "40/40 [==============================] - 73s 2s/step - loss: 0.1894 - accuracy: 0.9397 - val_loss: 0.1618 - val_accuracy: 0.9444\n",
      "Epoch 15/15\n",
      "40/40 [==============================] - 81s 2s/step - loss: 0.1500 - accuracy: 0.9532 - val_loss: 0.0951 - val_accuracy: 0.9704\n"
     ]
    }
   ],
   "source": [
    "hist_base_cnn = train_model(base_cnn, X_train, y_train)"
   ]
  },
  {
   "cell_type": "code",
   "execution_count": 129,
   "id": "3a87c058",
   "metadata": {},
   "outputs": [
    {
     "name": "stdout",
     "output_type": "stream",
     "text": [
      "12/12 [==============================] - 3s 224ms/step\n"
     ]
    }
   ],
   "source": [
    "y_pred_cnn_base = base_cnn.predict(X_valid)"
   ]
  },
  {
   "cell_type": "code",
   "execution_count": 140,
   "id": "b3d5ae49",
   "metadata": {},
   "outputs": [],
   "source": [
    "y_pred_classes_cnn_base = np.argmax(y_pred_cnn_base, axis=1)"
   ]
  },
  {
   "cell_type": "code",
   "execution_count": 141,
   "id": "2b9fcb84",
   "metadata": {},
   "outputs": [],
   "source": [
    "y_valid_classes = np.argmax(y_valid, axis=1)"
   ]
  },
  {
   "cell_type": "code",
   "execution_count": 142,
   "id": "1c62a6e9",
   "metadata": {},
   "outputs": [
    {
     "name": "stdout",
     "output_type": "stream",
     "text": [
      "[[53  0  0  0  0  0]\n",
      " [ 0 74  0  0  0  0]\n",
      " [ 0  0 54  1  0  0]\n",
      " [ 0  5  0 45  0  0]\n",
      " [ 0  0  0  0 68  0]\n",
      " [ 0  6  0  3  0 51]]\n"
     ]
    }
   ],
   "source": [
    "print(confusion_matrix(y_valid_classes_cnn_base, y_pred_classes))"
   ]
  },
  {
   "cell_type": "code",
   "execution_count": 145,
   "id": "1d9e8446",
   "metadata": {},
   "outputs": [
    {
     "name": "stdout",
     "output_type": "stream",
     "text": [
      "              precision    recall  f1-score   support\n",
      "\n",
      "     Crazing       1.00      1.00      1.00        53\n",
      "  Inclusions       0.90      0.99      0.94        74\n",
      "     Patches       1.00      0.93      0.96        55\n",
      "      Pitted       0.81      0.96      0.88        50\n",
      "      Rolled       0.99      0.99      0.99        68\n",
      "   Scratches       1.00      0.80      0.89        60\n",
      "\n",
      "    accuracy                           0.94       360\n",
      "   macro avg       0.95      0.94      0.94       360\n",
      "weighted avg       0.95      0.94      0.94       360\n",
      "\n"
     ]
    }
   ],
   "source": [
    "labels = labels=['Crazing', 'Inclusions', 'Patches', 'Pitted', 'Rolled', 'Scratches']\n",
    "print(classification_report(y_valid_classes, y_pred_classes_cnn_base, target_names=labels))"
   ]
  },
  {
   "cell_type": "markdown",
   "id": "303b0df0",
   "metadata": {},
   "source": [
    "#### Inclusions, Patches, Pits and Scratches aren't classified properly"
   ]
  },
  {
   "cell_type": "code",
   "execution_count": 146,
   "id": "2b67a768",
   "metadata": {
    "scrolled": true
   },
   "outputs": [],
   "source": [
    "def grapher(history, title):\n",
    "    fig, (ax1, ax2) = plt.subplots(1, 2, figsize=(12, 4))  # 1 row, 2 columns\n",
    "\n",
    "    fig.suptitle(title, fontsize=16)\n",
    "\n",
    "    ax1.plot(history_base_cnn.history['accuracy'])\n",
    "    ax1.plot(history_base_cnn.history['val_accuracy'])\n",
    "    ax1.set_title('Model accuracy')\n",
    "    ax1.set_ylabel('Accuracy')\n",
    "    ax1.set_xlabel('Epoch')\n",
    "    ax1.legend(['Train', 'Test'], loc='upper left')\n",
    "\n",
    "    ax2.plot(history_base_cnn.history['loss'])\n",
    "    ax2.plot(history_base_cnn.history['val_loss'])\n",
    "    ax2.set_title('Model loss')\n",
    "    ax2.set_ylabel('Loss')\n",
    "    ax2.set_xlabel('Epoch')\n",
    "    ax2.legend(['Train', 'Test'], loc='upper right')\n",
    "\n",
    "    plt.tight_layout()\n",
    "    plt.show()"
   ]
  },
  {
   "cell_type": "code",
   "execution_count": 147,
   "id": "732b4e10",
   "metadata": {},
   "outputs": [
    {
     "data": {
      "image/png": "[encoded data removed]",
      "text/plain": [
       "<Figure size 864x288 with 2 Axes>"
      ]
     },
     "metadata": {
      "needs_background": "light"
     },
     "output_type": "display_data"
    }
   ],
   "source": [
    "grapher(history_base_cnn, 'Base CNN Training progress')"
   ]
  },
  {
   "cell_type": "markdown",
   "id": "77c865d0",
   "metadata": {},
   "source": [
    "#### Model is tuned quite well, no need to change hyperparameters"
   ]
  },
  {
   "cell_type": "markdown",
   "id": "4715be1f",
   "metadata": {},
   "source": [
    "#### Classes Crazing, Pitted and Scratches don't have very good f1-scores"
   ]
  },
  {
   "cell_type": "markdown",
   "id": "9e3da526",
   "metadata": {},
   "source": [
    "## 3.0 Hyperparameter tuning"
   ]
  },
  {
   "cell_type": "code",
   "execution_count": 400,
   "id": "b8a9cd9e",
   "metadata": {},
   "outputs": [],
   "source": [
    "# lr, dropout before last layer, SGD (grid search), reshuffle see if same, random seed, different (copy) notebook, still show even if tuning isworse"
   ]
  },
  {
   "cell_type": "code",
   "execution_count": 2,
   "id": "f1911d90",
   "metadata": {},
   "outputs": [],
   "source": [
    "# learning_rate:(0,0001, 00)\n",
    "# optimizers: (Adam,SGD)\n",
    "# dropout rate: (0, 0.5)\n",
    "\n",
    "def create_model(hp):\n",
    "    model = keras.Sequential()\n",
    "    model.add(layers.Conv2D(32, (3, 3), activation='relu', input_shape=(200, 200, 1)))\n",
    "    model.add(layers.MaxPooling2D((2, 2)))\n",
    "    model.add(layers.Conv2D(64, (3, 3), activation='relu'))\n",
    "    model.add(layers.MaxPooling2D((2, 2)))\n",
    "    model.add(layers.Conv2D(64, (3, 3), activation='relu'))\n",
    "    model.add(layers.MaxPooling2D((2, 2)))\n",
    "    model.add(layers.Flatten())\n",
    "    model.add(layers.Dense(64, activation='relu'))\n",
    "    model.add(layers.Dropout(hp.Float('dropout_rate', 0, 0.2, step=0.1, default=0.0)))\n",
    "    model.add(layers.Dense(6, activation='softmax'))\n",
    "\n",
    "    optimizer = hp.Choice('optimizer', ['adam', 'sgd'])\n",
    "    learning_rate = hp.Float('learning_rate', 0.0001, 0.01, sampling='log', default=0.001)\n",
    "\n",
    "    if optimizer == 'adam':\n",
    "        model.compile(optimizer=keras.optimizers.Adam(learning_rate), loss='categorical_crossentropy',\\\n",
    "                    metrics=['accuracy'])\n",
    "    else:\n",
    "        model.compile( optimizer=keras.optimizers.SGD(learning_rate),loss='categorical_crossentropy',\\\n",
    "            metrics=['accuracy'])\n",
    "\n",
    "    return model"
   ]
  },
  {
   "cell_type": "code",
   "execution_count": 5,
   "id": "f15858fd",
   "metadata": {},
   "outputs": [
    {
     "ename": "NameError",
     "evalue": "name 'RandomSearch' is not defined",
     "output_type": "error",
     "traceback": [
      "\u001b[0;31m---------------------------------------------------------------------------\u001b[0m",
      "\u001b[0;31mNameError\u001b[0m                                 Traceback (most recent call last)",
      "Input \u001b[0;32mIn [5]\u001b[0m, in \u001b[0;36m<cell line: 3>\u001b[0;34m()\u001b[0m\n\u001b[1;32m      1\u001b[0m shutil\u001b[38;5;241m.\u001b[39mrmtree(\u001b[38;5;124m'\u001b[39m\u001b[38;5;124mmy_tuner_directory\u001b[39m\u001b[38;5;124m'\u001b[39m, ignore_errors\u001b[38;5;241m=\u001b[39m\u001b[38;5;28;01mTrue\u001b[39;00m)\n\u001b[0;32m----> 3\u001b[0m tuner \u001b[38;5;241m=\u001b[39m \u001b[43mRandomSearch\u001b[49m(create_model, objective\u001b[38;5;241m=\u001b[39m\u001b[38;5;124m'\u001b[39m\u001b[38;5;124mval_accuracy\u001b[39m\u001b[38;5;124m'\u001b[39m, max_trials\u001b[38;5;241m=\u001b[39m\u001b[38;5;241m10\u001b[39m, executions_per_trial\u001b[38;5;241m=\u001b[39m\u001b[38;5;241m1\u001b[39m, \\\n\u001b[1;32m      4\u001b[0m                      directory\u001b[38;5;241m=\u001b[39m\u001b[38;5;124m'\u001b[39m\u001b[38;5;124mmy_tuner_directory\u001b[39m\u001b[38;5;124m'\u001b[39m, project_name\u001b[38;5;241m=\u001b[39m\u001b[38;5;124m'\u001b[39m\u001b[38;5;124mimage_classification\u001b[39m\u001b[38;5;124m'\u001b[39m)\n",
      "\u001b[0;31mNameError\u001b[0m: name 'RandomSearch' is not defined"
     ]
    }
   ],
   "source": [
    "shutil.rmtree('my_tuner_directory', ignore_errors=True)\n",
    "\n",
    "tuner = RandomSearch(create_model, objective='val_accuracy', max_trials=10, executions_per_trial=1, \\\n",
    "                     directory='my_tuner_directory', project_name='image_classification')"
   ]
  },
  {
   "cell_type": "code",
   "execution_count": null,
   "id": "0cd6d95d",
   "metadata": {},
   "outputs": [],
   "source": [
    "tuner.search_space_summary()\n",
    "\n",
    "tuner.search(X_train, y_train, validation_split=0.2, epochs=10, batch_size=16)\n",
    "\n",
    "best_model = tuner.get_best_models(1)[0]\n",
    "best_hyperparameters = tuner.get_best_hyperparameters(1)[0]"
   ]
  },
  {
   "cell_type": "markdown",
   "id": "e47736f8",
   "metadata": {},
   "source": [
    "## 4.0 Tuning"
   ]
  },
  {
   "cell_type": "markdown",
   "id": "a813cec6",
   "metadata": {},
   "source": [
    "### Standard Score Normalizing\n"
   ]
  },
  {
   "cell_type": "code",
   "execution_count": 291,
   "id": "5aad4689",
   "metadata": {},
   "outputs": [],
   "source": [
    "mean = np.mean(X)\n",
    "std = np.std(X)\n",
    "\n",
    "X_adj = (X - mean)/std"
   ]
  },
  {
   "cell_type": "code",
   "execution_count": 296,
   "id": "4d365879",
   "metadata": {},
   "outputs": [],
   "source": [
    "X_train_adj, X_test_adj, y_train, y_test = train_test_split(X_adj, y, test_size=0.2)"
   ]
  },
  {
   "cell_type": "code",
   "execution_count": 301,
   "id": "64b2d562",
   "metadata": {},
   "outputs": [],
   "source": [
    "norm_cnn = create_model()"
   ]
  },
  {
   "cell_type": "code",
   "execution_count": 302,
   "id": "6066a5b8",
   "metadata": {},
   "outputs": [],
   "source": [
    "norm_cnn.compile(optimizer=Adam(), loss='categorical_crossentropy', metrics=['accuracy'])"
   ]
  },
  {
   "cell_type": "code",
   "execution_count": 303,
   "id": "9700c29b",
   "metadata": {
    "scrolled": true
   },
   "outputs": [
    {
     "name": "stdout",
     "output_type": "stream",
     "text": [
      "Epoch 1/15\n",
      "45/45 [==============================] - 48s 1s/step - loss: 1.2592 - accuracy: 0.4785 - val_loss: 0.8253 - val_accuracy: 0.7250\n",
      "Epoch 2/15\n",
      "45/45 [==============================] - 51s 1s/step - loss: 0.5069 - accuracy: 0.8167 - val_loss: 0.4807 - val_accuracy: 0.8222\n",
      "Epoch 3/15\n",
      "45/45 [==============================] - 48s 1s/step - loss: 0.3743 - accuracy: 0.8618 - val_loss: 0.2978 - val_accuracy: 0.8722\n",
      "Epoch 4/15\n",
      "45/45 [==============================] - 46s 1s/step - loss: 0.1989 - accuracy: 0.9312 - val_loss: 0.2514 - val_accuracy: 0.9167\n",
      "Epoch 5/15\n",
      "45/45 [==============================] - 47s 1s/step - loss: 0.1507 - accuracy: 0.9521 - val_loss: 0.1604 - val_accuracy: 0.9528\n",
      "Epoch 6/15\n",
      "45/45 [==============================] - 49s 1s/step - loss: 0.1105 - accuracy: 0.9625 - val_loss: 0.2237 - val_accuracy: 0.9222\n",
      "Epoch 7/15\n",
      "45/45 [==============================] - 48s 1s/step - loss: 0.1090 - accuracy: 0.9667 - val_loss: 0.2943 - val_accuracy: 0.8833\n",
      "Epoch 8/15\n",
      "45/45 [==============================] - 47s 1s/step - loss: 0.1140 - accuracy: 0.9653 - val_loss: 0.1564 - val_accuracy: 0.9472\n",
      "Epoch 9/15\n",
      "45/45 [==============================] - 47s 1s/step - loss: 0.0730 - accuracy: 0.9764 - val_loss: 0.1541 - val_accuracy: 0.9556\n",
      "Epoch 10/15\n",
      "45/45 [==============================] - 63s 1s/step - loss: 0.1312 - accuracy: 0.9535 - val_loss: 0.2191 - val_accuracy: 0.9083\n",
      "Epoch 11/15\n",
      "45/45 [==============================] - 65s 1s/step - loss: 0.0656 - accuracy: 0.9778 - val_loss: 0.1265 - val_accuracy: 0.9556\n",
      "Epoch 12/15\n",
      "45/45 [==============================] - 57s 1s/step - loss: 0.0468 - accuracy: 0.9882 - val_loss: 0.1231 - val_accuracy: 0.9528\n",
      "Epoch 13/15\n",
      "45/45 [==============================] - 64s 1s/step - loss: 0.0717 - accuracy: 0.9771 - val_loss: 0.2563 - val_accuracy: 0.9278\n",
      "Epoch 14/15\n",
      "45/45 [==============================] - 47s 1s/step - loss: 0.0521 - accuracy: 0.9854 - val_loss: 0.1137 - val_accuracy: 0.9611\n",
      "Epoch 15/15\n",
      "45/45 [==============================] - 47s 1s/step - loss: 0.0262 - accuracy: 0.9944 - val_loss: 0.1270 - val_accuracy: 0.9500\n"
     ]
    }
   ],
   "source": [
    "callback = EarlyStopping()\n",
    "history_norm_cnn = norm_cnn.fit(X_train_adj, y_train, epochs=15, validation_data=(X_test_adj, y_test),\\\n",
    "                                callbacks=[callback])"
   ]
  },
  {
   "cell_type": "markdown",
   "id": "e70bca7d",
   "metadata": {},
   "source": [
    "### CNN Rotation - 15"
   ]
  },
  {
   "cell_type": "code",
   "execution_count": 339,
   "id": "d0e9d1d2",
   "metadata": {},
   "outputs": [],
   "source": [
    "cnn_15 = create_model()"
   ]
  },
  {
   "cell_type": "code",
   "execution_count": 340,
   "id": "1a56505b",
   "metadata": {
    "scrolled": true
   },
   "outputs": [
    {
     "name": "stdout",
     "output_type": "stream",
     "text": [
      "Epoch 1/15\n"
     ]
    },
    {
     "name": "stderr",
     "output_type": "stream",
     "text": [
      "2023-06-14 13:14:03.009635: I tensorflow/core/common_runtime/executor.cc:1197] [/device:CPU:0] (DEBUG INFO) Executor start aborting (this does not indicate an error and you can ignore this message): INVALID_ARGUMENT: You must feed a value for placeholder tensor 'Placeholder/_0' with dtype int32\n",
      "\t [[{{node Placeholder/_0}}]]\n"
     ]
    },
    {
     "name": "stdout",
     "output_type": "stream",
     "text": [
      "40/40 [==============================] - 46s 1s/step - loss: 1.7548 - accuracy: 0.2103 - val_loss: 1.5722 - val_accuracy: 0.2852\n",
      "Epoch 2/15\n",
      "40/40 [==============================] - 45s 1s/step - loss: 1.4192 - accuracy: 0.4262 - val_loss: 1.1135 - val_accuracy: 0.5037\n",
      "Epoch 3/15\n",
      "40/40 [==============================] - 45s 1s/step - loss: 0.8304 - accuracy: 0.7167 - val_loss: 0.7422 - val_accuracy: 0.7259\n",
      "Epoch 4/15\n",
      "40/40 [==============================] - 45s 1s/step - loss: 0.6297 - accuracy: 0.7714 - val_loss: 0.8211 - val_accuracy: 0.7074\n",
      "Epoch 5/15\n",
      "40/40 [==============================] - 44s 1s/step - loss: 0.4017 - accuracy: 0.8595 - val_loss: 0.7751 - val_accuracy: 0.7259\n",
      "Epoch 6/15\n",
      "40/40 [==============================] - 45s 1s/step - loss: 0.2754 - accuracy: 0.9087 - val_loss: 1.1547 - val_accuracy: 0.6000\n",
      "Epoch 7/15\n",
      "40/40 [==============================] - 45s 1s/step - loss: 0.2578 - accuracy: 0.9095 - val_loss: 0.2928 - val_accuracy: 0.8778\n",
      "Epoch 8/15\n",
      "40/40 [==============================] - 44s 1s/step - loss: 0.8356 - accuracy: 0.7683 - val_loss: 0.7213 - val_accuracy: 0.7963\n",
      "Epoch 9/15\n",
      "40/40 [==============================] - 46s 1s/step - loss: 0.4746 - accuracy: 0.8635 - val_loss: 0.3315 - val_accuracy: 0.8833\n",
      "Epoch 10/15\n",
      "40/40 [==============================] - 44s 1s/step - loss: 0.2327 - accuracy: 0.9349 - val_loss: 0.3620 - val_accuracy: 0.8685\n",
      "Epoch 11/15\n",
      "40/40 [==============================] - 44s 1s/step - loss: 0.1461 - accuracy: 0.9611 - val_loss: 0.3699 - val_accuracy: 0.8593\n",
      "Epoch 12/15\n",
      "40/40 [==============================] - 45s 1s/step - loss: 0.1402 - accuracy: 0.9540 - val_loss: 0.2413 - val_accuracy: 0.9093\n",
      "Epoch 13/15\n",
      "40/40 [==============================] - 43s 1s/step - loss: 0.1107 - accuracy: 0.9667 - val_loss: 0.6126 - val_accuracy: 0.7963\n",
      "Epoch 14/15\n",
      "39/40 [============================>.] - ETA: 1s - loss: 0.2136 - accuracy: 0.9292"
     ]
    },
    {
     "ename": "KeyboardInterrupt",
     "evalue": "",
     "output_type": "error",
     "traceback": [
      "\u001b[0;31m---------------------------------------------------------------------------\u001b[0m",
      "\u001b[0;31mKeyboardInterrupt\u001b[0m                         Traceback (most recent call last)",
      "Input \u001b[0;32mIn [340]\u001b[0m, in \u001b[0;36m<cell line: 6>\u001b[0;34m()\u001b[0m\n\u001b[1;32m      3\u001b[0m datagen\u001b[38;5;241m.\u001b[39mfit(X_train)\n\u001b[1;32m      4\u001b[0m cnn_15\u001b[38;5;241m.\u001b[39mcompile(loss\u001b[38;5;241m=\u001b[39m\u001b[38;5;124m'\u001b[39m\u001b[38;5;124mcategorical_crossentropy\u001b[39m\u001b[38;5;124m'\u001b[39m, optimizer\u001b[38;5;241m=\u001b[39mAdam(), metrics\u001b[38;5;241m=\u001b[39m[\u001b[38;5;124m'\u001b[39m\u001b[38;5;124maccuracy\u001b[39m\u001b[38;5;124m'\u001b[39m])\n\u001b[0;32m----> 6\u001b[0m history_cnn_15 \u001b[38;5;241m=\u001b[39m \u001b[43mcnn_15\u001b[49m\u001b[38;5;241;43m.\u001b[39;49m\u001b[43mfit\u001b[49m\u001b[43m(\u001b[49m\u001b[43mdatagen\u001b[49m\u001b[38;5;241;43m.\u001b[39;49m\u001b[43mflow\u001b[49m\u001b[43m(\u001b[49m\u001b[43mX_train\u001b[49m\u001b[43m,\u001b[49m\u001b[43m \u001b[49m\u001b[43my_train\u001b[49m\u001b[43m)\u001b[49m\u001b[43m,\u001b[49m\u001b[43m \u001b[49m\u001b[43mepochs\u001b[49m\u001b[38;5;241;43m=\u001b[39;49m\u001b[38;5;241;43m15\u001b[39;49m\u001b[43m,\u001b[49m\n\u001b[1;32m      7\u001b[0m \u001b[43m                    \u001b[49m\u001b[43mvalidation_data\u001b[49m\u001b[38;5;241;43m=\u001b[39;49m\u001b[43m(\u001b[49m\u001b[43mX_test\u001b[49m\u001b[43m,\u001b[49m\u001b[43m \u001b[49m\u001b[43my_test\u001b[49m\u001b[43m)\u001b[49m\u001b[43m)\u001b[49m\n",
      "File \u001b[0;32m~/opt/anaconda3/lib/python3.9/site-packages/keras/utils/traceback_utils.py:65\u001b[0m, in \u001b[0;36mfilter_traceback.<locals>.error_handler\u001b[0;34m(*args, **kwargs)\u001b[0m\n\u001b[1;32m     63\u001b[0m filtered_tb \u001b[38;5;241m=\u001b[39m \u001b[38;5;28;01mNone\u001b[39;00m\n\u001b[1;32m     64\u001b[0m \u001b[38;5;28;01mtry\u001b[39;00m:\n\u001b[0;32m---> 65\u001b[0m     \u001b[38;5;28;01mreturn\u001b[39;00m \u001b[43mfn\u001b[49m\u001b[43m(\u001b[49m\u001b[38;5;241;43m*\u001b[39;49m\u001b[43margs\u001b[49m\u001b[43m,\u001b[49m\u001b[43m \u001b[49m\u001b[38;5;241;43m*\u001b[39;49m\u001b[38;5;241;43m*\u001b[39;49m\u001b[43mkwargs\u001b[49m\u001b[43m)\u001b[49m\n\u001b[1;32m     66\u001b[0m \u001b[38;5;28;01mexcept\u001b[39;00m \u001b[38;5;167;01mException\u001b[39;00m \u001b[38;5;28;01mas\u001b[39;00m e:\n\u001b[1;32m     67\u001b[0m     filtered_tb \u001b[38;5;241m=\u001b[39m _process_traceback_frames(e\u001b[38;5;241m.\u001b[39m__traceback__)\n",
      "File \u001b[0;32m~/opt/anaconda3/lib/python3.9/site-packages/keras/engine/training.py:1685\u001b[0m, in \u001b[0;36mModel.fit\u001b[0;34m(self, x, y, batch_size, epochs, verbose, callbacks, validation_split, validation_data, shuffle, class_weight, sample_weight, initial_epoch, steps_per_epoch, validation_steps, validation_batch_size, validation_freq, max_queue_size, workers, use_multiprocessing)\u001b[0m\n\u001b[1;32m   1677\u001b[0m \u001b[38;5;28;01mwith\u001b[39;00m tf\u001b[38;5;241m.\u001b[39mprofiler\u001b[38;5;241m.\u001b[39mexperimental\u001b[38;5;241m.\u001b[39mTrace(\n\u001b[1;32m   1678\u001b[0m     \u001b[38;5;124m\"\u001b[39m\u001b[38;5;124mtrain\u001b[39m\u001b[38;5;124m\"\u001b[39m,\n\u001b[1;32m   1679\u001b[0m     epoch_num\u001b[38;5;241m=\u001b[39mepoch,\n\u001b[0;32m   (...)\u001b[0m\n\u001b[1;32m   1682\u001b[0m     _r\u001b[38;5;241m=\u001b[39m\u001b[38;5;241m1\u001b[39m,\n\u001b[1;32m   1683\u001b[0m ):\n\u001b[1;32m   1684\u001b[0m     callbacks\u001b[38;5;241m.\u001b[39mon_train_batch_begin(step)\n\u001b[0;32m-> 1685\u001b[0m     tmp_logs \u001b[38;5;241m=\u001b[39m \u001b[38;5;28;43mself\u001b[39;49m\u001b[38;5;241;43m.\u001b[39;49m\u001b[43mtrain_function\u001b[49m\u001b[43m(\u001b[49m\u001b[43miterator\u001b[49m\u001b[43m)\u001b[49m\n\u001b[1;32m   1686\u001b[0m     \u001b[38;5;28;01mif\u001b[39;00m data_handler\u001b[38;5;241m.\u001b[39mshould_sync:\n\u001b[1;32m   1687\u001b[0m         context\u001b[38;5;241m.\u001b[39masync_wait()\n",
      "File \u001b[0;32m~/opt/anaconda3/lib/python3.9/site-packages/tensorflow/python/util/traceback_utils.py:150\u001b[0m, in \u001b[0;36mfilter_traceback.<locals>.error_handler\u001b[0;34m(*args, **kwargs)\u001b[0m\n\u001b[1;32m    148\u001b[0m filtered_tb \u001b[38;5;241m=\u001b[39m \u001b[38;5;28;01mNone\u001b[39;00m\n\u001b[1;32m    149\u001b[0m \u001b[38;5;28;01mtry\u001b[39;00m:\n\u001b[0;32m--> 150\u001b[0m   \u001b[38;5;28;01mreturn\u001b[39;00m \u001b[43mfn\u001b[49m\u001b[43m(\u001b[49m\u001b[38;5;241;43m*\u001b[39;49m\u001b[43margs\u001b[49m\u001b[43m,\u001b[49m\u001b[43m \u001b[49m\u001b[38;5;241;43m*\u001b[39;49m\u001b[38;5;241;43m*\u001b[39;49m\u001b[43mkwargs\u001b[49m\u001b[43m)\u001b[49m\n\u001b[1;32m    151\u001b[0m \u001b[38;5;28;01mexcept\u001b[39;00m \u001b[38;5;167;01mException\u001b[39;00m \u001b[38;5;28;01mas\u001b[39;00m e:\n\u001b[1;32m    152\u001b[0m   filtered_tb \u001b[38;5;241m=\u001b[39m _process_traceback_frames(e\u001b[38;5;241m.\u001b[39m__traceback__)\n",
      "File \u001b[0;32m~/opt/anaconda3/lib/python3.9/site-packages/tensorflow/python/eager/polymorphic_function/polymorphic_function.py:894\u001b[0m, in \u001b[0;36mFunction.__call__\u001b[0;34m(self, *args, **kwds)\u001b[0m\n\u001b[1;32m    891\u001b[0m compiler \u001b[38;5;241m=\u001b[39m \u001b[38;5;124m\"\u001b[39m\u001b[38;5;124mxla\u001b[39m\u001b[38;5;124m\"\u001b[39m \u001b[38;5;28;01mif\u001b[39;00m \u001b[38;5;28mself\u001b[39m\u001b[38;5;241m.\u001b[39m_jit_compile \u001b[38;5;28;01melse\u001b[39;00m \u001b[38;5;124m\"\u001b[39m\u001b[38;5;124mnonXla\u001b[39m\u001b[38;5;124m\"\u001b[39m\n\u001b[1;32m    893\u001b[0m \u001b[38;5;28;01mwith\u001b[39;00m OptionalXlaContext(\u001b[38;5;28mself\u001b[39m\u001b[38;5;241m.\u001b[39m_jit_compile):\n\u001b[0;32m--> 894\u001b[0m   result \u001b[38;5;241m=\u001b[39m \u001b[38;5;28;43mself\u001b[39;49m\u001b[38;5;241;43m.\u001b[39;49m\u001b[43m_call\u001b[49m\u001b[43m(\u001b[49m\u001b[38;5;241;43m*\u001b[39;49m\u001b[43margs\u001b[49m\u001b[43m,\u001b[49m\u001b[43m \u001b[49m\u001b[38;5;241;43m*\u001b[39;49m\u001b[38;5;241;43m*\u001b[39;49m\u001b[43mkwds\u001b[49m\u001b[43m)\u001b[49m\n\u001b[1;32m    896\u001b[0m new_tracing_count \u001b[38;5;241m=\u001b[39m \u001b[38;5;28mself\u001b[39m\u001b[38;5;241m.\u001b[39mexperimental_get_tracing_count()\n\u001b[1;32m    897\u001b[0m without_tracing \u001b[38;5;241m=\u001b[39m (tracing_count \u001b[38;5;241m==\u001b[39m new_tracing_count)\n",
      "File \u001b[0;32m~/opt/anaconda3/lib/python3.9/site-packages/tensorflow/python/eager/polymorphic_function/polymorphic_function.py:926\u001b[0m, in \u001b[0;36mFunction._call\u001b[0;34m(self, *args, **kwds)\u001b[0m\n\u001b[1;32m    923\u001b[0m   \u001b[38;5;28mself\u001b[39m\u001b[38;5;241m.\u001b[39m_lock\u001b[38;5;241m.\u001b[39mrelease()\n\u001b[1;32m    924\u001b[0m   \u001b[38;5;66;03m# In this case we have created variables on the first call, so we run the\u001b[39;00m\n\u001b[1;32m    925\u001b[0m   \u001b[38;5;66;03m# defunned version which is guaranteed to never create variables.\u001b[39;00m\n\u001b[0;32m--> 926\u001b[0m   \u001b[38;5;28;01mreturn\u001b[39;00m \u001b[38;5;28;43mself\u001b[39;49m\u001b[38;5;241;43m.\u001b[39;49m\u001b[43m_no_variable_creation_fn\u001b[49m\u001b[43m(\u001b[49m\u001b[38;5;241;43m*\u001b[39;49m\u001b[43margs\u001b[49m\u001b[43m,\u001b[49m\u001b[43m \u001b[49m\u001b[38;5;241;43m*\u001b[39;49m\u001b[38;5;241;43m*\u001b[39;49m\u001b[43mkwds\u001b[49m\u001b[43m)\u001b[49m  \u001b[38;5;66;03m# pylint: disable=not-callable\u001b[39;00m\n\u001b[1;32m    927\u001b[0m \u001b[38;5;28;01melif\u001b[39;00m \u001b[38;5;28mself\u001b[39m\u001b[38;5;241m.\u001b[39m_variable_creation_fn \u001b[38;5;129;01mis\u001b[39;00m \u001b[38;5;129;01mnot\u001b[39;00m \u001b[38;5;28;01mNone\u001b[39;00m:\n\u001b[1;32m    928\u001b[0m   \u001b[38;5;66;03m# Release the lock early so that multiple threads can perform the call\u001b[39;00m\n\u001b[1;32m    929\u001b[0m   \u001b[38;5;66;03m# in parallel.\u001b[39;00m\n\u001b[1;32m    930\u001b[0m   \u001b[38;5;28mself\u001b[39m\u001b[38;5;241m.\u001b[39m_lock\u001b[38;5;241m.\u001b[39mrelease()\n",
      "File \u001b[0;32m~/opt/anaconda3/lib/python3.9/site-packages/tensorflow/python/eager/polymorphic_function/tracing_compiler.py:143\u001b[0m, in \u001b[0;36mTracingCompiler.__call__\u001b[0;34m(self, *args, **kwargs)\u001b[0m\n\u001b[1;32m    140\u001b[0m \u001b[38;5;28;01mwith\u001b[39;00m \u001b[38;5;28mself\u001b[39m\u001b[38;5;241m.\u001b[39m_lock:\n\u001b[1;32m    141\u001b[0m   (concrete_function,\n\u001b[1;32m    142\u001b[0m    filtered_flat_args) \u001b[38;5;241m=\u001b[39m \u001b[38;5;28mself\u001b[39m\u001b[38;5;241m.\u001b[39m_maybe_define_function(args, kwargs)\n\u001b[0;32m--> 143\u001b[0m \u001b[38;5;28;01mreturn\u001b[39;00m \u001b[43mconcrete_function\u001b[49m\u001b[38;5;241;43m.\u001b[39;49m\u001b[43m_call_flat\u001b[49m\u001b[43m(\u001b[49m\n\u001b[1;32m    144\u001b[0m \u001b[43m    \u001b[49m\u001b[43mfiltered_flat_args\u001b[49m\u001b[43m,\u001b[49m\u001b[43m \u001b[49m\u001b[43mcaptured_inputs\u001b[49m\u001b[38;5;241;43m=\u001b[39;49m\u001b[43mconcrete_function\u001b[49m\u001b[38;5;241;43m.\u001b[39;49m\u001b[43mcaptured_inputs\u001b[49m\u001b[43m)\u001b[49m\n",
      "File \u001b[0;32m~/opt/anaconda3/lib/python3.9/site-packages/tensorflow/python/eager/polymorphic_function/monomorphic_function.py:1757\u001b[0m, in \u001b[0;36mConcreteFunction._call_flat\u001b[0;34m(self, args, captured_inputs, cancellation_manager)\u001b[0m\n\u001b[1;32m   1753\u001b[0m possible_gradient_type \u001b[38;5;241m=\u001b[39m gradients_util\u001b[38;5;241m.\u001b[39mPossibleTapeGradientTypes(args)\n\u001b[1;32m   1754\u001b[0m \u001b[38;5;28;01mif\u001b[39;00m (possible_gradient_type \u001b[38;5;241m==\u001b[39m gradients_util\u001b[38;5;241m.\u001b[39mPOSSIBLE_GRADIENT_TYPES_NONE\n\u001b[1;32m   1755\u001b[0m     \u001b[38;5;129;01mand\u001b[39;00m executing_eagerly):\n\u001b[1;32m   1756\u001b[0m   \u001b[38;5;66;03m# No tape is watching; skip to running the function.\u001b[39;00m\n\u001b[0;32m-> 1757\u001b[0m   \u001b[38;5;28;01mreturn\u001b[39;00m \u001b[38;5;28mself\u001b[39m\u001b[38;5;241m.\u001b[39m_build_call_outputs(\u001b[38;5;28;43mself\u001b[39;49m\u001b[38;5;241;43m.\u001b[39;49m\u001b[43m_inference_function\u001b[49m\u001b[38;5;241;43m.\u001b[39;49m\u001b[43mcall\u001b[49m\u001b[43m(\u001b[49m\n\u001b[1;32m   1758\u001b[0m \u001b[43m      \u001b[49m\u001b[43mctx\u001b[49m\u001b[43m,\u001b[49m\u001b[43m \u001b[49m\u001b[43margs\u001b[49m\u001b[43m,\u001b[49m\u001b[43m \u001b[49m\u001b[43mcancellation_manager\u001b[49m\u001b[38;5;241;43m=\u001b[39;49m\u001b[43mcancellation_manager\u001b[49m\u001b[43m)\u001b[49m)\n\u001b[1;32m   1759\u001b[0m forward_backward \u001b[38;5;241m=\u001b[39m \u001b[38;5;28mself\u001b[39m\u001b[38;5;241m.\u001b[39m_select_forward_and_backward_functions(\n\u001b[1;32m   1760\u001b[0m     args,\n\u001b[1;32m   1761\u001b[0m     possible_gradient_type,\n\u001b[1;32m   1762\u001b[0m     executing_eagerly)\n\u001b[1;32m   1763\u001b[0m forward_function, args_with_tangents \u001b[38;5;241m=\u001b[39m forward_backward\u001b[38;5;241m.\u001b[39mforward()\n",
      "File \u001b[0;32m~/opt/anaconda3/lib/python3.9/site-packages/tensorflow/python/eager/polymorphic_function/monomorphic_function.py:381\u001b[0m, in \u001b[0;36m_EagerDefinedFunction.call\u001b[0;34m(self, ctx, args, cancellation_manager)\u001b[0m\n\u001b[1;32m    379\u001b[0m \u001b[38;5;28;01mwith\u001b[39;00m _InterpolateFunctionError(\u001b[38;5;28mself\u001b[39m):\n\u001b[1;32m    380\u001b[0m   \u001b[38;5;28;01mif\u001b[39;00m cancellation_manager \u001b[38;5;129;01mis\u001b[39;00m \u001b[38;5;28;01mNone\u001b[39;00m:\n\u001b[0;32m--> 381\u001b[0m     outputs \u001b[38;5;241m=\u001b[39m \u001b[43mexecute\u001b[49m\u001b[38;5;241;43m.\u001b[39;49m\u001b[43mexecute\u001b[49m\u001b[43m(\u001b[49m\n\u001b[1;32m    382\u001b[0m \u001b[43m        \u001b[49m\u001b[38;5;28;43mstr\u001b[39;49m\u001b[43m(\u001b[49m\u001b[38;5;28;43mself\u001b[39;49m\u001b[38;5;241;43m.\u001b[39;49m\u001b[43msignature\u001b[49m\u001b[38;5;241;43m.\u001b[39;49m\u001b[43mname\u001b[49m\u001b[43m)\u001b[49m\u001b[43m,\u001b[49m\n\u001b[1;32m    383\u001b[0m \u001b[43m        \u001b[49m\u001b[43mnum_outputs\u001b[49m\u001b[38;5;241;43m=\u001b[39;49m\u001b[38;5;28;43mself\u001b[39;49m\u001b[38;5;241;43m.\u001b[39;49m\u001b[43m_num_outputs\u001b[49m\u001b[43m,\u001b[49m\n\u001b[1;32m    384\u001b[0m \u001b[43m        \u001b[49m\u001b[43minputs\u001b[49m\u001b[38;5;241;43m=\u001b[39;49m\u001b[43margs\u001b[49m\u001b[43m,\u001b[49m\n\u001b[1;32m    385\u001b[0m \u001b[43m        \u001b[49m\u001b[43mattrs\u001b[49m\u001b[38;5;241;43m=\u001b[39;49m\u001b[43mattrs\u001b[49m\u001b[43m,\u001b[49m\n\u001b[1;32m    386\u001b[0m \u001b[43m        \u001b[49m\u001b[43mctx\u001b[49m\u001b[38;5;241;43m=\u001b[39;49m\u001b[43mctx\u001b[49m\u001b[43m)\u001b[49m\n\u001b[1;32m    387\u001b[0m   \u001b[38;5;28;01melse\u001b[39;00m:\n\u001b[1;32m    388\u001b[0m     outputs \u001b[38;5;241m=\u001b[39m execute\u001b[38;5;241m.\u001b[39mexecute_with_cancellation(\n\u001b[1;32m    389\u001b[0m         \u001b[38;5;28mstr\u001b[39m(\u001b[38;5;28mself\u001b[39m\u001b[38;5;241m.\u001b[39msignature\u001b[38;5;241m.\u001b[39mname),\n\u001b[1;32m    390\u001b[0m         num_outputs\u001b[38;5;241m=\u001b[39m\u001b[38;5;28mself\u001b[39m\u001b[38;5;241m.\u001b[39m_num_outputs,\n\u001b[0;32m   (...)\u001b[0m\n\u001b[1;32m    393\u001b[0m         ctx\u001b[38;5;241m=\u001b[39mctx,\n\u001b[1;32m    394\u001b[0m         cancellation_manager\u001b[38;5;241m=\u001b[39mcancellation_manager)\n",
      "File \u001b[0;32m~/opt/anaconda3/lib/python3.9/site-packages/tensorflow/python/eager/execute.py:52\u001b[0m, in \u001b[0;36mquick_execute\u001b[0;34m(op_name, num_outputs, inputs, attrs, ctx, name)\u001b[0m\n\u001b[1;32m     50\u001b[0m \u001b[38;5;28;01mtry\u001b[39;00m:\n\u001b[1;32m     51\u001b[0m   ctx\u001b[38;5;241m.\u001b[39mensure_initialized()\n\u001b[0;32m---> 52\u001b[0m   tensors \u001b[38;5;241m=\u001b[39m \u001b[43mpywrap_tfe\u001b[49m\u001b[38;5;241;43m.\u001b[39;49m\u001b[43mTFE_Py_Execute\u001b[49m\u001b[43m(\u001b[49m\u001b[43mctx\u001b[49m\u001b[38;5;241;43m.\u001b[39;49m\u001b[43m_handle\u001b[49m\u001b[43m,\u001b[49m\u001b[43m \u001b[49m\u001b[43mdevice_name\u001b[49m\u001b[43m,\u001b[49m\u001b[43m \u001b[49m\u001b[43mop_name\u001b[49m\u001b[43m,\u001b[49m\n\u001b[1;32m     53\u001b[0m \u001b[43m                                      \u001b[49m\u001b[43minputs\u001b[49m\u001b[43m,\u001b[49m\u001b[43m \u001b[49m\u001b[43mattrs\u001b[49m\u001b[43m,\u001b[49m\u001b[43m \u001b[49m\u001b[43mnum_outputs\u001b[49m\u001b[43m)\u001b[49m\n\u001b[1;32m     54\u001b[0m \u001b[38;5;28;01mexcept\u001b[39;00m core\u001b[38;5;241m.\u001b[39m_NotOkStatusException \u001b[38;5;28;01mas\u001b[39;00m e:\n\u001b[1;32m     55\u001b[0m   \u001b[38;5;28;01mif\u001b[39;00m name \u001b[38;5;129;01mis\u001b[39;00m \u001b[38;5;129;01mnot\u001b[39;00m \u001b[38;5;28;01mNone\u001b[39;00m:\n",
      "\u001b[0;31mKeyboardInterrupt\u001b[0m: "
     ]
    }
   ],
   "source": [
    "datagen = ImageDataGenerator(rotation_range=5)\n",
    "\n",
    "datagen.fit(X_train)\n",
    "cnn_15.compile(loss='categorical_crossentropy', optimizer=Adam(), metrics=['accuracy'])\n",
    "\n",
    "history_cnn_15 = cnn_15.fit(datagen.flow(X_train, y_train), epochs=15,\n",
    "                    validation_data=(X_test, y_test))"
   ]
  },
  {
   "cell_type": "code",
   "execution_count": 1,
   "id": "190c33fd",
   "metadata": {},
   "outputs": [
    {
     "name": "stderr",
     "output_type": "stream",
     "text": [
      "2023-06-16 14:39:24.890514: I tensorflow/core/platform/cpu_feature_guard.cc:182] This TensorFlow binary is optimized to use available CPU instructions in performance-critical operations.\n",
      "To enable the following instructions: AVX2 FMA, in other operations, rebuild TensorFlow with the appropriate compiler flags.\n",
      "/var/folders/mh/9l7f5q2x0bsc05929xvm2nnh0000gn/T/ipykernel_88375/1811008746.py:38: DeprecationWarning: KerasClassifier is deprecated, use Sci-Keras (https://github.com/adriangb/scikeras) instead. See https://www.adriangb.com/scikeras/stable/migration.html for help migrating.\n",
      "  cv_model = KerasClassifier(build_fn=model_wrapper, verbose=0)\n"
     ]
    },
    {
     "ename": "NameError",
     "evalue": "name 'X_train' is not defined",
     "output_type": "error",
     "traceback": [
      "\u001b[0;31m---------------------------------------------------------------------------\u001b[0m",
      "\u001b[0;31mNameError\u001b[0m                                 Traceback (most recent call last)",
      "Input \u001b[0;32mIn [1]\u001b[0m, in \u001b[0;36m<cell line: 41>\u001b[0;34m()\u001b[0m\n\u001b[1;32m     38\u001b[0m cv_model \u001b[38;5;241m=\u001b[39m KerasClassifier(build_fn\u001b[38;5;241m=\u001b[39mmodel_wrapper, verbose\u001b[38;5;241m=\u001b[39m\u001b[38;5;241m0\u001b[39m)\n\u001b[1;32m     40\u001b[0m grid_cv \u001b[38;5;241m=\u001b[39m GridSearchCV(estimator\u001b[38;5;241m=\u001b[39mcv_model, param_grid\u001b[38;5;241m=\u001b[39mparam_grid, cv\u001b[38;5;241m=\u001b[39m\u001b[38;5;241m4\u001b[39m)\n\u001b[0;32m---> 41\u001b[0m grid_result \u001b[38;5;241m=\u001b[39m grid_cv\u001b[38;5;241m.\u001b[39mfit(\u001b[43mX_train\u001b[49m, y_train)  \u001b[38;5;66;03m# Replace X_train and y_train with your training data\u001b[39;00m\n\u001b[1;32m     43\u001b[0m \u001b[38;5;28mprint\u001b[39m(\u001b[38;5;124m\"\u001b[39m\u001b[38;5;124mBest: \u001b[39m\u001b[38;5;132;01m%f\u001b[39;00m\u001b[38;5;124m using \u001b[39m\u001b[38;5;132;01m%s\u001b[39;00m\u001b[38;5;124m\"\u001b[39m \u001b[38;5;241m%\u001b[39m (grid_result\u001b[38;5;241m.\u001b[39mbest_score_, grid_result\u001b[38;5;241m.\u001b[39mbest_params_))\n",
      "\u001b[0;31mNameError\u001b[0m: name 'X_train' is not defined"
     ]
    }
   ],
   "source": [
    "from sklearn.model_selection import GridSearchCV\n",
    "from tensorflow import keras\n",
    "from tensorflow.keras import layers\n",
    "from tensorflow.keras.wrappers.scikit_learn import KerasClassifier\n",
    "\n",
    "def create_model(optimizer='adam', dropout_rate=0.0, learning_rate=0.001):\n",
    "    if optimizer == 'adam':\n",
    "        opt = keras.optimizers.Adam(learning_rate=learning_rate)\n",
    "    else:\n",
    "        opt = keras.optimizers.SGD(learning_rate=learning_rate)\n",
    "\n",
    "    model = keras.Sequential()\n",
    "    model.add(layers.Conv2D(32,(3,3), activation='relu', input_shape=(200, 200, 1)))\n",
    "    model.add(layers.MaxPooling2D((2,2)))\n",
    "    model.add(layers.Conv2D(64,(3,3), activation='relu'))\n",
    "    model.add(layers.MaxPooling2D((2,2)))\n",
    "    model.add(layers.Conv2D(64,(3,3), activation='relu'))\n",
    "    model.add(layers.MaxPooling2D((2,2)))\n",
    "    model.add(layers.Flatten())\n",
    "    model.add(layers.Dense(64, activation='relu'))\n",
    "    model.add(layers.Dropout(dropout_rate))\n",
    "    model.add(layers.Dense(6, activation='softmax'))\n",
    "\n",
    "    model.compile(loss='categorical_crossentropy', optimizer=opt, metrics=['accuracy'])\n",
    "\n",
    "    return model\n",
    "\n",
    "# Define a wrapper function that passes the parameters to create_model\n",
    "def model_wrapper(optimizer, dropout_rate, learning_rate):\n",
    "    return lambda: create_model(optimizer=optimizer, dropout_rate=dropout_rate, learning_rate=learning_rate)\n",
    "\n",
    "param_grid = {\n",
    "    'optimizer': ['sgd', 'adam'],\n",
    "    'dropout_rate': [0, 0.1, 0.2, 0.3],\n",
    "    'learning_rate': [0.001, 0.01, 0.05, 0.1]\n",
    "}\n",
    "\n",
    "cv_model = KerasClassifier(build_fn=model_wrapper, verbose=0)\n",
    "\n",
    "grid_cv = GridSearchCV(estimator=cv_model, param_grid=param_grid, cv=4)\n",
    "grid_result = grid_cv.fit(X_train, y_train)  # Replace X_train and y_train with your training data\n",
    "\n",
    "print(\"Best: %f using %s\" % (grid_result.best_score_, grid_result.best_params_))\n"
   ]
  }
 ],
 "metadata": {
  "kernelspec": {
   "display_name": "Python 3 (ipykernel)",
   "language": "python",
   "name": "python3"
  },
  "language_info": {
   "codemirror_mode": {
    "name": "ipython",
    "version": 3
   },
   "file_extension": ".py",
   "mimetype": "text/x-python",
   "name": "python",
   "nbconvert_exporter": "python",
   "pygments_lexer": "ipython3",
   "version": "3.9.12"
  }
 },
 "nbformat": 4,
 "nbformat_minor": 5
}
